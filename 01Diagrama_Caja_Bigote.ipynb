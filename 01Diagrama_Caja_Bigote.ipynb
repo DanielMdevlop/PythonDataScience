{
  "nbformat": 4,
  "nbformat_minor": 0,
  "metadata": {
    "colab": {
      "name": "01Diagrama_Caja_Bigote.ipynb",
      "provenance": [],
      "collapsed_sections": [],
      "include_colab_link": true
    },
    "kernelspec": {
      "name": "python3",
      "display_name": "Python 3"
    }
  },
  "cells": [
    {
      "cell_type": "markdown",
      "metadata": {
        "id": "view-in-github",
        "colab_type": "text"
      },
      "source": [
        "<a href=\"https://colab.research.google.com/github/DanielMdevlop/PythonDataScience/blob/main/01Diagrama_Caja_Bigote.ipynb\" target=\"_parent\"><img src=\"https://colab.research.google.com/assets/colab-badge.svg\" alt=\"Open In Colab\"/></a>"
      ]
    },
    {
      "cell_type": "code",
      "metadata": {
        "id": "Tu7FEFZJs_t0"
      },
      "source": [
        "import numpy as np\n",
        "import matplotlib.pyplot as plt\n",
        "import seaborn as sns\n",
        "\n",
        "%matplotlib inline"
      ],
      "execution_count": null,
      "outputs": []
    },
    {
      "cell_type": "code",
      "metadata": {
        "id": "VdQ4B86vtOw9",
        "outputId": "b1eba085-1658-4d10-8756-a0aa9f979264",
        "colab": {
          "base_uri": "https://localhost:8080/",
          "height": 34
        }
      },
      "source": [
        "#Generar un conjunto de datos\n",
        "\n",
        "lista = [1.52, 1.52, 1.53, 1.53, 1.57, 1.58, 1.58, 1.60, 1.64, 1.64, 1.64, 1.66, 1.66, 1.74, 1.76, 1.79]\n",
        "print(\"Cantidad de datos es: \",len(lista))\n"
      ],
      "execution_count": null,
      "outputs": [
        {
          "output_type": "stream",
          "text": [
            "Cantidad de datos es:  16\n"
          ],
          "name": "stdout"
        }
      ]
    },
    {
      "cell_type": "code",
      "metadata": {
        "id": "jAsu1vYjuGKc",
        "outputId": "f797b2ef-ead1-4152-f511-b04db9a81f77",
        "colab": {
          "base_uri": "https://localhost:8080/",
          "height": 102
        }
      },
      "source": [
        "\n",
        "x = np.array(lista)\n",
        "n = x.size\n",
        "val_min = np.min(x)\n",
        "val_pos_Q1 = 0.25 * (n + 1)\n",
        "Q1 = x[int(val_pos_Q1)] \n",
        "Q2 = np.median(x)\n",
        "val_pos_Q3 = 0.75 * (n + 1)\n",
        "Q3 = x[int(val_pos_Q3)]\n",
        "val_max = np.max(x)\n",
        "print(\"El valor minimo es: \", val_min)\n",
        "print(\"El valor de Q1 es: \", Q1)\n",
        "print(\"El valor de mediana (Q2) es: \", Q2)\n",
        "print(\"El valor de Q3 es: \", Q3)\n",
        "print(\"El valor maximo es: \", val_max)"
      ],
      "execution_count": null,
      "outputs": [
        {
          "output_type": "stream",
          "text": [
            "El valor minimo es:  1.52\n",
            "El valor de Q1 es:  1.57\n",
            "El valor de mediana (Q2) es:  1.62\n",
            "El valor de Q3 es:  1.66\n",
            "El valor maximo es:  1.79\n"
          ],
          "name": "stdout"
        }
      ]
    },
    {
      "cell_type": "code",
      "metadata": {
        "id": "VHlvrzRJz2LJ",
        "outputId": "ba11b53d-a1d6-41ac-d786-00cfb690a89a",
        "colab": {
          "base_uri": "https://localhost:8080/",
          "height": 102
        }
      },
      "source": [
        "x = np.array(lista)\n",
        "n = x.size\n",
        "val_min = np.min(x)\n",
        "\n",
        "Q1 = np.percentile(x,25)\n",
        "Q2 = np.median(x)\n",
        "Q3 = np.percentile(x,75)\n",
        "val_max = np.max(x)\n",
        "\n",
        "print(\"El valor minimo es: \", val_min)\n",
        "print(\"El valor de Q1 es: \", Q1)\n",
        "print(\"El valor de mediana (Q2) es: \", Q2)\n",
        "print(\"El valor de Q3 es: \", Q3)\n",
        "print(\"El valor maximo es: \", val_max)"
      ],
      "execution_count": null,
      "outputs": [
        {
          "output_type": "stream",
          "text": [
            "El valor minimo es:  1.52\n",
            "El valor de Q1 es:  1.56\n",
            "El valor de mediana (Q2) es:  1.62\n",
            "El valor de Q3 es:  1.66\n",
            "El valor maximo es:  1.79\n"
          ],
          "name": "stdout"
        }
      ]
    },
    {
      "cell_type": "code",
      "metadata": {
        "id": "jNza6JsgwUcc",
        "outputId": "48640c5f-5b1a-49f6-805c-fd171ebddd5d",
        "colab": {
          "base_uri": "https://localhost:8080/",
          "height": 265
        }
      },
      "source": [
        "plt.boxplot(x,vert=False)\n",
        "plt.grid()\n",
        "plt.show()"
      ],
      "execution_count": null,
      "outputs": [
        {
          "output_type": "display_data",
          "data": {
            "image/png": "[encoded data removed]",
            "text/plain": [
              "<Figure size 432x288 with 1 Axes>"
            ]
          },
          "metadata": {
            "tags": [],
            "needs_background": "light"
          }
        }
      ]
    },
    {
      "cell_type": "code",
      "metadata": {
        "id": "2cj7CLtJuynd",
        "outputId": "e1ea06fd-0a8e-45b3-9be0-495a8c6dcd9e",
        "colab": {
          "base_uri": "https://localhost:8080/",
          "height": 265
        }
      },
      "source": [
        "sns.boxplot(data=x,orient=\"h\")\n",
        "plt.show()"
      ],
      "execution_count": null,
      "outputs": [
        {
          "output_type": "display_data",
          "data": {
            "image/png": "[encoded data removed]",
            "text/plain": [
              "<Figure size 432x288 with 1 Axes>"
            ]
          },
          "metadata": {
            "tags": [],
            "needs_background": "light"
          }
        }
      ]
    },
    {
      "cell_type": "code",
      "metadata": {
        "id": "-FW2AcH50sBM",
        "outputId": "abddd0dd-5110-4cf0-9868-86d92e87b6e2",
        "colab": {
          "base_uri": "https://localhost:8080/",
          "height": 34
        }
      },
      "source": [
        "17/4"
      ],
      "execution_count": null,
      "outputs": [
        {
          "output_type": "execute_result",
          "data": {
            "text/plain": [
              "4.25"
            ]
          },
          "metadata": {
            "tags": []
          },
          "execution_count": 36
        }
      ]
    },
    {
      "cell_type": "code",
      "metadata": {
        "id": "rglDiEOJ0xBv",
        "outputId": "bad3a032-3dab-4b08-d22b-c9fc85cf5198",
        "colab": {
          "base_uri": "https://localhost:8080/",
          "height": 34
        }
      },
      "source": [
        "0.25*(17)"
      ],
      "execution_count": null,
      "outputs": [
        {
          "output_type": "execute_result",
          "data": {
            "text/plain": [
              "4.25"
            ]
          },
          "metadata": {
            "tags": []
          },
          "execution_count": 39
        }
      ]
    },
    {
      "cell_type": "code",
      "metadata": {
        "id": "jpTXFkVF1X6i",
        "outputId": "4f9b8f63-1a63-425d-8dac-92b5875aba46",
        "colab": {
          "base_uri": "https://localhost:8080/",
          "height": 34
        }
      },
      "source": [
        "z =1.53+1.57\n",
        "z/2"
      ],
      "execution_count": null,
      "outputs": [
        {
          "output_type": "execute_result",
          "data": {
            "text/plain": [
              "1.55"
            ]
          },
          "metadata": {
            "tags": []
          },
          "execution_count": 40
        }
      ]
    }
  ]
}