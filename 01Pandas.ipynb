{
  "nbformat": 4,
  "nbformat_minor": 0,
  "metadata": {
    "colab": {
      "name": "01Pandas.ipynb",
      "provenance": [],
      "collapsed_sections": [],
      "include_colab_link": true
    },
    "kernelspec": {
      "name": "python3",
      "display_name": "Python 3"
    }
  },
  "cells": [
    {
      "cell_type": "markdown",
      "metadata": {
        "id": "view-in-github",
        "colab_type": "text"
      },
      "source": [
        "<a href=\"https://colab.research.google.com/github/DanielMdevlop/PythonDataScience/blob/main/01Pandas.ipynb\" target=\"_parent\"><img src=\"https://colab.research.google.com/assets/colab-badge.svg\" alt=\"Open In Colab\"/></a>"
      ]
    },
    {
      "cell_type": "markdown",
      "metadata": {
        "id": "Vv5q_JAT55gq"
      },
      "source": [
        "# **Pandas**"
      ]
    },
    {
      "cell_type": "markdown",
      "metadata": {
        "id": "sqILbkjV58YU"
      },
      "source": [
        "**¿Qué es pandas?**\n",
        "\n",
        "pandas es una libreria de codigo abierto con licencia BSD que proporciona estructuras de datos de alto rendimiento y faciles de usar, ademas de herramientas de analisis de datos para el lenguaje de programación Python."
      ]
    },
    {
      "cell_type": "code",
      "metadata": {
        "id": "0cZOCiPz8D7Q"
      },
      "source": [
        "import numpy as np\n",
        "import pandas as pd"
      ],
      "execution_count": null,
      "outputs": []
    },
    {
      "cell_type": "markdown",
      "metadata": {
        "id": "4iZ128dn6aak"
      },
      "source": [
        "**Estructuras de pandas**"
      ]
    },
    {
      "cell_type": "markdown",
      "metadata": {
        "id": "M_SIFL746nFM"
      },
      "source": [
        "**Primera estruturas: Series**\n",
        "\n",
        "Arreglo unidimensional (vector), homogeneo y etiquetado."
      ]
    },
    {
      "cell_type": "code",
      "metadata": {
        "id": "nz1d5pFj6u6N",
        "outputId": "50b3b062-bba0-496f-8eac-ba1ca72088be",
        "colab": {
          "base_uri": "https://localhost:8080/",
          "height": 136
        }
      },
      "source": [
        "s = pd.Series([1, 3, 5, np.nan, 6, 8], index=['a', 'b', 'c', 'd', 'e', 'f'])\n",
        "s"
      ],
      "execution_count": null,
      "outputs": [
        {
          "output_type": "execute_result",
          "data": {
            "text/plain": [
              "a    1.0\n",
              "b    3.0\n",
              "c    5.0\n",
              "d    NaN\n",
              "e    6.0\n",
              "f    8.0\n",
              "dtype: float64"
            ]
          },
          "metadata": {
            "tags": []
          },
          "execution_count": 2
        }
      ]
    },
    {
      "cell_type": "code",
      "metadata": {
        "id": "hia0Pnkw8g66",
        "outputId": "94fe7b59-1ca9-4916-dc3d-6636116ab0b5",
        "colab": {
          "base_uri": "https://localhost:8080/",
          "height": 34
        }
      },
      "source": [
        "#Acceder a  los datos por su etiqueta\n",
        "s['b']"
      ],
      "execution_count": null,
      "outputs": [
        {
          "output_type": "execute_result",
          "data": {
            "text/plain": [
              "3.0"
            ]
          },
          "metadata": {
            "tags": []
          },
          "execution_count": 6
        }
      ]
    },
    {
      "cell_type": "code",
      "metadata": {
        "id": "ewwkGMCN6QVO",
        "outputId": "0e5d0e32-5476-456a-971e-36171cdd0958",
        "colab": {
          "base_uri": "https://localhost:8080/",
          "height": 34
        }
      },
      "source": [
        "#Acceder a los datos por su posición\n",
        "s[0]"
      ],
      "execution_count": null,
      "outputs": [
        {
          "output_type": "execute_result",
          "data": {
            "text/plain": [
              "1.0"
            ]
          },
          "metadata": {
            "tags": []
          },
          "execution_count": 7
        }
      ]
    },
    {
      "cell_type": "markdown",
      "metadata": {
        "id": "4pFumbWz-S1Q"
      },
      "source": [
        "**Segunda estructura: Dataframes**\n",
        "\n",
        "Estructura tabular bidimensional (semejante a EXCEL), de tamaño modificable, etiquetada con columnas potencionalmente heterogéneas."
      ]
    },
    {
      "cell_type": "markdown",
      "metadata": {
        "id": "gksmX3rv-zuy"
      },
      "source": [
        "Creación de un DataFrame usando un array de NumPy, fecha como indice (index) y columnas etiquetadas."
      ]
    },
    {
      "cell_type": "code",
      "metadata": {
        "id": "37JgGAqA_AKz",
        "outputId": "adf52f09-76d9-40d4-a293-9f8ac3e19146",
        "colab": {
          "base_uri": "https://localhost:8080/",
          "height": 68
        }
      },
      "source": [
        "dates = pd.date_range('20200510', periods=6)  #Crear rangos de fechas. y especificando los periodos\n",
        "dates"
      ],
      "execution_count": null,
      "outputs": [
        {
          "output_type": "execute_result",
          "data": {
            "text/plain": [
              "DatetimeIndex(['2020-05-10', '2020-05-11', '2020-05-12', '2020-05-13',\n",
              "               '2020-05-14', '2020-05-15'],\n",
              "              dtype='datetime64[ns]', freq='D')"
            ]
          },
          "metadata": {
            "tags": []
          },
          "execution_count": 8
        }
      ]
    },
    {
      "cell_type": "code",
      "metadata": {
        "id": "dba3qkSY53dR",
        "outputId": "0ae88c5a-4bcc-4ebc-fdb5-546d66af8738",
        "colab": {
          "base_uri": "https://localhost:8080/",
          "height": 235
        }
      },
      "source": [
        "df = pd.DataFrame(np.random.randn(6, 4), index=dates, columns=list('ABCD'))"
      ],
      "execution_count": null,
      "outputs": [
        {
          "output_type": "execute_result",
          "data": {
            "text/html": [
              "<div>\n",
              "<style scoped>\n",
              "    .dataframe tbody tr th:only-of-type {\n",
              "        vertical-align: middle;\n",
              "    }\n",
              "\n",
              "    .dataframe tbody tr th {\n",
              "        vertical-align: top;\n",
              "    }\n",
              "\n",
              "    .dataframe thead th {\n",
              "        text-align: right;\n",
              "    }\n",
              "</style>\n",
              "<table border=\"1\" class=\"dataframe\">\n",
              "  <thead>\n",
              "    <tr style=\"text-align: right;\">\n",
              "      <th></th>\n",
              "      <th>A</th>\n",
              "      <th>B</th>\n",
              "      <th>C</th>\n",
              "      <th>D</th>\n",
              "    </tr>\n",
              "  </thead>\n",
              "  <tbody>\n",
              "    <tr>\n",
              "      <th>2020-05-10</th>\n",
              "      <td>-0.374802</td>\n",
              "      <td>0.484869</td>\n",
              "      <td>-1.561534</td>\n",
              "      <td>-1.930961</td>\n",
              "    </tr>\n",
              "    <tr>\n",
              "      <th>2020-05-11</th>\n",
              "      <td>-1.297488</td>\n",
              "      <td>0.280758</td>\n",
              "      <td>-2.160468</td>\n",
              "      <td>-1.521219</td>\n",
              "    </tr>\n",
              "    <tr>\n",
              "      <th>2020-05-12</th>\n",
              "      <td>-0.648745</td>\n",
              "      <td>-0.867202</td>\n",
              "      <td>-0.495789</td>\n",
              "      <td>0.956393</td>\n",
              "    </tr>\n",
              "    <tr>\n",
              "      <th>2020-05-13</th>\n",
              "      <td>-1.510627</td>\n",
              "      <td>2.045007</td>\n",
              "      <td>-0.070353</td>\n",
              "      <td>0.883430</td>\n",
              "    </tr>\n",
              "    <tr>\n",
              "      <th>2020-05-14</th>\n",
              "      <td>0.823134</td>\n",
              "      <td>1.705213</td>\n",
              "      <td>-0.052706</td>\n",
              "      <td>0.417172</td>\n",
              "    </tr>\n",
              "    <tr>\n",
              "      <th>2020-05-15</th>\n",
              "      <td>-0.034667</td>\n",
              "      <td>0.838147</td>\n",
              "      <td>-0.053960</td>\n",
              "      <td>1.661799</td>\n",
              "    </tr>\n",
              "  </tbody>\n",
              "</table>\n",
              "</div>"
            ],
            "text/plain": [
              "                   A         B         C         D\n",
              "2020-05-10 -0.374802  0.484869 -1.561534 -1.930961\n",
              "2020-05-11 -1.297488  0.280758 -2.160468 -1.521219\n",
              "2020-05-12 -0.648745 -0.867202 -0.495789  0.956393\n",
              "2020-05-13 -1.510627  2.045007 -0.070353  0.883430\n",
              "2020-05-14  0.823134  1.705213 -0.052706  0.417172\n",
              "2020-05-15 -0.034667  0.838147 -0.053960  1.661799"
            ]
          },
          "metadata": {
            "tags": []
          },
          "execution_count": 10
        }
      ]
    },
    {
      "cell_type": "markdown",
      "metadata": {
        "id": "2-etvMkJCVUI"
      },
      "source": [
        "Creación de un DataFrame usando diccionarios (dic)"
      ]
    },
    {
      "cell_type": "code",
      "metadata": {
        "id": "5XjiuD7hCa8q",
        "outputId": "d620e777-5665-4e59-b4f9-1199f8594737",
        "colab": {
          "base_uri": "https://localhost:8080/",
          "height": 173
        }
      },
      "source": [
        "df2 = pd.DataFrame({'A' : 1, 'B' : pd.Timestamp('20130102'), \n",
        "                    'C' : pd.Series(1, index=list(range(4)), dtype='float' ), \n",
        "                    'D' : np.array([3] * 4, dtype='int32'), \n",
        "                    'E' : pd.Categorical([\"test\", \"train\", \"test\", \"train\"]),\n",
        "                    \"F\" : 'foo'},\n",
        "                   index=['f', 'g', 'h', 'i'])\n",
        "df2"
      ],
      "execution_count": null,
      "outputs": [
        {
          "output_type": "execute_result",
          "data": {
            "text/html": [
              "<div>\n",
              "<style scoped>\n",
              "    .dataframe tbody tr th:only-of-type {\n",
              "        vertical-align: middle;\n",
              "    }\n",
              "\n",
              "    .dataframe tbody tr th {\n",
              "        vertical-align: top;\n",
              "    }\n",
              "\n",
              "    .dataframe thead th {\n",
              "        text-align: right;\n",
              "    }\n",
              "</style>\n",
              "<table border=\"1\" class=\"dataframe\">\n",
              "  <thead>\n",
              "    <tr style=\"text-align: right;\">\n",
              "      <th></th>\n",
              "      <th>A</th>\n",
              "      <th>B</th>\n",
              "      <th>C</th>\n",
              "      <th>D</th>\n",
              "      <th>E</th>\n",
              "      <th>F</th>\n",
              "    </tr>\n",
              "  </thead>\n",
              "  <tbody>\n",
              "    <tr>\n",
              "      <th>f</th>\n",
              "      <td>1</td>\n",
              "      <td>2013-01-02</td>\n",
              "      <td>NaN</td>\n",
              "      <td>3</td>\n",
              "      <td>test</td>\n",
              "      <td>foo</td>\n",
              "    </tr>\n",
              "    <tr>\n",
              "      <th>g</th>\n",
              "      <td>1</td>\n",
              "      <td>2013-01-02</td>\n",
              "      <td>NaN</td>\n",
              "      <td>3</td>\n",
              "      <td>train</td>\n",
              "      <td>foo</td>\n",
              "    </tr>\n",
              "    <tr>\n",
              "      <th>h</th>\n",
              "      <td>1</td>\n",
              "      <td>2013-01-02</td>\n",
              "      <td>NaN</td>\n",
              "      <td>3</td>\n",
              "      <td>test</td>\n",
              "      <td>foo</td>\n",
              "    </tr>\n",
              "    <tr>\n",
              "      <th>i</th>\n",
              "      <td>1</td>\n",
              "      <td>2013-01-02</td>\n",
              "      <td>NaN</td>\n",
              "      <td>3</td>\n",
              "      <td>train</td>\n",
              "      <td>foo</td>\n",
              "    </tr>\n",
              "  </tbody>\n",
              "</table>\n",
              "</div>"
            ],
            "text/plain": [
              "   A          B   C  D      E    F\n",
              "f  1 2013-01-02 NaN  3   test  foo\n",
              "g  1 2013-01-02 NaN  3  train  foo\n",
              "h  1 2013-01-02 NaN  3   test  foo\n",
              "i  1 2013-01-02 NaN  3  train  foo"
            ]
          },
          "metadata": {
            "tags": []
          },
          "execution_count": 3
        }
      ]
    },
    {
      "cell_type": "code",
      "metadata": {
        "id": "84fq4uhm_rw-"
      },
      "source": [
        ""
      ],
      "execution_count": null,
      "outputs": []
    }
  ]
}