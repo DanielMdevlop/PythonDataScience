{
  "nbformat": 4,
  "nbformat_minor": 0,
  "metadata": {
    "colab": {
      "name": "Distribuciones.ipynb",
      "provenance": [],
      "collapsed_sections": [],
      "include_colab_link": true
    },
    "kernelspec": {
      "name": "python3",
      "display_name": "Python 3"
    }
  },
  "cells": [
    {
      "cell_type": "markdown",
      "metadata": {
        "id": "view-in-github",
        "colab_type": "text"
      },
      "source": [
        "<a href=\"https://colab.research.google.com/github/DanielMdevlop/PythonDataScience/blob/main/Distribuciones.ipynb\" target=\"_parent\"><img src=\"https://colab.research.google.com/assets/colab-badge.svg\" alt=\"Open In Colab\"/></a>"
      ]
    },
    {
      "cell_type": "code",
      "metadata": {
        "id": "4u71NBDg2yfj"
      },
      "source": [
        "import numpy as np\n",
        "import matplotlib.pyplot as plt\n",
        "import seaborn as sns\n",
        "import warnings\n",
        "\n",
        "%matplotlib inline\n",
        "warnings.filterwarnings(\"ignore\") #ocultar avisos"
      ],
      "execution_count": null,
      "outputs": []
    },
    {
      "cell_type": "markdown",
      "metadata": {
        "id": "6-oGbQzW3McJ"
      },
      "source": [
        "**Distribuciones univariadas**\n",
        "\n",
        "Con este tipo de graficas se puede observa la distribución de una variable (ver como se reparten a lo largo del eje horizontal) para ello el histograma es una buena opcion"
      ]
    },
    {
      "cell_type": "code",
      "metadata": {
        "id": "L-YN4VeB3ADS",
        "outputId": "46018c09-22cd-4c52-e714-553ee9893d24",
        "colab": {
          "base_uri": "https://localhost:8080/",
          "height": 369
        }
      },
      "source": [
        "y = np.random.normal(size=100)\n",
        "sns.displot(y);\n",
        "plt.show()"
      ],
      "execution_count": null,
      "outputs": [
        {
          "output_type": "display_data",
          "data": {
            "image/png": "[encoded data removed]",
            "text/plain": [
              "<Figure size 360x360 with 1 Axes>"
            ]
          },
          "metadata": {
            "tags": [],
            "needs_background": "light"
          }
        }
      ]
    },
    {
      "cell_type": "markdown",
      "metadata": {
        "id": "nE8ZwcCn31Gt"
      },
      "source": [
        "Rug plot\n",
        "\n",
        "Grafica de alfrombilla; muestra la distribución de una varfiable con marcas en un unico eje"
      ]
    },
    {
      "cell_type": "code",
      "metadata": {
        "id": "JPZiiblU4GVV",
        "outputId": "bf321a12-e923-4e1d-9dce-07d772cef1b7",
        "colab": {
          "base_uri": "https://localhost:8080/",
          "height": 269
        }
      },
      "source": [
        "y = np.random.normal(size=100)\n",
        "sns.rugplot(y);\n",
        "plt.show()"
      ],
      "execution_count": null,
      "outputs": [
        {
          "output_type": "display_data",
          "data": {
            "image/png": "[encoded data removed]",
            "text/plain": [
              "<Figure size 432x288 with 1 Axes>"
            ]
          },
          "metadata": {
            "tags": [],
            "needs_background": "light"
          }
        }
      ]
    },
    {
      "cell_type": "markdown",
      "metadata": {
        "id": "0ysyr8St4ag-"
      },
      "source": [
        "El único argumento obligatorio es el array conteniendo los puntos. Es posible \n",
        "controlar la altura de las marcas y el eje en el que se va a mostrar con los \n",
        "arámetros height y axis, respectivamente. En el siguiente ejemplo se personalizan ambos:"
      ]
    },
    {
      "cell_type": "code",
      "metadata": {
        "id": "HpdW9LZf4c9Q",
        "outputId": "ef748814-218e-4cda-c5d7-c75cbcfb777f",
        "colab": {
          "base_uri": "https://localhost:8080/",
          "height": 265
        }
      },
      "source": [
        "sns.rugplot(y, height = 0.1, axis = \"y\")\n",
        "plt.show()"
      ],
      "execution_count": null,
      "outputs": [
        {
          "output_type": "display_data",
          "data": {
            "image/png": "[encoded data removed]",
            "text/plain": [
              "<Figure size 432x288 with 1 Axes>"
            ]
          },
          "metadata": {
            "tags": [],
            "needs_background": "light"
          }
        }
      ]
    },
    {
      "cell_type": "markdown",
      "metadata": {
        "id": "UeJ4iO_A5KIy"
      },
      "source": [
        "**Histogramas**\n"
      ]
    },
    {
      "cell_type": "code",
      "metadata": {
        "id": "2TgtlAvF5Oi7"
      },
      "source": [
        "y = np.random.normal(size=100)"
      ],
      "execution_count": null,
      "outputs": []
    },
    {
      "cell_type": "code",
      "metadata": {
        "id": "UenQ-tUq5SVG",
        "outputId": "1d7f084e-7b2a-4b42-bc1e-ad7b28a5a5dc",
        "colab": {
          "base_uri": "https://localhost:8080/",
          "height": 369
        }
      },
      "source": [
        "sns.displot(y,kde = False)\n",
        "plt.show()"
      ],
      "execution_count": null,
      "outputs": [
        {
          "output_type": "display_data",
          "data": {
            "image/png": "[encoded data removed]",
            "text/plain": [
              "<Figure size 360x360 with 1 Axes>"
            ]
          },
          "metadata": {
            "tags": [],
            "needs_background": "light"
          }
        }
      ]
    },
    {
      "cell_type": "code",
      "metadata": {
        "id": "qFEsX2XQ56J6",
        "outputId": "f98c86bb-fea4-4e50-9506-7b34df98b34f",
        "colab": {
          "base_uri": "https://localhost:8080/",
          "height": 265
        }
      },
      "source": [
        "sns.distplot(y, kde = False, bins = 20);"
      ],
      "execution_count": null,
      "outputs": [
        {
          "output_type": "display_data",
          "data": {
            "image/png": "[encoded data removed]",
            "text/plain": [
              "<Figure size 432x288 with 1 Axes>"
            ]
          },
          "metadata": {
            "tags": [],
            "needs_background": "light"
          }
        }
      ]
    }
  ]
}