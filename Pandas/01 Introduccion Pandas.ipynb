{
 "cells": [
  {
   "cell_type": "markdown",
   "id": "8d52e009",
   "metadata": {},
   "source": [
    "# Introducción a Pandas\n",
    "\n",
    "Los principales objetos ofrecidos por pandas son el **DataFrame** (Estructura tabular bidimencional) y la **serie** ambas basadas en el array multidimencional de NumPy. Cabe mencionar que Pandas supera ciertas limitaciones que tiene NumPy a la hora de realizar analisis de datos."
   ]
  },
  {
   "cell_type": "code",
   "execution_count": 9,
   "id": "f7a26ee9",
   "metadata": {},
   "outputs": [],
   "source": [
    "%config IPCompleter.greedy=True"
   ]
  },
  {
   "cell_type": "code",
   "execution_count": 1,
   "id": "69689736",
   "metadata": {},
   "outputs": [],
   "source": [
    "#Importacion de la libreia pandas con habitual alias pd\n",
    "\n",
    "import pandas as pd\n",
    "\n",
    "#Se imnporta la libreria NumPy para poder aprovechar la funcionalidad que ofrece sobre pandas\n",
    "#Hay que recordar que Pandas esta construida por NumPy, por eso NumPy es necesario \n",
    "import numpy as np"
   ]
  },
  {
   "cell_type": "markdown",
   "id": "43ef3444",
   "metadata": {},
   "source": [
    "## Introduccion a las series\n",
    "\n",
    "Son estructuras unidimensionales conteniendo un array de datos (de cualquier tipo soportado por NumPy)  y un array de etiquetas que van asociadas a los datos, llamado indice (index)"
   ]
  },
  {
   "cell_type": "code",
   "execution_count": 2,
   "id": "978f0d14",
   "metadata": {},
   "outputs": [
    {
     "data": {
      "text/plain": [
       "Ene    15\n",
       "Feb    12\n",
       "Mar    21\n",
       "dtype: int64"
      ]
     },
     "execution_count": 2,
     "metadata": {},
     "output_type": "execute_result"
    }
   ],
   "source": [
    "ventas = pd.Series([15, 12,21], index = [\"Ene\", \"Feb\", \"Mar\"])\n",
    "ventas"
   ]
  },
  {
   "cell_type": "code",
   "execution_count": 6,
   "id": "4954851c",
   "metadata": {},
   "outputs": [
    {
     "data": {
      "text/plain": [
       "15"
      ]
     },
     "execution_count": 6,
     "metadata": {},
     "output_type": "execute_result"
    }
   ],
   "source": [
    "#Extraer datos de la serie por indice\n",
    "ventas[0]"
   ]
  },
  {
   "cell_type": "code",
   "execution_count": 7,
   "id": "a4790d98",
   "metadata": {},
   "outputs": [
    {
     "data": {
      "text/plain": [
       "15"
      ]
     },
     "execution_count": 7,
     "metadata": {},
     "output_type": "execute_result"
    }
   ],
   "source": [
    "#Extraer datos por medio de la etiqueta\n",
    "ventas[\"Ene\"]"
   ]
  },
  {
   "cell_type": "code",
   "execution_count": 8,
   "id": "5c9dd46c",
   "metadata": {},
   "outputs": [
    {
     "data": {
      "text/plain": [
       "dtype('int64')"
      ]
     },
     "execution_count": 8,
     "metadata": {},
     "output_type": "execute_result"
    }
   ],
   "source": [
    "#Saber el tipo de la serie\n",
    "ventas.dtype"
   ]
  },
  {
   "cell_type": "code",
   "execution_count": 10,
   "id": "558979ca",
   "metadata": {},
   "outputs": [
    {
     "data": {
      "text/plain": [
       "Index(['Ene', 'Feb', 'Mar'], dtype='object')"
      ]
     },
     "execution_count": 10,
     "metadata": {},
     "output_type": "execute_result"
    }
   ],
   "source": [
    "#Acceso al objeto index de la serie\n",
    "ventas.index\n",
    "#Observe que el tipo de dato del objeto index es object"
   ]
  },
  {
   "cell_type": "code",
   "execution_count": 5,
   "id": "be524606",
   "metadata": {},
   "outputs": [
    {
     "data": {
      "text/plain": [
       "array([15, 12, 21], dtype=int64)"
      ]
     },
     "execution_count": 5,
     "metadata": {},
     "output_type": "execute_result"
    }
   ],
   "source": [
    "#Acceso al objeto de values de la serie\n",
    "ventas.values\n",
    "#Nos devuelve un array de NumPy con sus valores y el tipo de datos de ese array\n",
    "#print(type(ventas.values))  #Podemos ejecutar esta linea para comprobar lo dicho anteriormente"
   ]
  },
  {
   "cell_type": "markdown",
   "id": "20a27190",
   "metadata": {},
   "source": [
    "Acerca del atributo **name**"
   ]
  },
  {
   "cell_type": "code",
   "execution_count": 6,
   "id": "53078efb",
   "metadata": {},
   "outputs": [
    {
     "data": {
      "text/plain": [
       "'Ventas 2018'"
      ]
     },
     "execution_count": 6,
     "metadata": {},
     "output_type": "execute_result"
    }
   ],
   "source": [
    "#Podemos establecer un nombre a la serie, por medio del atributo name\n",
    "ventas.name = \"Ventas 2018\"\n",
    "ventas.name"
   ]
  },
  {
   "cell_type": "code",
   "execution_count": 15,
   "id": "07ab84de",
   "metadata": {},
   "outputs": [
    {
     "data": {
      "text/plain": [
       "Ene    15\n",
       "Feb    12\n",
       "Mar    21\n",
       "Name: Ventas 2018, dtype: int64"
      ]
     },
     "execution_count": 15,
     "metadata": {},
     "output_type": "execute_result"
    }
   ],
   "source": [
    "ventas"
   ]
  },
  {
   "cell_type": "code",
   "execution_count": 17,
   "id": "099e868d",
   "metadata": {},
   "outputs": [
    {
     "data": {
      "text/plain": [
       "MESES\n",
       "Ene    15\n",
       "Feb    12\n",
       "Mar    21\n",
       "Name: Ventas 2018, dtype: int64"
      ]
     },
     "execution_count": 17,
     "metadata": {},
     "output_type": "execute_result"
    }
   ],
   "source": [
    "#el objeto index tambien tiene el atributo name\n",
    "ventas.index.name = \"MESES\"\n",
    "ventas"
   ]
  },
  {
   "cell_type": "markdown",
   "id": "8c061c93",
   "metadata": {},
   "source": [
    "Otros atributos interesantes de la **Series**"
   ]
  },
  {
   "cell_type": "code",
   "execution_count": 18,
   "id": "c3b36b7a",
   "metadata": {},
   "outputs": [
    {
     "data": {
      "text/plain": [
       "[Index(['Ene', 'Feb', 'Mar'], dtype='object', name='MESES')]"
      ]
     },
     "execution_count": 18,
     "metadata": {},
     "output_type": "execute_result"
    }
   ],
   "source": [
    "#El atributo axes nos da un acceso a una lista con los ejes de la serie\n",
    "ventas.axes"
   ]
  },
  {
   "cell_type": "code",
   "execution_count": 19,
   "id": "73c79b02",
   "metadata": {},
   "outputs": [
    {
     "data": {
      "text/plain": [
       "(3,)"
      ]
     },
     "execution_count": 19,
     "metadata": {},
     "output_type": "execute_result"
    }
   ],
   "source": [
    "#El atributo shape nos devuelve el tamaño de la serie en tupla\n",
    "ventas.shape"
   ]
  },
  {
   "cell_type": "code",
   "execution_count": 8,
   "id": "9119f69d",
   "metadata": {},
   "outputs": [
    {
     "data": {
      "text/plain": [
       "3"
      ]
     },
     "execution_count": 8,
     "metadata": {},
     "output_type": "execute_result"
    }
   ],
   "source": [
    "#El atributo size, duvuelve el numero de elementos contenidas de la serie\n",
    "ventas.size"
   ]
  },
  {
   "cell_type": "code",
   "execution_count": 9,
   "id": "44b90550",
   "metadata": {},
   "outputs": [
    {
     "data": {
      "text/plain": [
       "False"
      ]
     },
     "execution_count": 9,
     "metadata": {},
     "output_type": "execute_result"
    }
   ],
   "source": [
    "#Indicador si una Serie/DataFrame esta vacio\n",
    "ventas.empty"
   ]
  },
  {
   "cell_type": "code",
   "execution_count": 10,
   "id": "bec47b56",
   "metadata": {},
   "outputs": [
    {
     "data": {
      "text/plain": [
       "dtype('int64')"
      ]
     },
     "execution_count": 10,
     "metadata": {},
     "output_type": "execute_result"
    }
   ],
   "source": [
    "#Devuelve el tipo de datos de la Serie\n",
    "ventas.dtypes"
   ]
  },
  {
   "cell_type": "markdown",
   "id": "3b2cf617",
   "metadata": {},
   "source": [
    "## Introduccion a los DataFrames\n",
    " Son estrcuturas tabulares de datos orientadas a columnas, con etiquetas tanto en filas como en columnas"
   ]
  },
  {
   "cell_type": "code",
   "execution_count": 12,
   "id": "8db4aca3",
   "metadata": {},
   "outputs": [
    {
     "data": {
      "text/html": [
       "<div>\n",
       "<style scoped>\n",
       "    .dataframe tbody tr th:only-of-type {\n",
       "        vertical-align: middle;\n",
       "    }\n",
       "\n",
       "    .dataframe tbody tr th {\n",
       "        vertical-align: top;\n",
       "    }\n",
       "\n",
       "    .dataframe thead th {\n",
       "        text-align: right;\n",
       "    }\n",
       "</style>\n",
       "<table border=\"1\" class=\"dataframe\">\n",
       "  <thead>\n",
       "    <tr style=\"text-align: right;\">\n",
       "      <th></th>\n",
       "      <th>Entradas</th>\n",
       "      <th>Salidas</th>\n",
       "      <th>Valoracion</th>\n",
       "      <th>Limite</th>\n",
       "      <th>Cambio</th>\n",
       "    </tr>\n",
       "  </thead>\n",
       "  <tbody>\n",
       "    <tr>\n",
       "      <th>Ene</th>\n",
       "      <td>41</td>\n",
       "      <td>17</td>\n",
       "      <td>66</td>\n",
       "      <td>No</td>\n",
       "      <td>1.43</td>\n",
       "    </tr>\n",
       "    <tr>\n",
       "      <th>Feb</th>\n",
       "      <td>32</td>\n",
       "      <td>54</td>\n",
       "      <td>54</td>\n",
       "      <td>Si</td>\n",
       "      <td>1.16</td>\n",
       "    </tr>\n",
       "    <tr>\n",
       "      <th>Mar</th>\n",
       "      <td>56</td>\n",
       "      <td>6</td>\n",
       "      <td>49</td>\n",
       "      <td>No</td>\n",
       "      <td>-0.67</td>\n",
       "    </tr>\n",
       "    <tr>\n",
       "      <th>Abr</th>\n",
       "      <td>18</td>\n",
       "      <td>78</td>\n",
       "      <td>66</td>\n",
       "      <td>No</td>\n",
       "      <td>0.77</td>\n",
       "    </tr>\n",
       "  </tbody>\n",
       "</table>\n",
       "</div>"
      ],
      "text/plain": [
       "     Entradas  Salidas  Valoracion Limite  Cambio\n",
       "Ene        41       17          66     No    1.43\n",
       "Feb        32       54          54     Si    1.16\n",
       "Mar        56        6          49     No   -0.67\n",
       "Abr        18       78          66     No    0.77"
      ]
     },
     "execution_count": 12,
     "metadata": {},
     "output_type": "execute_result"
    }
   ],
   "source": [
    "#Creacion dataframe con ayuda del constructor DataFrame, pasandolo un \n",
    "#diccionario y una lista, donde el diccionario son las columnas y sus respectivos valortes\n",
    "#La lista son las etiquetas de las filas.\n",
    "ventas = pd.DataFrame({\"Entradas\" : [41, 32, 56, 18],\n",
    "                     \"Salidas\": [17, 54, 6, 78],\n",
    "                     \"Valoracion\": [66, 54, 49, 66],\n",
    "                     \"Limite\": [\"No\", \"Si\", \"No\", \"No\"],\n",
    "                     \"Cambio\": [1.43, 1.16, -0.67,0.77]\n",
    "                      },\n",
    "                     index = [\"Ene\", \"Feb\", \"Mar\", \"Abr\"]\n",
    "                     )\n",
    "ventas"
   ]
  },
  {
   "cell_type": "code",
   "execution_count": 13,
   "id": "ac62b818",
   "metadata": {},
   "outputs": [
    {
     "data": {
      "text/plain": [
       "Entradas        int64\n",
       "Salidas         int64\n",
       "Valoracion      int64\n",
       "Limite         object\n",
       "Cambio        float64\n",
       "dtype: object"
      ]
     },
     "execution_count": 13,
     "metadata": {},
     "output_type": "execute_result"
    }
   ],
   "source": [
    "#Acceder a los tipos de datos de cada una las columnas con el atributo dtypes.\n",
    "ventas.dtypes"
   ]
  },
  {
   "cell_type": "markdown",
   "id": "5cd5e85a",
   "metadata": {},
   "source": [
    "Para los DataFrames se tienen dos objetos para hacer referencia a los \"indices\"\n",
    "* **index** (indice de la filas, etiquetas filas)\n",
    "* **columns** (indice de las columnas, etiquetas columnas)\n",
    "\n",
    "Tanto para las *Series y DataFrames*, los objetos de tipo **Index**, **son inmutables**"
   ]
  },
  {
   "cell_type": "code",
   "execution_count": 25,
   "id": "e63114f5",
   "metadata": {},
   "outputs": [
    {
     "name": "stdout",
     "output_type": "stream",
     "text": [
      "Etiquetas filas: Index(['Ene', 'Feb', 'Mar', 'Abr'], dtype='object') \n",
      "\n",
      "Etiquetas columnas: Index(['Entradas', 'Salidas', 'Valoracion', 'Limite', 'Cambio'], dtype='object')\n"
     ]
    }
   ],
   "source": [
    "#Acceder a las etiquetas de las filos y columnas\n",
    "print(f'Etiquetas filas: {ventas.index} \\n')\n",
    "print(f'Etiquetas columnas: {ventas.columns}')\n",
    "#Ambas sentencias retornar un objetos de tipo Index"
   ]
  },
  {
   "cell_type": "code",
   "execution_count": 14,
   "id": "b4915a01",
   "metadata": {},
   "outputs": [
    {
     "data": {
      "text/html": [
       "<div>\n",
       "<style scoped>\n",
       "    .dataframe tbody tr th:only-of-type {\n",
       "        vertical-align: middle;\n",
       "    }\n",
       "\n",
       "    .dataframe tbody tr th {\n",
       "        vertical-align: top;\n",
       "    }\n",
       "\n",
       "    .dataframe thead th {\n",
       "        text-align: right;\n",
       "    }\n",
       "</style>\n",
       "<table border=\"1\" class=\"dataframe\">\n",
       "  <thead>\n",
       "    <tr style=\"text-align: right;\">\n",
       "      <th>Metricas</th>\n",
       "      <th>Entradas</th>\n",
       "      <th>Salidas</th>\n",
       "      <th>Valoracion</th>\n",
       "      <th>Limite</th>\n",
       "      <th>Cambio</th>\n",
       "    </tr>\n",
       "    <tr>\n",
       "      <th>Meses</th>\n",
       "      <th></th>\n",
       "      <th></th>\n",
       "      <th></th>\n",
       "      <th></th>\n",
       "      <th></th>\n",
       "    </tr>\n",
       "  </thead>\n",
       "  <tbody>\n",
       "    <tr>\n",
       "      <th>Ene</th>\n",
       "      <td>41</td>\n",
       "      <td>17</td>\n",
       "      <td>66</td>\n",
       "      <td>No</td>\n",
       "      <td>1.43</td>\n",
       "    </tr>\n",
       "    <tr>\n",
       "      <th>Feb</th>\n",
       "      <td>32</td>\n",
       "      <td>54</td>\n",
       "      <td>54</td>\n",
       "      <td>Si</td>\n",
       "      <td>1.16</td>\n",
       "    </tr>\n",
       "    <tr>\n",
       "      <th>Mar</th>\n",
       "      <td>56</td>\n",
       "      <td>6</td>\n",
       "      <td>49</td>\n",
       "      <td>No</td>\n",
       "      <td>-0.67</td>\n",
       "    </tr>\n",
       "    <tr>\n",
       "      <th>Abr</th>\n",
       "      <td>18</td>\n",
       "      <td>78</td>\n",
       "      <td>66</td>\n",
       "      <td>No</td>\n",
       "      <td>0.77</td>\n",
       "    </tr>\n",
       "  </tbody>\n",
       "</table>\n",
       "</div>"
      ],
      "text/plain": [
       "Metricas  Entradas  Salidas  Valoracion Limite  Cambio\n",
       "Meses                                                 \n",
       "Ene             41       17          66     No    1.43\n",
       "Feb             32       54          54     Si    1.16\n",
       "Mar             56        6          49     No   -0.67\n",
       "Abr             18       78          66     No    0.77"
      ]
     },
     "execution_count": 14,
     "metadata": {},
     "output_type": "execute_result"
    }
   ],
   "source": [
    "#Tambien podemos usar el atributo name para los objetos Index del DataFrame\n",
    "ventas.index.name = \"Meses\"\n",
    "ventas.columns.name = \"Metricas\"\n",
    "ventas"
   ]
  },
  {
   "cell_type": "markdown",
   "id": "9d03fcd1",
   "metadata": {},
   "source": [
    "Otros **Atributos** interesantes de los **DataFrame**"
   ]
  },
  {
   "cell_type": "code",
   "execution_count": 26,
   "id": "8322cf12",
   "metadata": {},
   "outputs": [
    {
     "data": {
      "text/plain": [
       "[Index(['Ene', 'Feb', 'Mar', 'Abr'], dtype='object'),\n",
       " Index(['Entradas', 'Salidas', 'Valoracion', 'Limite', 'Cambio'], dtype='object')]"
      ]
     },
     "execution_count": 26,
     "metadata": {},
     "output_type": "execute_result"
    }
   ],
   "source": [
    "#El atributo axes  devuelve una listad con los ejes de la estructura \n",
    "#dos al tratarse de una estructura bidimencional\n",
    "ventas.axes"
   ]
  },
  {
   "cell_type": "code",
   "execution_count": 15,
   "id": "7dd28737",
   "metadata": {},
   "outputs": [
    {
     "name": "stdout",
     "output_type": "stream",
     "text": [
      "Tipo de dato: <class 'numpy.ndarray'>\n"
     ]
    },
    {
     "data": {
      "text/plain": [
       "array([[41, 17, 66, 'No', 1.43],\n",
       "       [32, 54, 54, 'Si', 1.16],\n",
       "       [56, 6, 49, 'No', -0.67],\n",
       "       [18, 78, 66, 'No', 0.77]], dtype=object)"
      ]
     },
     "execution_count": 15,
     "metadata": {},
     "output_type": "execute_result"
    }
   ],
   "source": [
    "#Se puede acceder a los valores de un dataframe, con el atributo\n",
    "#values el cual nos retorna un array de NumPy 2d con los valores del DF\n",
    "print(f'Tipo de dato: {type(ventas.values)}')\n",
    "ventas.values"
   ]
  },
  {
   "cell_type": "code",
   "execution_count": 31,
   "id": "0f1e536c",
   "metadata": {},
   "outputs": [
    {
     "data": {
      "text/plain": [
       "(4, 5)"
      ]
     },
     "execution_count": 31,
     "metadata": {},
     "output_type": "execute_result"
    }
   ],
   "source": [
    "#Obtener las dimenciones o tamaño de un dataframe\n",
    "ventas.shape"
   ]
  },
  {
   "cell_type": "code",
   "execution_count": 16,
   "id": "5435f89c",
   "metadata": {},
   "outputs": [
    {
     "data": {
      "text/plain": [
       "20"
      ]
     },
     "execution_count": 16,
     "metadata": {},
     "output_type": "execute_result"
    }
   ],
   "source": [
    "#Retorna el numero de elementos contenidas en el DataFrame\n",
    "ventas.size"
   ]
  },
  {
   "cell_type": "code",
   "execution_count": 17,
   "id": "a253ef5d",
   "metadata": {},
   "outputs": [
    {
     "data": {
      "text/plain": [
       "False"
      ]
     },
     "execution_count": 17,
     "metadata": {},
     "output_type": "execute_result"
    }
   ],
   "source": [
    "#Retorna una bandera si el DataFrame esta vacio\n",
    "ventas.empty"
   ]
  }
 ],
 "metadata": {
  "kernelspec": {
   "display_name": "Python 3 (ipykernel)",
   "language": "python",
   "name": "python3"
  },
  "language_info": {
   "codemirror_mode": {
    "name": "ipython",
    "version": 3
   },
   "file_extension": ".py",
   "mimetype": "text/x-python",
   "name": "python",
   "nbconvert_exporter": "python",
   "pygments_lexer": "ipython3",
   "version": "3.9.7"
  }
 },
 "nbformat": 4,
 "nbformat_minor": 5
}
