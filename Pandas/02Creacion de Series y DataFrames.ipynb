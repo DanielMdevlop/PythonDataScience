{
 "cells": [
  {
   "cell_type": "markdown",
   "id": "2944e62f",
   "metadata": {},
   "source": [
    " # Creación de series y dataframes\n",
    " \n",
    "La creación de series y dataframes: **pd.Series y pd.DataFrames**, respectivamente. Estos constructores permiten crear estas estructuras a partir de diferentes tipos de variables: diccionarios, listas... También permiten personalizar las etiquetas de los índices, y filtrar y reordenar las etiquetas de columnas. Veamos los métodos principales."
   ]
  },
  {
   "cell_type": "code",
   "execution_count": 1,
   "id": "76af1a99",
   "metadata": {},
   "outputs": [],
   "source": [
    "import pandas as pd\n",
    "import numpy as np "
   ]
  },
  {
   "cell_type": "markdown",
   "id": "af5a5da3",
   "metadata": {},
   "source": [
    "## Creacion de Series\n",
    "\n",
    "Se utiliza el constructor **pandas.Series**, el cual acepta 3 argumentos principales:\n",
    "\n",
    "- **data**: estructura de datos tipo array, iterable, diccionario o valor escalar que contendrá los valores a introducir en la serie.\n",
    "- **index**: estructura tipo array con la misma longitud que los datos. Si este argumento no se añade al crear la serie, se agregará un índice por defecto formado por números enteros desde 0 hasta n-1, siendo n el número de datos.\n",
    "- **dtype**: tipo de datos para la serie. Si no se especifica, se inferirá a partir de los datos."
   ]
  },
  {
   "cell_type": "code",
   "execution_count": 5,
   "id": "60910196",
   "metadata": {},
   "outputs": [
    {
     "data": {
      "text/plain": [
       "0    7\n",
       "1    5\n",
       "2    3\n",
       "dtype: int64"
      ]
     },
     "execution_count": 5,
     "metadata": {},
     "output_type": "execute_result"
    }
   ],
   "source": [
    "#Creacion de una serie a parti de una lista o de un array de NumPY\n",
    "s = pd.Series([7, 5, 3])\n",
    "s\n",
    "#Como se especifico un indice, se cre uno por defecto de 0 a n-1"
   ]
  },
  {
   "cell_type": "code",
   "execution_count": 7,
   "id": "222f3936",
   "metadata": {},
   "outputs": [
    {
     "data": {
      "text/plain": [
       "Ene     10\n",
       "Feb     89\n",
       "Mar    100\n",
       "dtype: int64"
      ]
     },
     "execution_count": 7,
     "metadata": {},
     "output_type": "execute_result"
    }
   ],
   "source": [
    "s = pd.Series([10, 89, 100], index= [\"Ene\", \"Feb\", \"Mar\"])\n",
    "s\n",
    "#Ahora observamos que el indice especificado sustituye al por defecto\n",
    "#La longitud del indice debera coincidir con el numero de elementos\n"
   ]
  },
  {
   "cell_type": "code",
   "execution_count": null,
   "id": "6a9999ae",
   "metadata": {},
   "outputs": [],
   "source": []
  },
  {
   "cell_type": "code",
   "execution_count": null,
   "id": "a2488107",
   "metadata": {},
   "outputs": [],
   "source": []
  },
  {
   "cell_type": "code",
   "execution_count": null,
   "id": "ca4be962",
   "metadata": {},
   "outputs": [],
   "source": []
  },
  {
   "cell_type": "code",
   "execution_count": null,
   "id": "f4bcbecf",
   "metadata": {},
   "outputs": [],
   "source": []
  }
 ],
 "metadata": {
  "kernelspec": {
   "display_name": "Python 3 (ipykernel)",
   "language": "python",
   "name": "python3"
  },
  "language_info": {
   "codemirror_mode": {
    "name": "ipython",
    "version": 3
   },
   "file_extension": ".py",
   "mimetype": "text/x-python",
   "name": "python",
   "nbconvert_exporter": "python",
   "pygments_lexer": "ipython3",
   "version": "3.9.7"
  }
 },
 "nbformat": 4,
 "nbformat_minor": 5
}
