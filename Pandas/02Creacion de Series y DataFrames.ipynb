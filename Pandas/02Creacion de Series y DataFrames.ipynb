{
 "cells": [
  {
   "cell_type": "markdown",
   "id": "2944e62f",
   "metadata": {},
   "source": [
    " # Creación de series y dataframes\n",
    " \n",
    "La creación de series y dataframes: **pd.Series y pd.DataFrames**, respectivamente. Estos constructores permiten crear estas estructuras a partir de diferentes tipos de variables: diccionarios, listas... También permiten personalizar las etiquetas de los índices, y filtrar y reordenar las etiquetas de columnas. Veamos los métodos principales."
   ]
  },
  {
   "cell_type": "code",
   "execution_count": 2,
   "id": "76af1a99",
   "metadata": {},
   "outputs": [],
   "source": [
    "import pandas as pd\n",
    "import numpy as np "
   ]
  },
  {
   "cell_type": "markdown",
   "id": "af5a5da3",
   "metadata": {},
   "source": [
    "## Creacion de Series\n",
    "\n",
    "Se utiliza el constructor **pandas.Series**, el cual acepta 3 argumentos principales:\n",
    "\n",
    "- **data**: estructura de datos tipo array, iterable, diccionario o valor escalar que contendrá los valores a introducir en la serie.\n",
    "- **index**: estructura tipo array con la misma longitud que los datos. Si este argumento no se añade al crear la serie, se agregará un índice por defecto formado por números enteros desde 0 hasta n-1, siendo n el número de datos.\n",
    "- **dtype**: tipo de datos para la serie. Si no se especifica, se inferirá a partir de los datos."
   ]
  },
  {
   "cell_type": "markdown",
   "id": "4d777e4d",
   "metadata": {},
   "source": [
    "### Creacion de una serie a partir de una lista"
   ]
  },
  {
   "cell_type": "code",
   "execution_count": 3,
   "id": "60910196",
   "metadata": {},
   "outputs": [
    {
     "data": {
      "text/plain": [
       "0    7\n",
       "1    5\n",
       "2    3\n",
       "dtype: int64"
      ]
     },
     "execution_count": 3,
     "metadata": {},
     "output_type": "execute_result"
    }
   ],
   "source": [
    "#Creacion de una serie a parti de una lista o de un array de NumPY\n",
    "s = pd.Series([7, 5, 3])\n",
    "s\n",
    "#Como se especifico un indice, se cre uno por defecto de 0 a n-1"
   ]
  },
  {
   "cell_type": "code",
   "execution_count": 4,
   "id": "222f3936",
   "metadata": {},
   "outputs": [
    {
     "data": {
      "text/plain": [
       "Ene     10\n",
       "Feb     89\n",
       "Mar    100\n",
       "dtype: int64"
      ]
     },
     "execution_count": 4,
     "metadata": {},
     "output_type": "execute_result"
    }
   ],
   "source": [
    "s = pd.Series([10, 89, 100], index= [\"Ene\", \"Feb\", \"Mar\"])\n",
    "s\n",
    "#Ahora observamos que el indice especificado sustituye al por defecto\n",
    "#La longitud del indice debera coincidir con el numero de elementos\n"
   ]
  },
  {
   "cell_type": "markdown",
   "id": "a73dd464",
   "metadata": {},
   "source": [
    "### Creación de una serie a partir de un diccionario"
   ]
  },
  {
   "cell_type": "code",
   "execution_count": 5,
   "id": "a2488107",
   "metadata": {},
   "outputs": [
    {
     "data": {
      "text/plain": [
       "Ene    7\n",
       "Feb    5\n",
       "Mar    3\n",
       "dtype: int64"
      ]
     },
     "execution_count": 5,
     "metadata": {},
     "output_type": "execute_result"
    }
   ],
   "source": [
    "d = {\"Ene\":7, \"Feb\":5, \"Mar\":3}\n",
    "s = pd.Series(d)\n",
    "s"
   ]
  },
  {
   "cell_type": "code",
   "execution_count": 7,
   "id": "ca4be962",
   "metadata": {},
   "outputs": [
    {
     "data": {
      "text/plain": [
       "Abr    NaN\n",
       "Mar    3.0\n",
       "Feb    5.0\n",
       "Ene    7.0\n",
       "dtype: float64"
      ]
     },
     "execution_count": 7,
     "metadata": {},
     "output_type": "execute_result"
    }
   ],
   "source": [
    "\n",
    "d = {\"Ene\":7, \"Feb\":5, \"Mar\":3}\n",
    "s = pd.Series(d, index = [\"Abr\", \"Mar\", \"Feb\", \"Ene\"])\n",
    "s\n",
    "#Si especificamos el objeto index, lo que va a pasar es que\n",
    "#Se tomaran estas nuevas etiqueas en el orden que aparecen, pero si alguna de ellas\n",
    "#NO EXISTE en el diccionario definido previamente, entonces se le establecera un valor NaN,\n",
    "#Este valor hace que el tipo de la serie sea float"
   ]
  },
  {
   "cell_type": "markdown",
   "id": "378acfa2",
   "metadata": {},
   "source": [
    "### Creación de una Serie a partir de un escalar\n",
    "\n",
    "Si los datos son solo un escalar como 7 o 4.3, sera necesario especificar el indice, esto producira una serie con un numero de elementos igual al numero de etiquetas o indice espcifica y el valor de cada indice sera el escalar"
   ]
  },
  {
   "cell_type": "code",
   "execution_count": 9,
   "id": "f4bcbecf",
   "metadata": {},
   "outputs": [
    {
     "data": {
      "text/plain": [
       "Ene     7\n",
       "Feb     7\n",
       "Marz    7\n",
       "Abr     7\n",
       "dtype: int64"
      ]
     },
     "execution_count": 9,
     "metadata": {},
     "output_type": "execute_result"
    }
   ],
   "source": [
    "s = pd.Series(7, index = [\"Ene\", \"Feb\", \"Marz\",\"Abr\"])\n",
    "s"
   ]
  },
  {
   "cell_type": "markdown",
   "id": "dcca32da",
   "metadata": {},
   "source": [
    "## Creación de DataFrames\n",
    "\n",
    "El constructor de dataframes es pandas.DataFrame, el cual acepta cuatro parametros principales\n",
    "* **data**: estructura de datos ndarray (array NumPy), diccionario u otro DataFrame\n",
    "* **index**: indice aplicar a las filas. Si no se especifica, se asignara uno por defecto formado por numeros enteros entre 0 y n-1, siendo n el numero de filas del dataframe.\n",
    "* **columns**: etiquetas a palicar a las columnas. Al que ocurre con el indice de filas, si no se añade se asignara uno automatico formado por numeros enteros entre 0 y n-1, siendo n el numero de columnas.\n",
    "* **dtype**: tipo a aplicar a los datos. Solo se permite uno. Si no se especifica, se infiere el tipo de cada columna a partir de los datos que contengan."
   ]
  },
  {
   "cell_type": "markdown",
   "id": "5f19b34a",
   "metadata": {},
   "source": [
    "### Creación de DataFrame a partir de un diccionario de listas\n",
    "\n",
    "\n"
   ]
  },
  {
   "cell_type": "code",
   "execution_count": 11,
   "id": "af5fe00c",
   "metadata": {},
   "outputs": [
    {
     "data": {
      "text/plain": [
       "{'Numero atomico': [1, 6, 47, 88],\n",
       " 'Masa atomica': [1.008, 12.011, 107.87, 226],\n",
       " 'Familia': ['No metal', 'No metal', 'Metal', 'Metal']}"
      ]
     },
     "execution_count": 11,
     "metadata": {},
     "output_type": "execute_result"
    }
   ],
   "source": [
    "#Definimos un diccionario\n",
    "\n",
    "elementos = {\n",
    "    \"Numero atomico\" : [1, 6, 47, 88],\n",
    "    \"Masa atomica\" : [1.008, 12.011, 107.87, 226],\n",
    "    \"Familia\": [\"No metal\", \"No metal\", \"Metal\", \"Metal\"]\n",
    "}\n",
    "elementos"
   ]
  },
  {
   "cell_type": "code",
   "execution_count": 12,
   "id": "96341a7a",
   "metadata": {},
   "outputs": [
    {
     "data": {
      "text/html": [
       "<div>\n",
       "<style scoped>\n",
       "    .dataframe tbody tr th:only-of-type {\n",
       "        vertical-align: middle;\n",
       "    }\n",
       "\n",
       "    .dataframe tbody tr th {\n",
       "        vertical-align: top;\n",
       "    }\n",
       "\n",
       "    .dataframe thead th {\n",
       "        text-align: right;\n",
       "    }\n",
       "</style>\n",
       "<table border=\"1\" class=\"dataframe\">\n",
       "  <thead>\n",
       "    <tr style=\"text-align: right;\">\n",
       "      <th></th>\n",
       "      <th>Numero atomico</th>\n",
       "      <th>Masa atomica</th>\n",
       "      <th>Familia</th>\n",
       "    </tr>\n",
       "  </thead>\n",
       "  <tbody>\n",
       "    <tr>\n",
       "      <th>0</th>\n",
       "      <td>1</td>\n",
       "      <td>1.008</td>\n",
       "      <td>No metal</td>\n",
       "    </tr>\n",
       "    <tr>\n",
       "      <th>1</th>\n",
       "      <td>6</td>\n",
       "      <td>12.011</td>\n",
       "      <td>No metal</td>\n",
       "    </tr>\n",
       "    <tr>\n",
       "      <th>2</th>\n",
       "      <td>47</td>\n",
       "      <td>107.870</td>\n",
       "      <td>Metal</td>\n",
       "    </tr>\n",
       "    <tr>\n",
       "      <th>3</th>\n",
       "      <td>88</td>\n",
       "      <td>226.000</td>\n",
       "      <td>Metal</td>\n",
       "    </tr>\n",
       "  </tbody>\n",
       "</table>\n",
       "</div>"
      ],
      "text/plain": [
       "   Numero atomico  Masa atomica   Familia\n",
       "0               1         1.008  No metal\n",
       "1               6        12.011  No metal\n",
       "2              47       107.870     Metal\n",
       "3              88       226.000     Metal"
      ]
     },
     "execution_count": 12,
     "metadata": {},
     "output_type": "execute_result"
    }
   ],
   "source": [
    "#Creamos un DataFrame pasando el diccionario anterior como argumento\n",
    "tabla_periodica = pd.DataFrame(elementos)\n",
    "tabla_periodica\n",
    "#Observe que al especificar indice de filas, este se forma en automatico con valores de 0 a n-1"
   ]
  },
  {
   "cell_type": "markdown",
   "id": "2b3f87d3",
   "metadata": {},
   "source": [
    "Acontinuación volvemos a crear el dataframe, pasando 3 argumentos: elementos, index, columns\n",
    "\n",
    "**Nota**: Recordar que con el parametro columns podemos especificar el orden en el que se mostraran las columnas O tambien filtrar aquellas (Es decir aquellas columnas que no queremos mostrar, nos referimos a las claves presentes en el diccionario)"
   ]
  },
  {
   "cell_type": "code",
   "execution_count": 14,
   "id": "f93e932e",
   "metadata": {},
   "outputs": [
    {
     "data": {
      "text/html": [
       "<div>\n",
       "<style scoped>\n",
       "    .dataframe tbody tr th:only-of-type {\n",
       "        vertical-align: middle;\n",
       "    }\n",
       "\n",
       "    .dataframe tbody tr th {\n",
       "        vertical-align: top;\n",
       "    }\n",
       "\n",
       "    .dataframe thead th {\n",
       "        text-align: right;\n",
       "    }\n",
       "</style>\n",
       "<table border=\"1\" class=\"dataframe\">\n",
       "  <thead>\n",
       "    <tr style=\"text-align: right;\">\n",
       "      <th></th>\n",
       "      <th>Familia</th>\n",
       "      <th>Numero atomico</th>\n",
       "      <th>Masa atomica</th>\n",
       "    </tr>\n",
       "  </thead>\n",
       "  <tbody>\n",
       "    <tr>\n",
       "      <th>H</th>\n",
       "      <td>No metal</td>\n",
       "      <td>1</td>\n",
       "      <td>1.008</td>\n",
       "    </tr>\n",
       "    <tr>\n",
       "      <th>C</th>\n",
       "      <td>No metal</td>\n",
       "      <td>6</td>\n",
       "      <td>12.011</td>\n",
       "    </tr>\n",
       "    <tr>\n",
       "      <th>Ag</th>\n",
       "      <td>Metal</td>\n",
       "      <td>47</td>\n",
       "      <td>107.870</td>\n",
       "    </tr>\n",
       "    <tr>\n",
       "      <th>Ra</th>\n",
       "      <td>Metal</td>\n",
       "      <td>88</td>\n",
       "      <td>226.000</td>\n",
       "    </tr>\n",
       "  </tbody>\n",
       "</table>\n",
       "</div>"
      ],
      "text/plain": [
       "     Familia  Numero atomico  Masa atomica\n",
       "H   No metal               1         1.008\n",
       "C   No metal               6        12.011\n",
       "Ag     Metal              47       107.870\n",
       "Ra     Metal              88       226.000"
      ]
     },
     "execution_count": 14,
     "metadata": {},
     "output_type": "execute_result"
    }
   ],
   "source": [
    "#Creamos un DataFrame pasando el diccionario anterior como argumento y los indices de las filas y columnas\n",
    "tabla_periodica = pd.DataFrame(elementos,\n",
    "                               index = [\"H\", \"C\", \"Ag\", \"Ra\"],\n",
    "                               columns = [\"Familia\", \"Numero atomico\", \"Masa atomica\"]\n",
    "                              )\n",
    "tabla_periodica"
   ]
  },
  {
   "cell_type": "code",
   "execution_count": 16,
   "id": "b2508745",
   "metadata": {},
   "outputs": [
    {
     "data": {
      "text/html": [
       "<div>\n",
       "<style scoped>\n",
       "    .dataframe tbody tr th:only-of-type {\n",
       "        vertical-align: middle;\n",
       "    }\n",
       "\n",
       "    .dataframe tbody tr th {\n",
       "        vertical-align: top;\n",
       "    }\n",
       "\n",
       "    .dataframe thead th {\n",
       "        text-align: right;\n",
       "    }\n",
       "</style>\n",
       "<table border=\"1\" class=\"dataframe\">\n",
       "  <thead>\n",
       "    <tr style=\"text-align: right;\">\n",
       "      <th></th>\n",
       "      <th>Familia</th>\n",
       "      <th>Numero atomico</th>\n",
       "    </tr>\n",
       "  </thead>\n",
       "  <tbody>\n",
       "    <tr>\n",
       "      <th>H</th>\n",
       "      <td>No metal</td>\n",
       "      <td>1</td>\n",
       "    </tr>\n",
       "    <tr>\n",
       "      <th>C</th>\n",
       "      <td>No metal</td>\n",
       "      <td>6</td>\n",
       "    </tr>\n",
       "    <tr>\n",
       "      <th>Ag</th>\n",
       "      <td>Metal</td>\n",
       "      <td>47</td>\n",
       "    </tr>\n",
       "    <tr>\n",
       "      <th>Ra</th>\n",
       "      <td>Metal</td>\n",
       "      <td>88</td>\n",
       "    </tr>\n",
       "  </tbody>\n",
       "</table>\n",
       "</div>"
      ],
      "text/plain": [
       "     Familia  Numero atomico\n",
       "H   No metal               1\n",
       "C   No metal               6\n",
       "Ag     Metal              47\n",
       "Ra     Metal              88"
      ]
     },
     "execution_count": 16,
     "metadata": {},
     "output_type": "execute_result"
    }
   ],
   "source": [
    "tabla_periodica = pd.DataFrame(elementos,\n",
    "                               index = [\"H\", \"C\", \"Ag\", \"Ra\"],\n",
    "                               columns = [\"Familia\", \"Numero atomico\"] #Filtramos la Masa ATOMICA\n",
    "                              )\n",
    "tabla_periodica\n",
    "#No se muestra la columna masa atomica"
   ]
  },
  {
   "cell_type": "markdown",
   "id": "8de903b4",
   "metadata": {},
   "source": [
    "### Creación de un dataframe a partir de un array NumPy\n",
    "\n",
    "Si no se especifican las etiquetas de las filas y columnas, se asignan por defecto"
   ]
  },
  {
   "cell_type": "code",
   "execution_count": 17,
   "id": "b720116a",
   "metadata": {},
   "outputs": [
    {
     "data": {
      "text/plain": [
       "array([[2, 5, 3, 2],\n",
       "       [4, 6, 7, 2],\n",
       "       [3, 2, 4, 1]])"
      ]
     },
     "execution_count": 17,
     "metadata": {},
     "output_type": "execute_result"
    }
   ],
   "source": [
    "unidades_datos = np.array([[2, 5, 3, 2],\n",
    "                           [4, 6, 7, 2],\n",
    "                           [3, 2, 4, 1]])\n",
    "unidades_datos"
   ]
  },
  {
   "cell_type": "code",
   "execution_count": 18,
   "id": "d7c77969",
   "metadata": {},
   "outputs": [
    {
     "data": {
      "text/html": [
       "<div>\n",
       "<style scoped>\n",
       "    .dataframe tbody tr th:only-of-type {\n",
       "        vertical-align: middle;\n",
       "    }\n",
       "\n",
       "    .dataframe tbody tr th {\n",
       "        vertical-align: top;\n",
       "    }\n",
       "\n",
       "    .dataframe thead th {\n",
       "        text-align: right;\n",
       "    }\n",
       "</style>\n",
       "<table border=\"1\" class=\"dataframe\">\n",
       "  <thead>\n",
       "    <tr style=\"text-align: right;\">\n",
       "      <th></th>\n",
       "      <th>0</th>\n",
       "      <th>1</th>\n",
       "      <th>2</th>\n",
       "      <th>3</th>\n",
       "    </tr>\n",
       "  </thead>\n",
       "  <tbody>\n",
       "    <tr>\n",
       "      <th>0</th>\n",
       "      <td>2</td>\n",
       "      <td>5</td>\n",
       "      <td>3</td>\n",
       "      <td>2</td>\n",
       "    </tr>\n",
       "    <tr>\n",
       "      <th>1</th>\n",
       "      <td>4</td>\n",
       "      <td>6</td>\n",
       "      <td>7</td>\n",
       "      <td>2</td>\n",
       "    </tr>\n",
       "    <tr>\n",
       "      <th>2</th>\n",
       "      <td>3</td>\n",
       "      <td>2</td>\n",
       "      <td>4</td>\n",
       "      <td>1</td>\n",
       "    </tr>\n",
       "  </tbody>\n",
       "</table>\n",
       "</div>"
      ],
      "text/plain": [
       "   0  1  2  3\n",
       "0  2  5  3  2\n",
       "1  4  6  7  2\n",
       "2  3  2  4  1"
      ]
     },
     "execution_count": 18,
     "metadata": {},
     "output_type": "execute_result"
    }
   ],
   "source": [
    "unidades = pd.DataFrame(unidades_datos)\n",
    "unidades"
   ]
  },
  {
   "cell_type": "code",
   "execution_count": 20,
   "id": "6628f8f3",
   "metadata": {},
   "outputs": [
    {
     "data": {
      "text/html": [
       "<div>\n",
       "<style scoped>\n",
       "    .dataframe tbody tr th:only-of-type {\n",
       "        vertical-align: middle;\n",
       "    }\n",
       "\n",
       "    .dataframe tbody tr th {\n",
       "        vertical-align: top;\n",
       "    }\n",
       "\n",
       "    .dataframe thead th {\n",
       "        text-align: right;\n",
       "    }\n",
       "</style>\n",
       "<table border=\"1\" class=\"dataframe\">\n",
       "  <thead>\n",
       "    <tr style=\"text-align: right;\">\n",
       "      <th></th>\n",
       "      <th>Ag</th>\n",
       "      <th>Au</th>\n",
       "      <th>Cu</th>\n",
       "      <th>Pt</th>\n",
       "    </tr>\n",
       "  </thead>\n",
       "  <tbody>\n",
       "    <tr>\n",
       "      <th>2015</th>\n",
       "      <td>2</td>\n",
       "      <td>5</td>\n",
       "      <td>3</td>\n",
       "      <td>2</td>\n",
       "    </tr>\n",
       "    <tr>\n",
       "      <th>2016</th>\n",
       "      <td>4</td>\n",
       "      <td>6</td>\n",
       "      <td>7</td>\n",
       "      <td>2</td>\n",
       "    </tr>\n",
       "    <tr>\n",
       "      <th>2017</th>\n",
       "      <td>3</td>\n",
       "      <td>2</td>\n",
       "      <td>4</td>\n",
       "      <td>1</td>\n",
       "    </tr>\n",
       "  </tbody>\n",
       "</table>\n",
       "</div>"
      ],
      "text/plain": [
       "      Ag  Au  Cu  Pt\n",
       "2015   2   5   3   2\n",
       "2016   4   6   7   2\n",
       "2017   3   2   4   1"
      ]
     },
     "execution_count": 20,
     "metadata": {},
     "output_type": "execute_result"
    }
   ],
   "source": [
    "#Si se especifican las etiquetas de las filas y columnas, el resultado es diferente\n",
    "unidades = pd.DataFrame(unidades_datos,\n",
    "                        index = [2015, 2016, 2017],\n",
    "                        columns = [\"Ag\", \"Au\", \"Cu\", \"Pt\"]\n",
    "                       )\n",
    "unidades"
   ]
  },
  {
   "cell_type": "markdown",
   "id": "335b0013",
   "metadata": {},
   "source": [
    "### Creación de un dataframe a partir de una lista de diccionarios\n",
    "Tambien se puede partir de un conjunto de diccionarios, cada uno definiendo el contenido de lo que sera una fila del dataframe."
   ]
  },
  {
   "cell_type": "code",
   "execution_count": 21,
   "id": "77626f02",
   "metadata": {},
   "outputs": [
    {
     "data": {
      "text/html": [
       "<div>\n",
       "<style scoped>\n",
       "    .dataframe tbody tr th:only-of-type {\n",
       "        vertical-align: middle;\n",
       "    }\n",
       "\n",
       "    .dataframe tbody tr th {\n",
       "        vertical-align: top;\n",
       "    }\n",
       "\n",
       "    .dataframe thead th {\n",
       "        text-align: right;\n",
       "    }\n",
       "</style>\n",
       "<table border=\"1\" class=\"dataframe\">\n",
       "  <thead>\n",
       "    <tr style=\"text-align: right;\">\n",
       "      <th></th>\n",
       "      <th>Ag</th>\n",
       "      <th>Au</th>\n",
       "      <th>Cu</th>\n",
       "      <th>Pt</th>\n",
       "    </tr>\n",
       "  </thead>\n",
       "  <tbody>\n",
       "    <tr>\n",
       "      <th>2015</th>\n",
       "      <td>2</td>\n",
       "      <td>5</td>\n",
       "      <td>3</td>\n",
       "      <td>2</td>\n",
       "    </tr>\n",
       "    <tr>\n",
       "      <th>2016</th>\n",
       "      <td>4</td>\n",
       "      <td>6</td>\n",
       "      <td>7</td>\n",
       "      <td>2</td>\n",
       "    </tr>\n",
       "    <tr>\n",
       "      <th>2017</th>\n",
       "      <td>3</td>\n",
       "      <td>2</td>\n",
       "      <td>4</td>\n",
       "      <td>1</td>\n",
       "    </tr>\n",
       "  </tbody>\n",
       "</table>\n",
       "</div>"
      ],
      "text/plain": [
       "      Ag  Au  Cu  Pt\n",
       "2015   2   5   3   2\n",
       "2016   4   6   7   2\n",
       "2017   3   2   4   1"
      ]
     },
     "execution_count": 21,
     "metadata": {},
     "output_type": "execute_result"
    }
   ],
   "source": [
    "unidades_2015 = {\"Ag\": 2, \"Au\":5, \"Cu\":3, \"Pt\": 2}\n",
    "unidades_2016 = {\"Ag\": 4, \"Au\":6, \"Cu\":7, \"Pt\":2}\n",
    "unidades_2017 = {\"Ag\":3, \"Au\":2, \"Cu\":4, \"Pt\": 1}\n",
    "unidades = pd.DataFrame([unidades_2015, unidades_2016, unidades_2017],\n",
    "                        index = [2015, 2016, 2017])\n",
    "unidades"
   ]
  },
  {
   "cell_type": "markdown",
   "id": "bb58aad3",
   "metadata": {},
   "source": [
    "Se debe tener en cuenta que si los diccionarios no comparten el mismo conjunto de claves, esto provocara que todas las columnas se crearan pero se asignara NaN a los valores desconocidos"
   ]
  },
  {
   "cell_type": "code",
   "execution_count": 23,
   "id": "129c3b72",
   "metadata": {},
   "outputs": [
    {
     "data": {
      "text/html": [
       "<div>\n",
       "<style scoped>\n",
       "    .dataframe tbody tr th:only-of-type {\n",
       "        vertical-align: middle;\n",
       "    }\n",
       "\n",
       "    .dataframe tbody tr th {\n",
       "        vertical-align: top;\n",
       "    }\n",
       "\n",
       "    .dataframe thead th {\n",
       "        text-align: right;\n",
       "    }\n",
       "</style>\n",
       "<table border=\"1\" class=\"dataframe\">\n",
       "  <thead>\n",
       "    <tr style=\"text-align: right;\">\n",
       "      <th></th>\n",
       "      <th>Ag</th>\n",
       "      <th>Au</th>\n",
       "      <th>Cu</th>\n",
       "      <th>Pt</th>\n",
       "      <th>Pb</th>\n",
       "    </tr>\n",
       "  </thead>\n",
       "  <tbody>\n",
       "    <tr>\n",
       "      <th>2015</th>\n",
       "      <td>2</td>\n",
       "      <td>5.0</td>\n",
       "      <td>3</td>\n",
       "      <td>2</td>\n",
       "      <td>NaN</td>\n",
       "    </tr>\n",
       "    <tr>\n",
       "      <th>2016</th>\n",
       "      <td>4</td>\n",
       "      <td>6.0</td>\n",
       "      <td>7</td>\n",
       "      <td>2</td>\n",
       "      <td>NaN</td>\n",
       "    </tr>\n",
       "    <tr>\n",
       "      <th>2017</th>\n",
       "      <td>3</td>\n",
       "      <td>NaN</td>\n",
       "      <td>4</td>\n",
       "      <td>1</td>\n",
       "      <td>2.0</td>\n",
       "    </tr>\n",
       "  </tbody>\n",
       "</table>\n",
       "</div>"
      ],
      "text/plain": [
       "      Ag   Au  Cu  Pt   Pb\n",
       "2015   2  5.0   3   2  NaN\n",
       "2016   4  6.0   7   2  NaN\n",
       "2017   3  NaN   4   1  2.0"
      ]
     },
     "execution_count": 23,
     "metadata": {},
     "output_type": "execute_result"
    }
   ],
   "source": [
    "unidades_2015 = {\"Ag\": 2, \"Au\":5, \"Cu\":3, \"Pt\": 2}\n",
    "unidades_2016 = {\"Ag\": 4, \"Au\":6, \"Cu\":7, \"Pt\":2}\n",
    "unidades_2017 = {\"Ag\":3, \"Pb\":2, \"Cu\":4, \"Pt\": 1}\n",
    "unidades = pd.DataFrame([unidades_2015, unidades_2016, unidades_2017],\n",
    "                        index = [2015, 2016, 2017])\n",
    "unidades\n",
    "#El año 2017 carece de Au y los años 2015 y 2016 carece de Pb"
   ]
  }
 ],
 "metadata": {
  "kernelspec": {
   "display_name": "Python 3 (ipykernel)",
   "language": "python",
   "name": "python3"
  },
  "language_info": {
   "codemirror_mode": {
    "name": "ipython",
    "version": 3
   },
   "file_extension": ".py",
   "mimetype": "text/x-python",
   "name": "python",
   "nbconvert_exporter": "python",
   "pygments_lexer": "ipython3",
   "version": "3.9.7"
  }
 },
 "nbformat": 4,
 "nbformat_minor": 5
}
