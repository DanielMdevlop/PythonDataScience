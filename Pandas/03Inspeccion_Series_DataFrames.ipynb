{
 "cells": [
  {
   "cell_type": "markdown",
   "id": "c137d69f",
   "metadata": {},
   "source": [
    "# Inspección de series y dataframes\n",
    "Una vez cargado un bloque de datos en una serie o un dataframe, lo primero que se debe hacer inspeccionarlo para confirmar que los datos cargados son los esperados y que la lectura se ha realizado correctamente.\n",
    "\n",
    "Para ello se tiene los métodos **head**, **tail** y **sample**, con un comportamiento semejante en series y dataframe, que nos muestran un subconjunto de los datos cargados. Ademas los métodos **describe** e **info** nos proporcionan información adicional sobre los datos."
   ]
  },
  {
   "cell_type": "code",
   "execution_count": 1,
   "id": "bbe628f1",
   "metadata": {},
   "outputs": [],
   "source": [
    "import pandas as pd\n",
    "import numpy as np"
   ]
  },
  {
   "cell_type": "markdown",
   "id": "06ef6ce4",
   "metadata": {},
   "source": [
    "## Método head\n",
    "El método ***pandas.Series.head*** y ***pandas.DataFrame.head*** para dataframes, devuelve los primeros elementos de la estrcutura (los primeros valores en el caso de una serie y las primeras filas en el caso de un dataframe). \n"
   ]
  },
  {
   "cell_type": "code",
   "execution_count": 4,
   "id": "d07974bc",
   "metadata": {},
   "outputs": [
    {
     "data": {
      "text/plain": [
       "ene    11\n",
       "feb    18\n",
       "mar    12\n",
       "abr    16\n",
       "may     9\n",
       "jun    16\n",
       "jul    22\n",
       "ago    28\n",
       "sep    31\n",
       "oct    29\n",
       "nov    30\n",
       "dic    12\n",
       "dtype: int64"
      ]
     },
     "execution_count": 4,
     "metadata": {},
     "output_type": "execute_result"
    }
   ],
   "source": [
    "#Creamos la siguientes estructas, dos series y dataframe\n",
    "#Un error en el nombre de la etiquetas puede causar resultados muy diferentes.\n",
    "entradas = pd.Series([11, 18, 12, 16, 9, 16, 22, 28, 31, 29, 30, 12],\n",
    "                    index = [\"ene\", \"feb\", \"mar\", \"abr\", \"may\", \"jun\", \"jul\", \"ago\",\n",
    "                             \"sep\", \"oct\", \"nov\", \"dic\"])\n",
    "salidas = pd.Series([9, 26, 18, 15, 6, 22, 19, 25, 34, 22, 21, 14],\n",
    "                    index = [\"ene\", \"feb\", \"mar\", \"abr\", \"may\", \"jun\", \"jul\", \"ago\",\n",
    "                    \"sep\", \"oct\", \"nov\", \"dic\"])\n",
    "\n",
    "entradas"
   ]
  },
  {
   "cell_type": "code",
   "execution_count": 7,
   "id": "f8465b5c",
   "metadata": {},
   "outputs": [
    {
     "data": {
      "text/html": [
       "<div>\n",
       "<style scoped>\n",
       "    .dataframe tbody tr th:only-of-type {\n",
       "        vertical-align: middle;\n",
       "    }\n",
       "\n",
       "    .dataframe tbody tr th {\n",
       "        vertical-align: top;\n",
       "    }\n",
       "\n",
       "    .dataframe thead th {\n",
       "        text-align: right;\n",
       "    }\n",
       "</style>\n",
       "<table border=\"1\" class=\"dataframe\">\n",
       "  <thead>\n",
       "    <tr style=\"text-align: right;\">\n",
       "      <th></th>\n",
       "      <th>entradas</th>\n",
       "      <th>salidas</th>\n",
       "      <th>neto</th>\n",
       "    </tr>\n",
       "  </thead>\n",
       "  <tbody>\n",
       "    <tr>\n",
       "      <th>ene</th>\n",
       "      <td>11</td>\n",
       "      <td>9</td>\n",
       "      <td>2</td>\n",
       "    </tr>\n",
       "    <tr>\n",
       "      <th>feb</th>\n",
       "      <td>18</td>\n",
       "      <td>26</td>\n",
       "      <td>-8</td>\n",
       "    </tr>\n",
       "    <tr>\n",
       "      <th>mar</th>\n",
       "      <td>12</td>\n",
       "      <td>18</td>\n",
       "      <td>-6</td>\n",
       "    </tr>\n",
       "    <tr>\n",
       "      <th>abr</th>\n",
       "      <td>16</td>\n",
       "      <td>15</td>\n",
       "      <td>1</td>\n",
       "    </tr>\n",
       "    <tr>\n",
       "      <th>may</th>\n",
       "      <td>9</td>\n",
       "      <td>6</td>\n",
       "      <td>3</td>\n",
       "    </tr>\n",
       "    <tr>\n",
       "      <th>jun</th>\n",
       "      <td>16</td>\n",
       "      <td>22</td>\n",
       "      <td>-6</td>\n",
       "    </tr>\n",
       "    <tr>\n",
       "      <th>jul</th>\n",
       "      <td>22</td>\n",
       "      <td>19</td>\n",
       "      <td>3</td>\n",
       "    </tr>\n",
       "    <tr>\n",
       "      <th>ago</th>\n",
       "      <td>28</td>\n",
       "      <td>25</td>\n",
       "      <td>3</td>\n",
       "    </tr>\n",
       "    <tr>\n",
       "      <th>sep</th>\n",
       "      <td>31</td>\n",
       "      <td>34</td>\n",
       "      <td>-3</td>\n",
       "    </tr>\n",
       "    <tr>\n",
       "      <th>oct</th>\n",
       "      <td>29</td>\n",
       "      <td>22</td>\n",
       "      <td>7</td>\n",
       "    </tr>\n",
       "    <tr>\n",
       "      <th>nov</th>\n",
       "      <td>30</td>\n",
       "      <td>21</td>\n",
       "      <td>9</td>\n",
       "    </tr>\n",
       "    <tr>\n",
       "      <th>dic</th>\n",
       "      <td>12</td>\n",
       "      <td>14</td>\n",
       "      <td>-2</td>\n",
       "    </tr>\n",
       "  </tbody>\n",
       "</table>\n",
       "</div>"
      ],
      "text/plain": [
       "     entradas  salidas  neto\n",
       "ene        11        9     2\n",
       "feb        18       26    -8\n",
       "mar        12       18    -6\n",
       "abr        16       15     1\n",
       "may         9        6     3\n",
       "jun        16       22    -6\n",
       "jul        22       19     3\n",
       "ago        28       25     3\n",
       "sep        31       34    -3\n",
       "oct        29       22     7\n",
       "nov        30       21     9\n",
       "dic        12       14    -2"
      ]
     },
     "execution_count": 7,
     "metadata": {},
     "output_type": "execute_result"
    }
   ],
   "source": [
    "almacen = pd.DataFrame({\"entradas\": entradas, \"salidas\": salidas})\n",
    "almacen[\"neto\"] = almacen.entradas - almacen.salidas #Creando una nueva columna llamada nete y le asignamos la diferencia\n",
    "almacen"
   ]
  },
  {
   "cell_type": "code",
   "execution_count": 8,
   "id": "c8d55372",
   "metadata": {},
   "outputs": [
    {
     "data": {
      "text/plain": [
       "ene    11\n",
       "feb    18\n",
       "mar    12\n",
       "abr    16\n",
       "may     9\n",
       "dtype: int64"
      ]
     },
     "execution_count": 8,
     "metadata": {},
     "output_type": "execute_result"
    }
   ],
   "source": [
    "#Para mostrar los primeros elementos de la estructura\n",
    "entradas.head()"
   ]
  },
  {
   "cell_type": "code",
   "execution_count": 9,
   "id": "1cd971f9",
   "metadata": {},
   "outputs": [
    {
     "data": {
      "text/html": [
       "<div>\n",
       "<style scoped>\n",
       "    .dataframe tbody tr th:only-of-type {\n",
       "        vertical-align: middle;\n",
       "    }\n",
       "\n",
       "    .dataframe tbody tr th {\n",
       "        vertical-align: top;\n",
       "    }\n",
       "\n",
       "    .dataframe thead th {\n",
       "        text-align: right;\n",
       "    }\n",
       "</style>\n",
       "<table border=\"1\" class=\"dataframe\">\n",
       "  <thead>\n",
       "    <tr style=\"text-align: right;\">\n",
       "      <th></th>\n",
       "      <th>entradas</th>\n",
       "      <th>salidas</th>\n",
       "      <th>neto</th>\n",
       "    </tr>\n",
       "  </thead>\n",
       "  <tbody>\n",
       "    <tr>\n",
       "      <th>ene</th>\n",
       "      <td>11</td>\n",
       "      <td>9</td>\n",
       "      <td>2</td>\n",
       "    </tr>\n",
       "    <tr>\n",
       "      <th>feb</th>\n",
       "      <td>18</td>\n",
       "      <td>26</td>\n",
       "      <td>-8</td>\n",
       "    </tr>\n",
       "    <tr>\n",
       "      <th>mar</th>\n",
       "      <td>12</td>\n",
       "      <td>18</td>\n",
       "      <td>-6</td>\n",
       "    </tr>\n",
       "    <tr>\n",
       "      <th>abr</th>\n",
       "      <td>16</td>\n",
       "      <td>15</td>\n",
       "      <td>1</td>\n",
       "    </tr>\n",
       "    <tr>\n",
       "      <th>may</th>\n",
       "      <td>9</td>\n",
       "      <td>6</td>\n",
       "      <td>3</td>\n",
       "    </tr>\n",
       "  </tbody>\n",
       "</table>\n",
       "</div>"
      ],
      "text/plain": [
       "     entradas  salidas  neto\n",
       "ene        11        9     2\n",
       "feb        18       26    -8\n",
       "mar        12       18    -6\n",
       "abr        16       15     1\n",
       "may         9        6     3"
      ]
     },
     "execution_count": 9,
     "metadata": {},
     "output_type": "execute_result"
    }
   ],
   "source": [
    "#Tambien funciona para los dataframe\n",
    "almacen.head()"
   ]
  },
  {
   "cell_type": "code",
   "execution_count": 11,
   "id": "9c6241db",
   "metadata": {},
   "outputs": [
    {
     "data": {
      "text/html": [
       "<div>\n",
       "<style scoped>\n",
       "    .dataframe tbody tr th:only-of-type {\n",
       "        vertical-align: middle;\n",
       "    }\n",
       "\n",
       "    .dataframe tbody tr th {\n",
       "        vertical-align: top;\n",
       "    }\n",
       "\n",
       "    .dataframe thead th {\n",
       "        text-align: right;\n",
       "    }\n",
       "</style>\n",
       "<table border=\"1\" class=\"dataframe\">\n",
       "  <thead>\n",
       "    <tr style=\"text-align: right;\">\n",
       "      <th></th>\n",
       "      <th>entradas</th>\n",
       "      <th>salidas</th>\n",
       "      <th>neto</th>\n",
       "    </tr>\n",
       "  </thead>\n",
       "  <tbody>\n",
       "    <tr>\n",
       "      <th>ene</th>\n",
       "      <td>11</td>\n",
       "      <td>9</td>\n",
       "      <td>2</td>\n",
       "    </tr>\n",
       "    <tr>\n",
       "      <th>feb</th>\n",
       "      <td>18</td>\n",
       "      <td>26</td>\n",
       "      <td>-8</td>\n",
       "    </tr>\n",
       "    <tr>\n",
       "      <th>mar</th>\n",
       "      <td>12</td>\n",
       "      <td>18</td>\n",
       "      <td>-6</td>\n",
       "    </tr>\n",
       "    <tr>\n",
       "      <th>abr</th>\n",
       "      <td>16</td>\n",
       "      <td>15</td>\n",
       "      <td>1</td>\n",
       "    </tr>\n",
       "    <tr>\n",
       "      <th>may</th>\n",
       "      <td>9</td>\n",
       "      <td>6</td>\n",
       "      <td>3</td>\n",
       "    </tr>\n",
       "    <tr>\n",
       "      <th>jun</th>\n",
       "      <td>16</td>\n",
       "      <td>22</td>\n",
       "      <td>-6</td>\n",
       "    </tr>\n",
       "    <tr>\n",
       "      <th>jul</th>\n",
       "      <td>22</td>\n",
       "      <td>19</td>\n",
       "      <td>3</td>\n",
       "    </tr>\n",
       "    <tr>\n",
       "      <th>ago</th>\n",
       "      <td>28</td>\n",
       "      <td>25</td>\n",
       "      <td>3</td>\n",
       "    </tr>\n",
       "    <tr>\n",
       "      <th>sep</th>\n",
       "      <td>31</td>\n",
       "      <td>34</td>\n",
       "      <td>-3</td>\n",
       "    </tr>\n",
       "    <tr>\n",
       "      <th>oct</th>\n",
       "      <td>29</td>\n",
       "      <td>22</td>\n",
       "      <td>7</td>\n",
       "    </tr>\n",
       "  </tbody>\n",
       "</table>\n",
       "</div>"
      ],
      "text/plain": [
       "     entradas  salidas  neto\n",
       "ene        11        9     2\n",
       "feb        18       26    -8\n",
       "mar        12       18    -6\n",
       "abr        16       15     1\n",
       "may         9        6     3\n",
       "jun        16       22    -6\n",
       "jul        22       19     3\n",
       "ago        28       25     3\n",
       "sep        31       34    -3\n",
       "oct        29       22     7"
      ]
     },
     "execution_count": 11,
     "metadata": {},
     "output_type": "execute_result"
    }
   ],
   "source": [
    "#Podemos pasar como argumento un valor entero para indicar cuantas filas o elementos queremos ver \n",
    "almacen.head(10)"
   ]
  },
  {
   "cell_type": "markdown",
   "id": "814a32b2",
   "metadata": {},
   "source": [
    "## Método tail\n",
    "\n",
    "De forma similar que el método anterior, este metodo existe para\n",
    "* **pandas.Series.tail**\n",
    "* **pandas.DataFrame.tail**\n",
    "\n",
    "Este método muestra los **ultimos elementos** de la estructura. Si no se especifica un argumento, por defecto muestra los ultimos 5 elementos."
   ]
  },
  {
   "cell_type": "code",
   "execution_count": 10,
   "id": "872d8fb6",
   "metadata": {},
   "outputs": [
    {
     "data": {
      "text/plain": [
       "ago    28\n",
       "sep    31\n",
       "oct    29\n",
       "nov    30\n",
       "dic    12\n",
       "dtype: int64"
      ]
     },
     "execution_count": 10,
     "metadata": {},
     "output_type": "execute_result"
    }
   ],
   "source": [
    "#Muestra los ultimos elementos de una serie\n",
    "entradas.tail()"
   ]
  },
  {
   "cell_type": "code",
   "execution_count": 9,
   "id": "95015b8a",
   "metadata": {},
   "outputs": [
    {
     "data": {
      "text/html": [
       "<div>\n",
       "<style scoped>\n",
       "    .dataframe tbody tr th:only-of-type {\n",
       "        vertical-align: middle;\n",
       "    }\n",
       "\n",
       "    .dataframe tbody tr th {\n",
       "        vertical-align: top;\n",
       "    }\n",
       "\n",
       "    .dataframe thead th {\n",
       "        text-align: right;\n",
       "    }\n",
       "</style>\n",
       "<table border=\"1\" class=\"dataframe\">\n",
       "  <thead>\n",
       "    <tr style=\"text-align: right;\">\n",
       "      <th></th>\n",
       "      <th>entradas</th>\n",
       "      <th>salidas</th>\n",
       "      <th>neto</th>\n",
       "    </tr>\n",
       "  </thead>\n",
       "  <tbody>\n",
       "    <tr>\n",
       "      <th>jun</th>\n",
       "      <td>16</td>\n",
       "      <td>22</td>\n",
       "      <td>-6</td>\n",
       "    </tr>\n",
       "    <tr>\n",
       "      <th>jul</th>\n",
       "      <td>22</td>\n",
       "      <td>19</td>\n",
       "      <td>3</td>\n",
       "    </tr>\n",
       "    <tr>\n",
       "      <th>ago</th>\n",
       "      <td>28</td>\n",
       "      <td>25</td>\n",
       "      <td>3</td>\n",
       "    </tr>\n",
       "    <tr>\n",
       "      <th>sep</th>\n",
       "      <td>31</td>\n",
       "      <td>34</td>\n",
       "      <td>-3</td>\n",
       "    </tr>\n",
       "    <tr>\n",
       "      <th>oct</th>\n",
       "      <td>29</td>\n",
       "      <td>22</td>\n",
       "      <td>7</td>\n",
       "    </tr>\n",
       "    <tr>\n",
       "      <th>nov</th>\n",
       "      <td>30</td>\n",
       "      <td>21</td>\n",
       "      <td>9</td>\n",
       "    </tr>\n",
       "    <tr>\n",
       "      <th>dic</th>\n",
       "      <td>12</td>\n",
       "      <td>14</td>\n",
       "      <td>-2</td>\n",
       "    </tr>\n",
       "  </tbody>\n",
       "</table>\n",
       "</div>"
      ],
      "text/plain": [
       "     entradas  salidas  neto\n",
       "jun        16       22    -6\n",
       "jul        22       19     3\n",
       "ago        28       25     3\n",
       "sep        31       34    -3\n",
       "oct        29       22     7\n",
       "nov        30       21     9\n",
       "dic        12       14    -2"
      ]
     },
     "execution_count": 9,
     "metadata": {},
     "output_type": "execute_result"
    }
   ],
   "source": [
    "#Muestra las ultimas filas de un DataFrame\n",
    "almacen.tail(7)"
   ]
  },
  {
   "cell_type": "markdown",
   "id": "fa92b88e",
   "metadata": {},
   "source": [
    "## Método sample\n",
    "En ocasiones puede que los métodos anteriores no sean de mucha ayuda, cuando el bloque de datos mostrados son muy parecidos. Y aveces es mejor ver datos aleatorios de nuestra estructura.\n",
    "* **pandas.Series.sample**\n",
    "* **pandas.DataFrame.sample**\n",
    "\n",
    "Devuelve por defecto un elemento aleatorio, para indicar un rango mayor, hay quye pasarle un numero entero en el argumento."
   ]
  },
  {
   "cell_type": "code",
   "execution_count": 11,
   "id": "88e8a6f8",
   "metadata": {},
   "outputs": [
    {
     "data": {
      "text/plain": [
       "sep    31\n",
       "mar    12\n",
       "may     9\n",
       "feb    18\n",
       "nov    30\n",
       "dtype: int64"
      ]
     },
     "execution_count": 11,
     "metadata": {},
     "output_type": "execute_result"
    }
   ],
   "source": [
    "entradas.sample(5)"
   ]
  },
  {
   "cell_type": "code",
   "execution_count": 12,
   "id": "915b2e48",
   "metadata": {},
   "outputs": [
    {
     "data": {
      "text/html": [
       "<div>\n",
       "<style scoped>\n",
       "    .dataframe tbody tr th:only-of-type {\n",
       "        vertical-align: middle;\n",
       "    }\n",
       "\n",
       "    .dataframe tbody tr th {\n",
       "        vertical-align: top;\n",
       "    }\n",
       "\n",
       "    .dataframe thead th {\n",
       "        text-align: right;\n",
       "    }\n",
       "</style>\n",
       "<table border=\"1\" class=\"dataframe\">\n",
       "  <thead>\n",
       "    <tr style=\"text-align: right;\">\n",
       "      <th></th>\n",
       "      <th>entradas</th>\n",
       "      <th>salidas</th>\n",
       "      <th>neto</th>\n",
       "    </tr>\n",
       "  </thead>\n",
       "  <tbody>\n",
       "    <tr>\n",
       "      <th>abr</th>\n",
       "      <td>16</td>\n",
       "      <td>15</td>\n",
       "      <td>1</td>\n",
       "    </tr>\n",
       "    <tr>\n",
       "      <th>may</th>\n",
       "      <td>9</td>\n",
       "      <td>6</td>\n",
       "      <td>3</td>\n",
       "    </tr>\n",
       "    <tr>\n",
       "      <th>feb</th>\n",
       "      <td>18</td>\n",
       "      <td>26</td>\n",
       "      <td>-8</td>\n",
       "    </tr>\n",
       "    <tr>\n",
       "      <th>jun</th>\n",
       "      <td>16</td>\n",
       "      <td>22</td>\n",
       "      <td>-6</td>\n",
       "    </tr>\n",
       "    <tr>\n",
       "      <th>oct</th>\n",
       "      <td>29</td>\n",
       "      <td>22</td>\n",
       "      <td>7</td>\n",
       "    </tr>\n",
       "    <tr>\n",
       "      <th>dic</th>\n",
       "      <td>12</td>\n",
       "      <td>14</td>\n",
       "      <td>-2</td>\n",
       "    </tr>\n",
       "    <tr>\n",
       "      <th>mar</th>\n",
       "      <td>12</td>\n",
       "      <td>18</td>\n",
       "      <td>-6</td>\n",
       "    </tr>\n",
       "  </tbody>\n",
       "</table>\n",
       "</div>"
      ],
      "text/plain": [
       "     entradas  salidas  neto\n",
       "abr        16       15     1\n",
       "may         9        6     3\n",
       "feb        18       26    -8\n",
       "jun        16       22    -6\n",
       "oct        29       22     7\n",
       "dic        12       14    -2\n",
       "mar        12       18    -6"
      ]
     },
     "execution_count": 12,
     "metadata": {},
     "output_type": "execute_result"
    }
   ],
   "source": [
    "almacen.sample(7)"
   ]
  },
  {
   "cell_type": "markdown",
   "id": "b834f4cc",
   "metadata": {},
   "source": [
    "## Método describe\n",
    "\n",
    "Devuelve información estadistica descriptiva del conjunto de datos (dataframe o serie), dicho metodo devuelve un dataframe con la información estadistica, la cual contiene:\n",
    "* numero de muestras\n",
    "* valor medio\n",
    "* desviación estandar\n",
    "* valor minimo\n",
    "* valor maximo\n",
    "* mediana\n",
    "* valores correspondientes a los percentiles 25% y 75%\n",
    "\n",
    "**Nota:** Se aplican aquellas columnas con valores numericos.\n",
    "\n",
    "El método acepta el parámetro percentiles conteniendo una lista (o semejante) de los percentiles a mostrar. También acepta los parámetros include y exclude para especificar los tipos de las características a incluir o excluir del resultado\n"
   ]
  },
  {
   "cell_type": "code",
   "execution_count": 29,
   "id": "7c0943be",
   "metadata": {},
   "outputs": [
    {
     "data": {
      "text/html": [
       "<div>\n",
       "<style scoped>\n",
       "    .dataframe tbody tr th:only-of-type {\n",
       "        vertical-align: middle;\n",
       "    }\n",
       "\n",
       "    .dataframe tbody tr th {\n",
       "        vertical-align: top;\n",
       "    }\n",
       "\n",
       "    .dataframe thead th {\n",
       "        text-align: right;\n",
       "    }\n",
       "</style>\n",
       "<table border=\"1\" class=\"dataframe\">\n",
       "  <thead>\n",
       "    <tr style=\"text-align: right;\">\n",
       "      <th></th>\n",
       "      <th>entradas</th>\n",
       "      <th>salidas</th>\n",
       "      <th>neto</th>\n",
       "    </tr>\n",
       "  </thead>\n",
       "  <tbody>\n",
       "    <tr>\n",
       "      <th>count</th>\n",
       "      <td>12.00000</td>\n",
       "      <td>12.000000</td>\n",
       "      <td>12.000000</td>\n",
       "    </tr>\n",
       "    <tr>\n",
       "      <th>mean</th>\n",
       "      <td>19.50000</td>\n",
       "      <td>19.250000</td>\n",
       "      <td>0.250000</td>\n",
       "    </tr>\n",
       "    <tr>\n",
       "      <th>std</th>\n",
       "      <td>8.16311</td>\n",
       "      <td>7.641097</td>\n",
       "      <td>5.310795</td>\n",
       "    </tr>\n",
       "    <tr>\n",
       "      <th>min</th>\n",
       "      <td>9.00000</td>\n",
       "      <td>6.000000</td>\n",
       "      <td>-8.000000</td>\n",
       "    </tr>\n",
       "    <tr>\n",
       "      <th>25%</th>\n",
       "      <td>12.00000</td>\n",
       "      <td>14.750000</td>\n",
       "      <td>-3.750000</td>\n",
       "    </tr>\n",
       "    <tr>\n",
       "      <th>50%</th>\n",
       "      <td>17.00000</td>\n",
       "      <td>20.000000</td>\n",
       "      <td>1.500000</td>\n",
       "    </tr>\n",
       "    <tr>\n",
       "      <th>75%</th>\n",
       "      <td>28.25000</td>\n",
       "      <td>22.750000</td>\n",
       "      <td>3.000000</td>\n",
       "    </tr>\n",
       "    <tr>\n",
       "      <th>max</th>\n",
       "      <td>31.00000</td>\n",
       "      <td>34.000000</td>\n",
       "      <td>9.000000</td>\n",
       "    </tr>\n",
       "  </tbody>\n",
       "</table>\n",
       "</div>"
      ],
      "text/plain": [
       "       entradas    salidas       neto\n",
       "count  12.00000  12.000000  12.000000\n",
       "mean   19.50000  19.250000   0.250000\n",
       "std     8.16311   7.641097   5.310795\n",
       "min     9.00000   6.000000  -8.000000\n",
       "25%    12.00000  14.750000  -3.750000\n",
       "50%    17.00000  20.000000   1.500000\n",
       "75%    28.25000  22.750000   3.000000\n",
       "max    31.00000  34.000000   9.000000"
      ]
     },
     "execution_count": 29,
     "metadata": {},
     "output_type": "execute_result"
    }
   ],
   "source": [
    "#Recordar que nuestro DataFrame es almacene\n",
    "almacen.describe()"
   ]
  },
  {
   "cell_type": "markdown",
   "id": "c4d8c52d",
   "metadata": {},
   "source": [
    "## Método info\n",
    "\n",
    "Muestra un resumen de un dataframe, incluyendo información sobre el tipo de los indices de filas y columnas, los valores no nulos y la memoria usada.\n",
    "\n",
    "**Nota Solo aplica para los DataFrame**"
   ]
  },
  {
   "cell_type": "code",
   "execution_count": 30,
   "id": "c3179c0e",
   "metadata": {},
   "outputs": [
    {
     "name": "stdout",
     "output_type": "stream",
     "text": [
      "<class 'pandas.core.frame.DataFrame'>\n",
      "Index: 12 entries, ene to dic\n",
      "Data columns (total 3 columns):\n",
      " #   Column    Non-Null Count  Dtype\n",
      "---  ------    --------------  -----\n",
      " 0   entradas  12 non-null     int64\n",
      " 1   salidas   12 non-null     int64\n",
      " 2   neto      12 non-null     int64\n",
      "dtypes: int64(3)\n",
      "memory usage: 684.0+ bytes\n"
     ]
    }
   ],
   "source": [
    "almacen.info()"
   ]
  },
  {
   "cell_type": "markdown",
   "id": "1f8e873e",
   "metadata": {},
   "source": [
    "## Método value_counts\n",
    "\n",
    "Método exclusivo para **pandas.Series.value_counts**. Devuelve una estructura conteniendo los valores presentes en la serie y el numero de ocurrencias de cada uno. Estos valores se muestran en orden decreciente:"
   ]
  },
  {
   "cell_type": "code",
   "execution_count": 31,
   "id": "94870765",
   "metadata": {},
   "outputs": [
    {
     "data": {
      "text/plain": [
       "1.0    4\n",
       "2.0    2\n",
       "3.0    1\n",
       "4.0    1\n",
       "dtype: int64"
      ]
     },
     "execution_count": 31,
     "metadata": {},
     "output_type": "execute_result"
    }
   ],
   "source": [
    "s = pd.Series([3, 1, 2, 1, 1, 4, 1, 2, np.nan])\n",
    "s.value_counts()"
   ]
  },
  {
   "cell_type": "markdown",
   "id": "603a5b37",
   "metadata": {},
   "source": [
    "Por defecto no se incluyen valores nulos. Para ello se utiliza el parametro **dropna**"
   ]
  },
  {
   "cell_type": "code",
   "execution_count": 32,
   "id": "208f83eb",
   "metadata": {},
   "outputs": [
    {
     "data": {
      "text/plain": [
       "1.0    4\n",
       "2.0    2\n",
       "3.0    1\n",
       "4.0    1\n",
       "NaN    1\n",
       "dtype: int64"
      ]
     },
     "execution_count": 32,
     "metadata": {},
     "output_type": "execute_result"
    }
   ],
   "source": [
    "s.value_counts(dropna=False)"
   ]
  },
  {
   "cell_type": "markdown",
   "id": "0dd97ae4",
   "metadata": {},
   "source": [
    "Vemos que se han creados los dos bins, el primero conteniendo los valores entre 0.996 y 2.5 (intervalo abierto por la izquierda y cerrado por la derecha), bin en el que hay 6 valores, y el segundo conteniendo los valores entre 2.5 y 4 (intervalo también abierto por la izquierda y cerrado por la derecha), bin en el que hay 2 valores."
   ]
  },
  {
   "cell_type": "code",
   "execution_count": 35,
   "id": "5584c329",
   "metadata": {},
   "outputs": [
    {
     "data": {
      "text/plain": [
       "(0.996, 2.5]    6\n",
       "(2.5, 4.0]      2\n",
       "dtype: int64"
      ]
     },
     "execution_count": 35,
     "metadata": {},
     "output_type": "execute_result"
    }
   ],
   "source": [
    "#El argumento bins devuelve una lista de bins.\n",
    "s.value_counts(bins = 2)"
   ]
  },
  {
   "cell_type": "code",
   "execution_count": null,
   "id": "83b459cb",
   "metadata": {},
   "outputs": [],
   "source": []
  },
  {
   "cell_type": "code",
   "execution_count": null,
   "id": "2b2177b5",
   "metadata": {},
   "outputs": [],
   "source": []
  }
 ],
 "metadata": {
  "kernelspec": {
   "display_name": "Python 3 (ipykernel)",
   "language": "python",
   "name": "python3"
  },
  "language_info": {
   "codemirror_mode": {
    "name": "ipython",
    "version": 3
   },
   "file_extension": ".py",
   "mimetype": "text/x-python",
   "name": "python",
   "nbconvert_exporter": "python",
   "pygments_lexer": "ipython3",
   "version": "3.9.7"
  },
  "nbTranslate": {
   "displayLangs": [
    "*"
   ],
   "hotkey": "alt-t",
   "langInMainMenu": true,
   "sourceLang": "en",
   "targetLang": "fr",
   "useGoogleTranslate": true
  },
  "toc": {
   "base_numbering": 1,
   "nav_menu": {},
   "number_sections": true,
   "sideBar": true,
   "skip_h1_title": false,
   "title_cell": "Table of Contents",
   "title_sidebar": "Contents",
   "toc_cell": false,
   "toc_position": {},
   "toc_section_display": true,
   "toc_window_display": false
  }
 },
 "nbformat": 4,
 "nbformat_minor": 5
}
