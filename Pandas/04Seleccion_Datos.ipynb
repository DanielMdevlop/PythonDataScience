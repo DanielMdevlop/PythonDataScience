{
 "cells": [
  {
   "cell_type": "markdown",
   "id": "e88146ea",
   "metadata": {},
   "source": [
    "# Selección de datos\n",
    "\n",
    "Un aspecto importante y que puede ser complejo es la extracción o selección de datos. Se dice complejo por el DataFrame que tiene en ambudancia de alternativas y excepciones para dicha tarea."
   ]
  },
  {
   "cell_type": "code",
   "execution_count": 1,
   "id": "5188013a",
   "metadata": {},
   "outputs": [],
   "source": [
    "import pandas as pd \n",
    "import numpy as np"
   ]
  },
  {
   "cell_type": "markdown",
   "id": "6621808a",
   "metadata": {},
   "source": [
    "## Selección de datos en Series\n",
    "\n",
    "Recordar que una Serie pandas consta de un array de datos y un array de etiquetas (llamado index). Si no se especifica el index al crear la serie, este se asigna de manera automatica."
   ]
  },
  {
   "cell_type": "code",
   "execution_count": 2,
   "id": "961ca7f3",
   "metadata": {},
   "outputs": [
    {
     "data": {
      "text/plain": [
       "0    10\n",
       "1    20\n",
       "2    30\n",
       "3    40\n",
       "dtype: int64"
      ]
     },
     "execution_count": 2,
     "metadata": {},
     "output_type": "execute_result"
    }
   ],
   "source": [
    "s = pd.Series([10, 20, 30, 40])\n",
    "s"
   ]
  },
  {
   "cell_type": "markdown",
   "id": "8293e4fc",
   "metadata": {},
   "source": [
    "Se puede seleccionar valores haciendo **referencia por indice** asignado. Utilizando la misma notación ***corchetes*** (utilizada en diccionarios / ***square bracket notation***)"
   ]
  },
  {
   "cell_type": "code",
   "execution_count": 4,
   "id": "a4212fcc",
   "metadata": {
    "code_folding": []
   },
   "outputs": [
    {
     "name": "stdout",
     "output_type": "stream",
     "text": [
      "10\n",
      "30\n"
     ]
    }
   ],
   "source": [
    "#Acceso a los elementos que se encuentran en la primera y tercera posición.\n",
    "print(s[0])\n",
    "print(s[2])"
   ]
  },
  {
   "cell_type": "code",
   "execution_count": 6,
   "id": "49333899",
   "metadata": {},
   "outputs": [
    {
     "data": {
      "text/plain": [
       "a    10\n",
       "b    20\n",
       "c    30\n",
       "d    40\n",
       "dtype: int64"
      ]
     },
     "execution_count": 6,
     "metadata": {},
     "output_type": "execute_result"
    }
   ],
   "source": [
    "#Ahora repetimos lo anterior, asignado un index de forma explicita.\n",
    "s = pd.Series([10, 20, 30, 40], index = [\"a\", \"b\", \"c\", \"d\"])\n",
    "s"
   ]
  },
  {
   "cell_type": "code",
   "execution_count": 10,
   "id": "e04bdf59",
   "metadata": {},
   "outputs": [
    {
     "name": "stdout",
     "output_type": "stream",
     "text": [
      "10,10\n",
      "\n",
      "********\n",
      ",40,40\n"
     ]
    }
   ],
   "source": [
    "#Se puede seleccionar elementos usando el indice explicito o implicito\n",
    "print(s[\"a\"], s[0], sep=\",\")\n",
    "print(\"\\n********\\n\", s[\"d\"], s[3], sep=\",\" )"
   ]
  },
  {
   "cell_type": "markdown",
   "id": "6959d677",
   "metadata": {},
   "source": [
    "**Nota** Se pueden utilizar indices negativos para referirnos a los elementos desde el final de la estructura. **Solo aplica esto si se asginaron etiquetas, es decir se especifico el argumento index**"
   ]
  },
  {
   "cell_type": "code",
   "execution_count": 11,
   "id": "268eaf69",
   "metadata": {},
   "outputs": [
    {
     "name": "stdout",
     "output_type": "stream",
     "text": [
      "Muestro el ultimo elemento de la serie:  40\n"
     ]
    }
   ],
   "source": [
    "print(\"Muestro el ultimo elemento de la serie: \", s[-1])"
   ]
  },
  {
   "cell_type": "markdown",
   "id": "a62d8684",
   "metadata": {},
   "source": [
    "Si el index es un array de numero enteros, entonces el indice implicito queda desactivado, es decir **solo se Puede usar los indices del array y tampoco esta permitido el indice negativo**"
   ]
  },
  {
   "cell_type": "code",
   "execution_count": 12,
   "id": "da8ac311",
   "metadata": {},
   "outputs": [
    {
     "data": {
      "text/plain": [
       "4    10\n",
       "3    20\n",
       "1    30\n",
       "0    40\n",
       "dtype: int64"
      ]
     },
     "execution_count": 12,
     "metadata": {},
     "output_type": "execute_result"
    }
   ],
   "source": [
    "s = pd.Series([10, 20, 30, 40], index = [4, 3, 1, 0])\n",
    "s"
   ]
  },
  {
   "cell_type": "code",
   "execution_count": 15,
   "id": "6ad94b3d",
   "metadata": {},
   "outputs": [
    {
     "name": "stdout",
     "output_type": "stream",
     "text": [
      "Error\n"
     ]
    }
   ],
   "source": [
    "try:\n",
    "    s[-1]\n",
    "    \n",
    "except: \n",
    "    print(\"Error\")"
   ]
  }
 ],
 "metadata": {
  "kernelspec": {
   "display_name": "Python 3 (ipykernel)",
   "language": "python",
   "name": "python3"
  },
  "language_info": {
   "codemirror_mode": {
    "name": "ipython",
    "version": 3
   },
   "file_extension": ".py",
   "mimetype": "text/x-python",
   "name": "python",
   "nbconvert_exporter": "python",
   "pygments_lexer": "ipython3",
   "version": "3.9.7"
  },
  "nbTranslate": {
   "displayLangs": [
    "*"
   ],
   "hotkey": "alt-t",
   "langInMainMenu": true,
   "sourceLang": "en",
   "targetLang": "fr",
   "useGoogleTranslate": true
  },
  "toc": {
   "base_numbering": 1,
   "nav_menu": {},
   "number_sections": true,
   "sideBar": true,
   "skip_h1_title": false,
   "title_cell": "Table of Contents",
   "title_sidebar": "Contents",
   "toc_cell": false,
   "toc_position": {},
   "toc_section_display": true,
   "toc_window_display": false
  }
 },
 "nbformat": 4,
 "nbformat_minor": 5
}
