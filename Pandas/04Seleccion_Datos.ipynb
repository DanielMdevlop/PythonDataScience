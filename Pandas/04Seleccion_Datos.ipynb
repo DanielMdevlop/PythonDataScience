{
 "cells": [
  {
   "cell_type": "markdown",
   "id": "e88146ea",
   "metadata": {},
   "source": [
    "# Selección de datos\n",
    "\n",
    "___\n",
    ">Un aspecto importante y que puede ser complejo es la extracción o selección de datos. Se dice complejo por el DataFrame que tiene en ambudancia de alternativas y excepciones para dicha tarea."
   ]
  },
  {
   "cell_type": "code",
   "execution_count": 1,
   "id": "5188013a",
   "metadata": {},
   "outputs": [],
   "source": [
    "import pandas as pd \n",
    "import numpy as np"
   ]
  },
  {
   "cell_type": "markdown",
   "id": "6621808a",
   "metadata": {
    "heading_collapsed": true
   },
   "source": [
    "## Selección de datos en Series\n",
    "\n",
    "Recordar que una Serie pandas consta de un array de datos y un array de etiquetas (llamado index). Si no se especifica el index al crear la serie, este se asigna de manera automatica."
   ]
  },
  {
   "cell_type": "code",
   "execution_count": 2,
   "id": "961ca7f3",
   "metadata": {
    "hidden": true
   },
   "outputs": [
    {
     "data": {
      "text/plain": [
       "0    10\n",
       "1    20\n",
       "2    30\n",
       "3    40\n",
       "dtype: int64"
      ]
     },
     "execution_count": 2,
     "metadata": {},
     "output_type": "execute_result"
    }
   ],
   "source": [
    "s = pd.Series([10, 20, 30, 40])\n",
    "s"
   ]
  },
  {
   "cell_type": "markdown",
   "id": "8293e4fc",
   "metadata": {
    "hidden": true
   },
   "source": [
    "Se puede seleccionar valores haciendo **referencia por indice** asignado. Utilizando la misma notación ***corchetes*** (utilizada en diccionarios / ***square bracket notation***)"
   ]
  },
  {
   "cell_type": "code",
   "execution_count": 4,
   "id": "a4212fcc",
   "metadata": {
    "code_folding": [],
    "hidden": true
   },
   "outputs": [
    {
     "name": "stdout",
     "output_type": "stream",
     "text": [
      "10\n",
      "30\n"
     ]
    }
   ],
   "source": [
    "#Acceso a los elementos que se encuentran en la primera y tercera posición.\n",
    "print(s[0])\n",
    "print(s[2])"
   ]
  },
  {
   "cell_type": "code",
   "execution_count": 6,
   "id": "49333899",
   "metadata": {
    "hidden": true
   },
   "outputs": [
    {
     "data": {
      "text/plain": [
       "a    10\n",
       "b    20\n",
       "c    30\n",
       "d    40\n",
       "dtype: int64"
      ]
     },
     "execution_count": 6,
     "metadata": {},
     "output_type": "execute_result"
    }
   ],
   "source": [
    "#Ahora repetimos lo anterior, asignado un index de forma explicita.\n",
    "s = pd.Series([10, 20, 30, 40], index = [\"a\", \"b\", \"c\", \"d\"])\n",
    "s"
   ]
  },
  {
   "cell_type": "code",
   "execution_count": 10,
   "id": "e04bdf59",
   "metadata": {
    "hidden": true
   },
   "outputs": [
    {
     "name": "stdout",
     "output_type": "stream",
     "text": [
      "10,10\n",
      "\n",
      "********\n",
      ",40,40\n"
     ]
    }
   ],
   "source": [
    "#Se puede seleccionar elementos usando el indice explicito o implicito\n",
    "print(s[\"a\"], s[0], sep=\",\")\n",
    "print(\"\\n********\\n\", s[\"d\"], s[3], sep=\",\" )"
   ]
  },
  {
   "cell_type": "markdown",
   "id": "6959d677",
   "metadata": {
    "hidden": true
   },
   "source": [
    "**Nota** Se pueden utilizar indices negativos para referirnos a los elementos desde el final de la estructura. **Solo aplica esto si se asginaron etiquetas, es decir se especifico el argumento index**"
   ]
  },
  {
   "cell_type": "code",
   "execution_count": 11,
   "id": "268eaf69",
   "metadata": {
    "hidden": true
   },
   "outputs": [
    {
     "name": "stdout",
     "output_type": "stream",
     "text": [
      "Muestro el ultimo elemento de la serie:  40\n"
     ]
    }
   ],
   "source": [
    "print(\"Muestro el ultimo elemento de la serie: \", s[-1])"
   ]
  },
  {
   "cell_type": "markdown",
   "id": "a62d8684",
   "metadata": {
    "hidden": true
   },
   "source": [
    "Si el index es un array de numero enteros, entonces el indice implicito queda desactivado, es decir **solo se Puede usar los indices del array y tampoco esta permitido el indice negativo**"
   ]
  },
  {
   "cell_type": "code",
   "execution_count": 12,
   "id": "da8ac311",
   "metadata": {
    "hidden": true
   },
   "outputs": [
    {
     "data": {
      "text/plain": [
       "4    10\n",
       "3    20\n",
       "1    30\n",
       "0    40\n",
       "dtype: int64"
      ]
     },
     "execution_count": 12,
     "metadata": {},
     "output_type": "execute_result"
    }
   ],
   "source": [
    "s = pd.Series([10, 20, 30, 40], index = [4, 3, 1, 0])\n",
    "s"
   ]
  },
  {
   "cell_type": "code",
   "execution_count": 15,
   "id": "6ad94b3d",
   "metadata": {
    "hidden": true
   },
   "outputs": [
    {
     "name": "stdout",
     "output_type": "stream",
     "text": [
      "Error\n"
     ]
    }
   ],
   "source": [
    "try:\n",
    "    s[-1]\n",
    "    \n",
    "except: \n",
    "    print(\"Error\")"
   ]
  },
  {
   "cell_type": "markdown",
   "id": "5604e026",
   "metadata": {
    "heading_collapsed": true,
    "hidden": true
   },
   "source": [
    "### Uso de rangos\n",
    "___\n",
    "Seguiendo con la notación tipo diccionario, es posible seleccionar rangos de valores. Podemos usar el un rango numerico, ***si y solo si se definio un `index` explicito**"
   ]
  },
  {
   "cell_type": "code",
   "execution_count": 2,
   "id": "f337486d",
   "metadata": {
    "hidden": true
   },
   "outputs": [
    {
     "data": {
      "text/plain": [
       "a    10\n",
       "b    20\n",
       "c    30\n",
       "d    40\n",
       "dtype: int64"
      ]
     },
     "execution_count": 2,
     "metadata": {},
     "output_type": "execute_result"
    }
   ],
   "source": [
    "s  = pd.Series([10, 20, 30, 40], index= [\"a\", \"b\", \"c\", \"d\"])\n",
    "s"
   ]
  },
  {
   "cell_type": "markdown",
   "id": "d1f32165",
   "metadata": {
    "hidden": true
   },
   "source": [
    "Al usar el rango se interpreta que se hace referencia al indice implicito, y se incluyen los valores desde el primer indice incluido y el ultimo no inclusive `[val_ini: val_fin-1]`"
   ]
  },
  {
   "cell_type": "code",
   "execution_count": 4,
   "id": "c1bf319a",
   "metadata": {
    "hidden": true
   },
   "outputs": [
    {
     "data": {
      "text/plain": [
       "a    10\n",
       "b    20\n",
       "c    30\n",
       "dtype: int64"
      ]
     },
     "execution_count": 4,
     "metadata": {},
     "output_type": "execute_result"
    }
   ],
   "source": [
    "s[0:3] #Selecciono con rango desde la posicion inicial hasta el penultimo elemento."
   ]
  },
  {
   "cell_type": "markdown",
   "id": "57fbf6f8",
   "metadata": {
    "hidden": true
   },
   "source": [
    "Si no se incluye algunos de los limites, se comparta al estilo Python, ejemplo, si omite **el primer valor del rango, se interpreta que desde principio**"
   ]
  },
  {
   "cell_type": "code",
   "execution_count": 13,
   "id": "0a271171",
   "metadata": {
    "hidden": true
   },
   "outputs": [
    {
     "data": {
      "text/plain": [
       "a    10\n",
       "b    20\n",
       "c    30\n",
       "dtype: int64"
      ]
     },
     "execution_count": 13,
     "metadata": {},
     "output_type": "execute_result"
    }
   ],
   "source": [
    "s[:3]"
   ]
  },
  {
   "cell_type": "markdown",
   "id": "2fb495fe",
   "metadata": {
    "hidden": true
   },
   "source": [
    "Por el contrario si **no incluye el ultimo valor, se consideran todos los elementos hasta el final**."
   ]
  },
  {
   "cell_type": "code",
   "execution_count": 7,
   "id": "806bb031",
   "metadata": {
    "hidden": true
   },
   "outputs": [
    {
     "data": {
      "text/plain": [
       "b    20\n",
       "c    30\n",
       "d    40\n",
       "dtype: int64"
      ]
     },
     "execution_count": 7,
     "metadata": {},
     "output_type": "execute_result"
    }
   ],
   "source": [
    "s[1:]"
   ]
  },
  {
   "cell_type": "markdown",
   "id": "4d6900b9",
   "metadata": {
    "hidden": true
   },
   "source": [
    "**¿Que pasa si utilizo los indices explicitos?** el comportamiento cambia ligeramente"
   ]
  },
  {
   "cell_type": "code",
   "execution_count": 14,
   "id": "43675b94",
   "metadata": {
    "hidden": true
   },
   "outputs": [
    {
     "data": {
      "text/plain": [
       "a    10\n",
       "b    20\n",
       "c    30\n",
       "dtype: int64"
      ]
     },
     "execution_count": 14,
     "metadata": {},
     "output_type": "execute_result"
    }
   ],
   "source": [
    "s[\"a\":\"c\"]"
   ]
  },
  {
   "cell_type": "code",
   "execution_count": 15,
   "id": "cb7b8c86",
   "metadata": {
    "hidden": true
   },
   "outputs": [
    {
     "name": "stdout",
     "output_type": "stream",
     "text": [
      "a    10\n",
      "b    20\n",
      "c    30\n",
      "dtype: int64\n",
      "b    20\n",
      "c    30\n",
      "d    40\n",
      "dtype: int64\n"
     ]
    }
   ],
   "source": [
    "#Se puede omitir alguno de lo indices explicitos\n",
    "print(s[:\"c\"])\n",
    "print(s[\"b\":])"
   ]
  },
  {
   "cell_type": "markdown",
   "id": "8ec3cce0",
   "metadata": {
    "heading_collapsed": true,
    "hidden": true
   },
   "source": [
    "### Uso de listas\n",
    "___\n",
    "**Se pueden usar listas (Listas de python)** para hacer referencia a valores de la serie. ***NO CONFUNDIR CON RANGOS***\n",
    "Cuando se usan listas de valores:\n",
    "* Lo que devuelve es una Serie.\n",
    "* Devuelven valores de la serie, de acuerdo al orden que estan indicados en la lista.\n",
    "* Si la serie tiene un **index explicito numerico**, los valores de la lista se interpretan como haciendo referencia al indice explicito."
   ]
  },
  {
   "cell_type": "code",
   "execution_count": 17,
   "id": "786c9332",
   "metadata": {
    "hidden": true
   },
   "outputs": [
    {
     "name": "stdout",
     "output_type": "stream",
     "text": [
      "Comprobar que lo que retorna es una Serie:  <class 'pandas.core.series.Series'>\n"
     ]
    },
    {
     "data": {
      "text/plain": [
       "d    40\n",
       "b    20\n",
       "dtype: int64"
      ]
     },
     "execution_count": 17,
     "metadata": {},
     "output_type": "execute_result"
    }
   ],
   "source": [
    "#Ejmeplo de seleccion de valores en una serie, utilizando lista de valores\n",
    "print(\"Comprobar que lo que retorna es una Serie: \", type(s[[3,1]]))\n",
    "s[[3,1]]\n",
    "#Observar que el orden es de acuerdo al indicado en la lista de valores"
   ]
  },
  {
   "cell_type": "markdown",
   "id": "2ac12dd3",
   "metadata": {
    "heading_collapsed": true,
    "hidden": true
   },
   "source": [
    "### Metodo get\n",
    "Al usar el método **`pandas.Series.get`** para extraer un valor de forma segura, dicho metodo recibe una clave (similar al indice) para obtener el valor:"
   ]
  },
  {
   "cell_type": "code",
   "execution_count": 18,
   "id": "a7aae381",
   "metadata": {
    "hidden": true
   },
   "outputs": [
    {
     "data": {
      "text/plain": [
       "30"
      ]
     },
     "execution_count": 18,
     "metadata": {},
     "output_type": "execute_result"
    }
   ],
   "source": [
    "s.get(2)"
   ]
  },
  {
   "cell_type": "markdown",
   "id": "8319b98e",
   "metadata": {
    "hidden": true
   },
   "source": [
    "**Nota:**Si la clave indicada no existe, la función devuelve None por defecto (Se puede personalizar este valor)"
   ]
  },
  {
   "cell_type": "code",
   "execution_count": 23,
   "id": "ce9597aa",
   "metadata": {
    "hidden": true
   },
   "outputs": [
    {
     "name": "stdout",
     "output_type": "stream",
     "text": [
      "Valor es: None\n"
     ]
    }
   ],
   "source": [
    "resultado = s.get(7) #La clave no EXISTE\n",
    "print(f\"Valor es: {resultado}\")"
   ]
  },
  {
   "cell_type": "markdown",
   "id": "93efe35b",
   "metadata": {
    "heading_collapsed": true,
    "hidden": true
   },
   "source": [
    "### Uso del metodo loc en Series\n",
    "\n",
    "El método `pandas.Series.loc` permite seleccionar un grupo de elementos por etiquetas.\n",
    "* Uso de un etiqueta simple\n",
    "* Uso con una lista de etiquetas\n",
    "* Uso de rangos"
   ]
  },
  {
   "cell_type": "code",
   "execution_count": 2,
   "id": "2c284c96",
   "metadata": {
    "hidden": true
   },
   "outputs": [
    {
     "data": {
      "text/plain": [
       "a    10\n",
       "b    20\n",
       "c    30\n",
       "d    40\n",
       "dtype: int64"
      ]
     },
     "execution_count": 2,
     "metadata": {},
     "output_type": "execute_result"
    }
   ],
   "source": [
    "s = pd.Series([10, 20, 30, 40], index= [\"a\", \"b\", \"c\", \"d\"])\n",
    "s"
   ]
  },
  {
   "cell_type": "markdown",
   "id": "f25500bf",
   "metadata": {
    "hidden": true
   },
   "source": [
    "**Uso con etiqueta simple**\n",
    ">Con este tipo de argumento, se interpreta como una etiqueta del `index`, ***nunca*** como una posicion en dicho indice.\n",
    "Por lo tanto si se pasa un numero entero que no pertenece al `index` y pueda representar una posición valida, **Marcara ERROR**"
   ]
  },
  {
   "cell_type": "code",
   "execution_count": 5,
   "id": "ab5e2dd6",
   "metadata": {
    "hidden": true
   },
   "outputs": [
    {
     "data": {
      "text/plain": [
       "20"
      ]
     },
     "execution_count": 5,
     "metadata": {},
     "output_type": "execute_result"
    }
   ],
   "source": [
    "s.loc[\"b\"]\n",
    "#s.loc[0] #Error"
   ]
  },
  {
   "cell_type": "markdown",
   "id": "7c591b79",
   "metadata": {
    "hidden": true
   },
   "source": [
    "**Uso con una lista de etiquetas**\n",
    "> También podemos pasar al método una lista de etiquetas, en cuyo caso **se extraen los valores correspondientesa** dichas etiquetas y en el orden en el que se incluyen en la lista."
   ]
  },
  {
   "cell_type": "code",
   "execution_count": 6,
   "id": "c74daa42",
   "metadata": {
    "hidden": true,
    "scrolled": true
   },
   "outputs": [
    {
     "data": {
      "text/plain": [
       "d    40\n",
       "a    10\n",
       "dtype: int64"
      ]
     },
     "execution_count": 6,
     "metadata": {},
     "output_type": "execute_result"
    }
   ],
   "source": [
    "s.loc[[\"d\", \"a\"]]"
   ]
  },
  {
   "cell_type": "markdown",
   "id": "7c86b73b",
   "metadata": {
    "hidden": true
   },
   "source": [
    "**Uso rangos**\n",
    "> Adicionalmente se puede pasar un rango al método, solo que este devuelve los valores que esten en los limites indicados. **Ambos incluidos**"
   ]
  },
  {
   "cell_type": "code",
   "execution_count": 7,
   "id": "25c1fa68",
   "metadata": {
    "hidden": true
   },
   "outputs": [
    {
     "data": {
      "text/plain": [
       "b    20\n",
       "c    30\n",
       "d    40\n",
       "dtype: int64"
      ]
     },
     "execution_count": 7,
     "metadata": {},
     "output_type": "execute_result"
    }
   ],
   "source": [
    "s.loc[\"b\":\"d\"]"
   ]
  },
  {
   "cell_type": "markdown",
   "id": "825b3c5e",
   "metadata": {
    "heading_collapsed": true,
    "hidden": true
   },
   "source": [
    "### Uso del metodo iloc en Series\n",
    "\n",
    "El método `pandas.Series.iloc` permite extraer datos de la serie a partir de los indices implicitos que estos tienen asignados. Se puede ocupar como argumento:\n",
    "* Un numero entero\n",
    "* Usar una lista o array de numeros enteros\n",
    "* Uso con un rango de números.\n"
   ]
  },
  {
   "cell_type": "markdown",
   "id": "aba8cde8",
   "metadata": {
    "hidden": true
   },
   "source": [
    "**Uso con numero entero**\n",
    ">Esta es la opción mas simple, utilizar un simple numero entero como argumento (**el primer elemento de la serie recibe el indice cero**).\n",
    "Considerar que **si el numero es negativo, este hara referencia al final de la serie**, siento el ultimo elemento ***-1***"
   ]
  },
  {
   "cell_type": "code",
   "execution_count": 9,
   "id": "aa8a09ab",
   "metadata": {
    "hidden": true
   },
   "outputs": [
    {
     "data": {
      "text/plain": [
       "a    10\n",
       "b    20\n",
       "c    30\n",
       "d    40\n",
       "dtype: int64"
      ]
     },
     "execution_count": 9,
     "metadata": {},
     "output_type": "execute_result"
    }
   ],
   "source": [
    "s = pd.Series([10, 20, 30, 40], index= [\"a\", \"b\", \"c\", \"d\"])\n",
    "s"
   ]
  },
  {
   "cell_type": "code",
   "execution_count": 11,
   "id": "36b059e5",
   "metadata": {
    "hidden": true
   },
   "outputs": [
    {
     "name": "stdout",
     "output_type": "stream",
     "text": [
      "20\n",
      "10\n",
      "40\n"
     ]
    }
   ],
   "source": [
    "print(s.iloc[1], s.iloc[0], s.iloc[3], sep=\"\\n\")"
   ]
  },
  {
   "cell_type": "code",
   "execution_count": 13,
   "id": "7f7a724d",
   "metadata": {
    "hidden": true
   },
   "outputs": [
    {
     "data": {
      "text/plain": [
       "10"
      ]
     },
     "execution_count": 13,
     "metadata": {},
     "output_type": "execute_result"
    }
   ],
   "source": [
    "s.iloc[-4] #Hace referencia al ultimo elemento"
   ]
  },
  {
   "cell_type": "markdown",
   "id": "dcd35802",
   "metadata": {
    "hidden": true
   },
   "source": [
    "**Uso con lista o array de numeros**\n",
    "> Otra opción es pafar como argumento una lista o array de numero, en cuyo caso se **devuelven elementos que ocupan dichas posiciones en elr orden indicado de la lista o array**."
   ]
  },
  {
   "cell_type": "code",
   "execution_count": 22,
   "id": "06bbc99e",
   "metadata": {
    "hidden": true
   },
   "outputs": [
    {
     "data": {
      "text/plain": [
       "c    30\n",
       "a    10\n",
       "dtype: int64"
      ]
     },
     "execution_count": 22,
     "metadata": {},
     "output_type": "execute_result"
    }
   ],
   "source": [
    "s.iloc[[2, 0]]"
   ]
  },
  {
   "cell_type": "code",
   "execution_count": 24,
   "id": "0d8bb574",
   "metadata": {
    "hidden": true
   },
   "outputs": [
    {
     "data": {
      "text/plain": [
       "c    30\n",
       "a    10\n",
       "dtype: int64"
      ]
     },
     "execution_count": 24,
     "metadata": {},
     "output_type": "execute_result"
    }
   ],
   "source": [
    "#Tambien se pueden incluir lista con numeros negativos.\n",
    "s.iloc[[-2,0]]"
   ]
  },
  {
   "cell_type": "markdown",
   "id": "644d53f1",
   "metadata": {
    "hidden": true
   },
   "source": [
    "**Uso con rango de números**\n",
    "\n",
    "Una tercera opción es usar como argumento un rango de números, la sintaxis es `a:b`, donde **a es incluido y b (no inclusive)**. Aplica lo mismo de toda la vida, si se omite el primer valor del rango, se interprera como **desde el comienzo de la serie**, de forma analoga si se omite el segundo valor del rango."
   ]
  },
  {
   "cell_type": "code",
   "execution_count": 25,
   "id": "00225113",
   "metadata": {
    "hidden": true
   },
   "outputs": [
    {
     "data": {
      "text/plain": [
       "b    20\n",
       "c    30\n",
       "dtype: int64"
      ]
     },
     "execution_count": 25,
     "metadata": {},
     "output_type": "execute_result"
    }
   ],
   "source": [
    "s.iloc[1:3]"
   ]
  },
  {
   "cell_type": "code",
   "execution_count": 26,
   "id": "9b12a48a",
   "metadata": {
    "hidden": true
   },
   "outputs": [
    {
     "data": {
      "text/plain": [
       "a    10\n",
       "b    20\n",
       "c    30\n",
       "dtype: int64"
      ]
     },
     "execution_count": 26,
     "metadata": {},
     "output_type": "execute_result"
    }
   ],
   "source": [
    "s.iloc[:3]"
   ]
  },
  {
   "cell_type": "code",
   "execution_count": 27,
   "id": "e89ae9ec",
   "metadata": {
    "hidden": true
   },
   "outputs": [
    {
     "data": {
      "text/plain": [
       "c    30\n",
       "d    40\n",
       "dtype: int64"
      ]
     },
     "execution_count": 27,
     "metadata": {},
     "output_type": "execute_result"
    }
   ],
   "source": [
    "s.iloc[2:]"
   ]
  },
  {
   "cell_type": "code",
   "execution_count": 28,
   "id": "8e8c7e22",
   "metadata": {
    "hidden": true
   },
   "outputs": [
    {
     "data": {
      "text/plain": [
       "b    20\n",
       "c    30\n",
       "dtype: int64"
      ]
     },
     "execution_count": 28,
     "metadata": {},
     "output_type": "execute_result"
    }
   ],
   "source": [
    "s.iloc[1:-1]"
   ]
  },
  {
   "cell_type": "markdown",
   "id": "004ddacd",
   "metadata": {
    "heading_collapsed": true,
    "hidden": true
   },
   "source": [
    "### Uso de arrarys booleanos\n",
    "\n",
    "Tambien es posible seleccionar elementos de una serie, partiendo un array de valores booleanos.\n"
   ]
  },
  {
   "cell_type": "code",
   "execution_count": 2,
   "id": "ec6a24a0",
   "metadata": {
    "hidden": true
   },
   "outputs": [
    {
     "data": {
      "text/plain": [
       "0    5\n",
       "1    2\n",
       "2   -3\n",
       "3    7\n",
       "4    8\n",
       "5    4\n",
       "dtype: int64"
      ]
     },
     "execution_count": 2,
     "metadata": {},
     "output_type": "execute_result"
    }
   ],
   "source": [
    "s = pd.Series([5, 2, -3, 7, 8, 4])\n",
    "s"
   ]
  },
  {
   "cell_type": "markdown",
   "id": "02133ca9",
   "metadata": {
    "hidden": true
   },
   "source": [
    "La lista de booleanos usada, **debe ser igua a la longitud de la serie**, de lo contrario marcara error."
   ]
  },
  {
   "cell_type": "code",
   "execution_count": 30,
   "id": "60129768",
   "metadata": {
    "hidden": true
   },
   "outputs": [
    {
     "data": {
      "text/plain": [
       "0    5\n",
       "3    7\n",
       "4    8\n",
       "dtype: int64"
      ]
     },
     "execution_count": 30,
     "metadata": {},
     "output_type": "execute_result"
    }
   ],
   "source": [
    "s[[True, False, False, True, True, False]]"
   ]
  },
  {
   "cell_type": "markdown",
   "id": "72bc3ad8",
   "metadata": {
    "hidden": true
   },
   "source": [
    "Dicha lista no tiene que ser definida de forma explicita, puede ser el resultado de una expresión que arroje valores booleanos"
   ]
  },
  {
   "cell_type": "code",
   "execution_count": 31,
   "id": "d7a9bd90",
   "metadata": {
    "hidden": true
   },
   "outputs": [
    {
     "name": "stdout",
     "output_type": "stream",
     "text": [
      "<class 'pandas.core.series.Series'>\n"
     ]
    },
    {
     "data": {
      "text/plain": [
       "0     True\n",
       "1    False\n",
       "2    False\n",
       "3     True\n",
       "4     True\n",
       "5     True\n",
       "dtype: bool"
      ]
     },
     "execution_count": 31,
     "metadata": {},
     "output_type": "execute_result"
    }
   ],
   "source": [
    "print(type(s > 2))\n",
    "s > 2 #Retorna True donde cada valor de la Serie cumpla la condicion de que sea mayor a 2"
   ]
  },
  {
   "cell_type": "code",
   "execution_count": 5,
   "id": "0f9c3d0c",
   "metadata": {
    "hidden": true
   },
   "outputs": [
    {
     "name": "stdout",
     "output_type": "stream",
     "text": [
      "Serie:\n",
      "0    5\n",
      "1    2\n",
      "2   -3\n",
      "3    7\n",
      "4    8\n",
      "5    4\n",
      "dtype: int64\n"
     ]
    },
    {
     "data": {
      "text/plain": [
       "0    5\n",
       "3    7\n",
       "4    8\n",
       "5    4\n",
       "dtype: int64"
      ]
     },
     "execution_count": 5,
     "metadata": {},
     "output_type": "execute_result"
    }
   ],
   "source": [
    "#Como la expresion anterior nos da una serie de valores booleanos, podemos usarla para extraer los elementos de la serie\n",
    "#que cumplan dicha condicion\n",
    "print(f\"Serie:\\n{s}\")\n",
    "s[s>2]"
   ]
  },
  {
   "cell_type": "markdown",
   "id": "430f0594",
   "metadata": {
    "hidden": true
   },
   "source": [
    "**Se puede utilizar con el metodo loc, se pueden usar arrays booleanos explictos como implicitos**"
   ]
  },
  {
   "cell_type": "code",
   "execution_count": 6,
   "id": "69c5e57a",
   "metadata": {
    "hidden": true
   },
   "outputs": [
    {
     "data": {
      "text/plain": [
       "0    5\n",
       "3    7\n",
       "4    8\n",
       "5    4\n",
       "dtype: int64"
      ]
     },
     "execution_count": 6,
     "metadata": {},
     "output_type": "execute_result"
    }
   ],
   "source": [
    "s.loc[[True, False, False, True, True, True]]\n"
   ]
  },
  {
   "cell_type": "code",
   "execution_count": 7,
   "id": "cc181c2c",
   "metadata": {
    "hidden": true
   },
   "outputs": [
    {
     "data": {
      "text/plain": [
       "0    5\n",
       "3    7\n",
       "4    8\n",
       "5    4\n",
       "dtype: int64"
      ]
     },
     "execution_count": 7,
     "metadata": {},
     "output_type": "execute_result"
    }
   ],
   "source": [
    "s.loc[s > 2]"
   ]
  },
  {
   "cell_type": "markdown",
   "id": "339eb432",
   "metadata": {
    "hidden": true
   },
   "source": [
    "Sin embargo con el metodo iloc, existe un problema **si se usan expresiones que generen una serie pandas (es decir array implicito)**"
   ]
  },
  {
   "cell_type": "code",
   "execution_count": 11,
   "id": "f1b80b1d",
   "metadata": {
    "hidden": true
   },
   "outputs": [
    {
     "name": "stdout",
     "output_type": "stream",
     "text": [
      "Tipo de dato: <class 'numpy.ndarray'>\n",
      "Contenido del array: [ True False False  True  True  True]\n"
     ]
    },
    {
     "data": {
      "text/plain": [
       "0    5\n",
       "3    7\n",
       "4    8\n",
       "5    4\n",
       "dtype: int64"
      ]
     },
     "execution_count": 11,
     "metadata": {},
     "output_type": "execute_result"
    }
   ],
   "source": [
    "#s.iloc[s>2] #Genera ERROR\n",
    "#Si usamos el atributo values para extraer los valores, esto nos genera un array NUMPY, con lo que podemos usar expresiones pandas\n",
    "print(f\"Tipo de dato: {type((s > 2).values)}\")\n",
    "print(f\"Contenido del array: {(s > 2).values}\")\n",
    "#Aplicando el metodo iloc\n",
    "s.iloc[(s > 2).values]"
   ]
  },
  {
   "cell_type": "markdown",
   "id": "70ffc1d6",
   "metadata": {
    "hidden": true
   },
   "source": [
    "Usando **array explicto el metodo iloc** funciona normal"
   ]
  },
  {
   "cell_type": "code",
   "execution_count": 12,
   "id": "8f81bd59",
   "metadata": {
    "hidden": true
   },
   "outputs": [
    {
     "data": {
      "text/plain": [
       "0    5\n",
       "3    7\n",
       "4    8\n",
       "5    4\n",
       "dtype: int64"
      ]
     },
     "execution_count": 12,
     "metadata": {},
     "output_type": "execute_result"
    }
   ],
   "source": [
    "s.iloc[[True, False, False, True, True, True]]"
   ]
  },
  {
   "cell_type": "markdown",
   "id": "0ca11a94",
   "metadata": {
    "heading_collapsed": true,
    "hidden": true
   },
   "source": [
    "### Seleccion aleatoria\n",
    ">Con el método `pandas.Series.sample` permite extraer elementos de una serie, dicho método tiene los parametros:\n",
    "* **n** permite especificar el numero de elementos a extraer\n",
    "* **frac** Se utiliza para indicar una fraccion del numero total de elementos a extraer.\n",
    "* **replace** indica si la extracción se realiza con reemplazo o no.\n",
    "* **weights** indica los pesos a aplicar a cada elemento para realizar una extracción aleatoria ponderada.\n",
    "* **random_state** \"semilla\" para generador de numero aleatorios que asegure la reproducibilidad de la extracción."
   ]
  },
  {
   "cell_type": "code",
   "execution_count": 2,
   "id": "ebefadc0",
   "metadata": {
    "hidden": true
   },
   "outputs": [
    {
     "data": {
      "text/plain": [
       "a    10\n",
       "b    20\n",
       "c    30\n",
       "d    40\n",
       "dtype: int64"
      ]
     },
     "execution_count": 2,
     "metadata": {},
     "output_type": "execute_result"
    }
   ],
   "source": [
    "s = pd.Series([10, 20, 30, 40], index = [\"a\", \"b\", \"c\", \"d\"])\n",
    "s"
   ]
  },
  {
   "cell_type": "markdown",
   "id": "1f76f051",
   "metadata": {
    "hidden": true
   },
   "source": [
    "Podemos extraer 3 elementos y aplicando un valor 18 como semilla del generador de numero aleatorios."
   ]
  },
  {
   "cell_type": "code",
   "execution_count": 3,
   "id": "aee2de86",
   "metadata": {
    "hidden": true
   },
   "outputs": [
    {
     "data": {
      "text/plain": [
       "d    40\n",
       "b    20\n",
       "a    10\n",
       "dtype: int64"
      ]
     },
     "execution_count": 3,
     "metadata": {},
     "output_type": "execute_result"
    }
   ],
   "source": [
    "s.sample(3,random_state=18)"
   ]
  },
  {
   "cell_type": "markdown",
   "id": "365ecbdd",
   "metadata": {
    "hidden": true
   },
   "source": [
    "En el siguiente ejemplo se ha extraido el ***60%*** de los valores de la serie original haciendo uso del parametro **frac**"
   ]
  },
  {
   "cell_type": "code",
   "execution_count": 4,
   "id": "5234b604",
   "metadata": {
    "hidden": true
   },
   "outputs": [
    {
     "data": {
      "text/plain": [
       "d    40\n",
       "b    20\n",
       "dtype: int64"
      ]
     },
     "execution_count": 4,
     "metadata": {},
     "output_type": "execute_result"
    }
   ],
   "source": [
    "s.sample(frac=0.6, random_state=18)"
   ]
  },
  {
   "cell_type": "markdown",
   "id": "4f08cc6a",
   "metadata": {
    "hidden": true
   },
   "source": [
    "La extracción con remplazo se puede escificar cualquier numero de elementos, aunque sea mayor a la longitud de la serie, si se omite, solo es posible extraer el numero de elementos que tiene la serie"
   ]
  },
  {
   "cell_type": "code",
   "execution_count": 5,
   "id": "93230a6d",
   "metadata": {
    "hidden": true
   },
   "outputs": [
    {
     "data": {
      "text/plain": [
       "c    30\n",
       "d    40\n",
       "a    10\n",
       "b    20\n",
       "c    30\n",
       "b    20\n",
       "c    30\n",
       "c    30\n",
       "c    30\n",
       "a    10\n",
       "dtype: int64"
      ]
     },
     "execution_count": 5,
     "metadata": {},
     "output_type": "execute_result"
    }
   ],
   "source": [
    "s.sample(10, random_state=18, replace=True)"
   ]
  },
  {
   "cell_type": "markdown",
   "id": "2b790439",
   "metadata": {
    "hidden": true
   },
   "source": [
    "### El método pop\n",
    "\n",
    "> `pandas.Series.pop` ***extrae y elimina*** un elemento de una serie cuyo indice se indica como argumento"
   ]
  },
  {
   "cell_type": "code",
   "execution_count": 6,
   "id": "2c399e6f",
   "metadata": {
    "hidden": true
   },
   "outputs": [
    {
     "data": {
      "text/plain": [
       "2"
      ]
     },
     "execution_count": 6,
     "metadata": {},
     "output_type": "execute_result"
    }
   ],
   "source": [
    "s = pd.Series([1, 2, 3, 4])\n",
    "s.pop(1) #Extrae el elemento que esta en la posicion 1, en este caso el 2"
   ]
  },
  {
   "cell_type": "code",
   "execution_count": 8,
   "id": "bf9e4627",
   "metadata": {
    "hidden": true
   },
   "outputs": [
    {
     "data": {
      "text/plain": [
       "0    1\n",
       "2    3\n",
       "3    4\n",
       "dtype: int64"
      ]
     },
     "execution_count": 8,
     "metadata": {},
     "output_type": "execute_result"
    }
   ],
   "source": [
    "s #Observar como los indices NO se recorren"
   ]
  },
  {
   "cell_type": "code",
   "execution_count": 9,
   "id": "4e5e6e82",
   "metadata": {
    "hidden": true
   },
   "outputs": [
    {
     "name": "stdout",
     "output_type": "stream",
     "text": [
      "ERROR, NO EXISTE EL INDICE\n"
     ]
    }
   ],
   "source": [
    "try:\n",
    "    s.pop(18)\n",
    "except:\n",
    "    print(\"ERROR, NO EXISTE EL INDICE\")"
   ]
  },
  {
   "cell_type": "markdown",
   "id": "a36ec1e7",
   "metadata": {
    "hidden": true
   },
   "source": [
    "**Si la serie tiene un indice explicito, el argumento de pop hara referencia a este indice**"
   ]
  },
  {
   "cell_type": "code",
   "execution_count": 10,
   "id": "557aac79",
   "metadata": {
    "hidden": true
   },
   "outputs": [
    {
     "data": {
      "text/plain": [
       "10"
      ]
     },
     "execution_count": 10,
     "metadata": {},
     "output_type": "execute_result"
    }
   ],
   "source": [
    "s = pd.Series([10, 20, 30, 40], index = [\"a\", \"b\", \"c\", \"d\"])\n",
    "s.pop(\"a\")"
   ]
  },
  {
   "cell_type": "markdown",
   "id": "2a6568e0",
   "metadata": {
    "hidden": true
   },
   "source": [
    "NO AL IMPLICITO, ERROR"
   ]
  },
  {
   "cell_type": "code",
   "execution_count": 11,
   "id": "bb4329d1",
   "metadata": {
    "hidden": true
   },
   "outputs": [
    {
     "name": "stdout",
     "output_type": "stream",
     "text": [
      "Error\n"
     ]
    }
   ],
   "source": [
    "try:\n",
    "    s.pop(0)\n",
    "except:\n",
    "    print(\"Error\")"
   ]
  },
  {
   "cell_type": "markdown",
   "id": "c600fbd3",
   "metadata": {},
   "source": [
    "## Selección de datos en DataFrames"
   ]
  },
  {
   "cell_type": "markdown",
   "id": "7c6d7f6e",
   "metadata": {
    "heading_collapsed": true
   },
   "source": [
    "### Aspectos generales"
   ]
  },
  {
   "cell_type": "code",
   "execution_count": 2,
   "id": "9dd872a7",
   "metadata": {
    "hidden": true
   },
   "outputs": [
    {
     "data": {
      "text/html": [
       "<div>\n",
       "<style scoped>\n",
       "    .dataframe tbody tr th:only-of-type {\n",
       "        vertical-align: middle;\n",
       "    }\n",
       "\n",
       "    .dataframe tbody tr th {\n",
       "        vertical-align: top;\n",
       "    }\n",
       "\n",
       "    .dataframe thead th {\n",
       "        text-align: right;\n",
       "    }\n",
       "</style>\n",
       "<table border=\"1\" class=\"dataframe\">\n",
       "  <thead>\n",
       "    <tr style=\"text-align: right;\">\n",
       "      <th></th>\n",
       "      <th>Entradas</th>\n",
       "      <th>Salidas</th>\n",
       "      <th>Valoracion</th>\n",
       "      <th>Limite</th>\n",
       "      <th>Cambio</th>\n",
       "    </tr>\n",
       "  </thead>\n",
       "  <tbody>\n",
       "    <tr>\n",
       "      <th>Ene</th>\n",
       "      <td>41</td>\n",
       "      <td>17</td>\n",
       "      <td>66</td>\n",
       "      <td>No</td>\n",
       "      <td>1.43</td>\n",
       "    </tr>\n",
       "    <tr>\n",
       "      <th>Feb</th>\n",
       "      <td>32</td>\n",
       "      <td>54</td>\n",
       "      <td>54</td>\n",
       "      <td>Si</td>\n",
       "      <td>1.16</td>\n",
       "    </tr>\n",
       "    <tr>\n",
       "      <th>Mar</th>\n",
       "      <td>56</td>\n",
       "      <td>6</td>\n",
       "      <td>49</td>\n",
       "      <td>No</td>\n",
       "      <td>-0.67</td>\n",
       "    </tr>\n",
       "    <tr>\n",
       "      <th>Abr</th>\n",
       "      <td>18</td>\n",
       "      <td>78</td>\n",
       "      <td>66</td>\n",
       "      <td>No</td>\n",
       "      <td>0.77</td>\n",
       "    </tr>\n",
       "  </tbody>\n",
       "</table>\n",
       "</div>"
      ],
      "text/plain": [
       "     Entradas  Salidas  Valoracion Limite  Cambio\n",
       "Ene        41       17          66     No    1.43\n",
       "Feb        32       54          54     Si    1.16\n",
       "Mar        56        6          49     No   -0.67\n",
       "Abr        18       78          66     No    0.77"
      ]
     },
     "execution_count": 2,
     "metadata": {},
     "output_type": "execute_result"
    }
   ],
   "source": [
    "ventas = pd.DataFrame({\n",
    "    \"Entradas\": [41, 32, 56, 18],\n",
    "    \"Salidas\": [17, 54, 6, 78],\n",
    "    \"Valoracion\": [66, 54, 49, 66],\n",
    "    \"Limite\": [\"No\", \"Si\", \"No\", \"No\"],\n",
    "    \"Cambio\": [1.43, 1.16, -0.67, 0.77]\n",
    "},\n",
    "    index=[\"Ene\", \"Feb\",\"Mar\", \"Abr\"]\n",
    ")\n",
    "ventas"
   ]
  },
  {
   "cell_type": "markdown",
   "id": "3d531b84",
   "metadata": {
    "hidden": true
   },
   "source": [
    "Se puede utilizar la sintaxis de diccionarios de Python, para acceder una columna."
   ]
  },
  {
   "cell_type": "code",
   "execution_count": 3,
   "id": "99a674e2",
   "metadata": {
    "hidden": true
   },
   "outputs": [
    {
     "name": "stdout",
     "output_type": "stream",
     "text": [
      "El tipo de dato es: <class 'pandas.core.series.Series'>\n"
     ]
    },
    {
     "data": {
      "text/plain": [
       "Ene    41\n",
       "Feb    32\n",
       "Mar    56\n",
       "Abr    18\n",
       "Name: Entradas, dtype: int64"
      ]
     },
     "execution_count": 3,
     "metadata": {},
     "output_type": "execute_result"
    }
   ],
   "source": [
    "print(\"El tipo de dato es:\", type(ventas[\"Entradas\"])) #Observar que al utilizar la sintaxis diccionario, se retorna una serie de pandas\n",
    "ventas[\"Entradas\"]"
   ]
  },
  {
   "cell_type": "markdown",
   "id": "7fbf9f04",
   "metadata": {
    "hidden": true
   },
   "source": [
    "Podemos **acceder** al valor del mes febrero, de la columna Entradas."
   ]
  },
  {
   "cell_type": "code",
   "execution_count": 4,
   "id": "2b4d59a6",
   "metadata": {
    "hidden": true
   },
   "outputs": [
    {
     "data": {
      "text/plain": [
       "32"
      ]
     },
     "execution_count": 4,
     "metadata": {},
     "output_type": "execute_result"
    }
   ],
   "source": [
    "ventas[\"Entradas\"][\"Feb\"]"
   ]
  },
  {
   "cell_type": "markdown",
   "id": "796435b7",
   "metadata": {
    "hidden": true
   },
   "source": [
    "Se puede **modificar una columna** de un DataFrame, asignando un array (o serie) de valores de la ***misma longitud***"
   ]
  },
  {
   "cell_type": "code",
   "execution_count": 21,
   "id": "5bfbe469",
   "metadata": {
    "hidden": true,
    "scrolled": true
   },
   "outputs": [
    {
     "data": {
      "text/html": [
       "<div>\n",
       "<style scoped>\n",
       "    .dataframe tbody tr th:only-of-type {\n",
       "        vertical-align: middle;\n",
       "    }\n",
       "\n",
       "    .dataframe tbody tr th {\n",
       "        vertical-align: top;\n",
       "    }\n",
       "\n",
       "    .dataframe thead th {\n",
       "        text-align: right;\n",
       "    }\n",
       "</style>\n",
       "<table border=\"1\" class=\"dataframe\">\n",
       "  <thead>\n",
       "    <tr style=\"text-align: right;\">\n",
       "      <th></th>\n",
       "      <th>Entradas</th>\n",
       "      <th>Salidas</th>\n",
       "      <th>Valoracion</th>\n",
       "      <th>Limite</th>\n",
       "      <th>Cambio</th>\n",
       "    </tr>\n",
       "  </thead>\n",
       "  <tbody>\n",
       "    <tr>\n",
       "      <th>Ene</th>\n",
       "      <td>33</td>\n",
       "      <td>17</td>\n",
       "      <td>66</td>\n",
       "      <td>No</td>\n",
       "      <td>1.43</td>\n",
       "    </tr>\n",
       "    <tr>\n",
       "      <th>Feb</th>\n",
       "      <td>25</td>\n",
       "      <td>54</td>\n",
       "      <td>54</td>\n",
       "      <td>Si</td>\n",
       "      <td>1.16</td>\n",
       "    </tr>\n",
       "    <tr>\n",
       "      <th>Mar</th>\n",
       "      <td>40</td>\n",
       "      <td>6</td>\n",
       "      <td>49</td>\n",
       "      <td>No</td>\n",
       "      <td>-0.67</td>\n",
       "    </tr>\n",
       "    <tr>\n",
       "      <th>Abr</th>\n",
       "      <td>12</td>\n",
       "      <td>78</td>\n",
       "      <td>66</td>\n",
       "      <td>No</td>\n",
       "      <td>0.77</td>\n",
       "    </tr>\n",
       "  </tbody>\n",
       "</table>\n",
       "</div>"
      ],
      "text/plain": [
       "     Entradas  Salidas  Valoracion Limite  Cambio\n",
       "Ene        33       17          66     No    1.43\n",
       "Feb        25       54          54     Si    1.16\n",
       "Mar        40        6          49     No   -0.67\n",
       "Abr        12       78          66     No    0.77"
      ]
     },
     "execution_count": 21,
     "metadata": {},
     "output_type": "execute_result"
    }
   ],
   "source": [
    "ventas[\"Entradas\"] = [33, 25, 40, 12]\n",
    "ventas"
   ]
  },
  {
   "cell_type": "markdown",
   "id": "7c2fa597",
   "metadata": {
    "hidden": true
   },
   "source": [
    "Si se asigna un **unico valor escalar**, este se propaga por toda la columna."
   ]
  },
  {
   "cell_type": "code",
   "execution_count": null,
   "id": "d047ed17",
   "metadata": {
    "hidden": true
   },
   "outputs": [],
   "source": [
    "ventas[\"Salidas\"] = 1\n",
    "ventasas"
   ]
  },
  {
   "cell_type": "markdown",
   "id": "84712cb7",
   "metadata": {
    "hidden": true
   },
   "source": [
    " Si se asigna una Serie a una columna de DataFrame, se considera que los indices se hacen coincidir, en caso que no se encuentren se asigna un valor NaN o se decarta."
   ]
  },
  {
   "cell_type": "code",
   "execution_count": 24,
   "id": "9fa6700f",
   "metadata": {
    "hidden": true
   },
   "outputs": [
    {
     "data": {
      "text/html": [
       "<div>\n",
       "<style scoped>\n",
       "    .dataframe tbody tr th:only-of-type {\n",
       "        vertical-align: middle;\n",
       "    }\n",
       "\n",
       "    .dataframe tbody tr th {\n",
       "        vertical-align: top;\n",
       "    }\n",
       "\n",
       "    .dataframe thead th {\n",
       "        text-align: right;\n",
       "    }\n",
       "</style>\n",
       "<table border=\"1\" class=\"dataframe\">\n",
       "  <thead>\n",
       "    <tr style=\"text-align: right;\">\n",
       "      <th></th>\n",
       "      <th>Entradas</th>\n",
       "      <th>Salidas</th>\n",
       "      <th>Valoracion</th>\n",
       "      <th>Limite</th>\n",
       "      <th>Cambio</th>\n",
       "      <th>Perdidas</th>\n",
       "    </tr>\n",
       "  </thead>\n",
       "  <tbody>\n",
       "    <tr>\n",
       "      <th>Ene</th>\n",
       "      <td>33</td>\n",
       "      <td>17</td>\n",
       "      <td>66</td>\n",
       "      <td>No</td>\n",
       "      <td>1.43</td>\n",
       "      <td>5.0</td>\n",
       "    </tr>\n",
       "    <tr>\n",
       "      <th>Feb</th>\n",
       "      <td>25</td>\n",
       "      <td>54</td>\n",
       "      <td>54</td>\n",
       "      <td>Si</td>\n",
       "      <td>1.16</td>\n",
       "      <td>NaN</td>\n",
       "    </tr>\n",
       "    <tr>\n",
       "      <th>Mar</th>\n",
       "      <td>40</td>\n",
       "      <td>6</td>\n",
       "      <td>49</td>\n",
       "      <td>No</td>\n",
       "      <td>-0.67</td>\n",
       "      <td>4.0</td>\n",
       "    </tr>\n",
       "    <tr>\n",
       "      <th>Abr</th>\n",
       "      <td>12</td>\n",
       "      <td>78</td>\n",
       "      <td>66</td>\n",
       "      <td>No</td>\n",
       "      <td>0.77</td>\n",
       "      <td>6.0</td>\n",
       "    </tr>\n",
       "  </tbody>\n",
       "</table>\n",
       "</div>"
      ],
      "text/plain": [
       "     Entradas  Salidas  Valoracion Limite  Cambio  Perdidas\n",
       "Ene        33       17          66     No    1.43       5.0\n",
       "Feb        25       54          54     Si    1.16       NaN\n",
       "Mar        40        6          49     No   -0.67       4.0\n",
       "Abr        12       78          66     No    0.77       6.0"
      ]
     },
     "execution_count": 24,
     "metadata": {},
     "output_type": "execute_result"
    }
   ],
   "source": [
    "#Observe como se añade una columna Perdidas, pero dicha serie tiene el indice Feb, que si se encuentra en el dataframe se \n",
    "#asigna NaN, mientras que el indice May se descarta\n",
    "ventas[\"Perdidas\"] = pd.Series([5, 4, 6, 8], index=[\"Ene\", \"Mar\", \"Abr\",\"May\"])\n",
    "ventas"
   ]
  },
  {
   "cell_type": "markdown",
   "id": "327447c8",
   "metadata": {
    "hidden": true
   },
   "source": [
    "Se pueden asignar valores que **proceden del mismo dataFrame**"
   ]
  },
  {
   "cell_type": "code",
   "execution_count": 25,
   "id": "f19a4374",
   "metadata": {
    "hidden": true
   },
   "outputs": [
    {
     "data": {
      "text/html": [
       "<div>\n",
       "<style scoped>\n",
       "    .dataframe tbody tr th:only-of-type {\n",
       "        vertical-align: middle;\n",
       "    }\n",
       "\n",
       "    .dataframe tbody tr th {\n",
       "        vertical-align: top;\n",
       "    }\n",
       "\n",
       "    .dataframe thead th {\n",
       "        text-align: right;\n",
       "    }\n",
       "</style>\n",
       "<table border=\"1\" class=\"dataframe\">\n",
       "  <thead>\n",
       "    <tr style=\"text-align: right;\">\n",
       "      <th></th>\n",
       "      <th>Entradas</th>\n",
       "      <th>Salidas</th>\n",
       "      <th>Valoracion</th>\n",
       "      <th>Limite</th>\n",
       "      <th>Cambio</th>\n",
       "      <th>Perdidas</th>\n",
       "      <th>Ganancias</th>\n",
       "    </tr>\n",
       "  </thead>\n",
       "  <tbody>\n",
       "    <tr>\n",
       "      <th>Ene</th>\n",
       "      <td>33</td>\n",
       "      <td>17</td>\n",
       "      <td>66</td>\n",
       "      <td>No</td>\n",
       "      <td>1.43</td>\n",
       "      <td>5.0</td>\n",
       "      <td>63.800000</td>\n",
       "    </tr>\n",
       "    <tr>\n",
       "      <th>Feb</th>\n",
       "      <td>25</td>\n",
       "      <td>54</td>\n",
       "      <td>54</td>\n",
       "      <td>Si</td>\n",
       "      <td>1.16</td>\n",
       "      <td>NaN</td>\n",
       "      <td>48.200000</td>\n",
       "    </tr>\n",
       "    <tr>\n",
       "      <th>Mar</th>\n",
       "      <td>40</td>\n",
       "      <td>6</td>\n",
       "      <td>49</td>\n",
       "      <td>No</td>\n",
       "      <td>-0.67</td>\n",
       "      <td>4.0</td>\n",
       "      <td>78.366667</td>\n",
       "    </tr>\n",
       "    <tr>\n",
       "      <th>Abr</th>\n",
       "      <td>12</td>\n",
       "      <td>78</td>\n",
       "      <td>66</td>\n",
       "      <td>No</td>\n",
       "      <td>0.77</td>\n",
       "      <td>6.0</td>\n",
       "      <td>21.800000</td>\n",
       "    </tr>\n",
       "  </tbody>\n",
       "</table>\n",
       "</div>"
      ],
      "text/plain": [
       "     Entradas  Salidas  Valoracion Limite  Cambio  Perdidas  Ganancias\n",
       "Ene        33       17          66     No    1.43       5.0  63.800000\n",
       "Feb        25       54          54     Si    1.16       NaN  48.200000\n",
       "Mar        40        6          49     No   -0.67       4.0  78.366667\n",
       "Abr        12       78          66     No    0.77       6.0  21.800000"
      ]
     },
     "execution_count": 25,
     "metadata": {},
     "output_type": "execute_result"
    }
   ],
   "source": [
    "ventas[\"Ganancias\"] = (ventas[\"Entradas\"] * 2) -(ventas[\"Valoracion\"] / 30)\n",
    "ventas"
   ]
  },
  {
   "cell_type": "markdown",
   "id": "54455b18",
   "metadata": {
    "hidden": true
   },
   "source": [
    "Tambien se puede acceder con la notación \"Punto\" Similar a SQL tabla.columna, aqui es dataframe.columna\n",
    "**Nota**: Con esta notación no es posible crear nuevas columnas, ni eliminarlas, ademas es muy esctricta con el nombre de la columna."
   ]
  },
  {
   "cell_type": "code",
   "execution_count": 26,
   "id": "f962c200",
   "metadata": {
    "hidden": true,
    "scrolled": true
   },
   "outputs": [
    {
     "data": {
      "text/plain": [
       "Ene    63.800000\n",
       "Feb    48.200000\n",
       "Mar    78.366667\n",
       "Abr    21.800000\n",
       "Name: Ganancias, dtype: float64"
      ]
     },
     "execution_count": 26,
     "metadata": {},
     "output_type": "execute_result"
    }
   ],
   "source": [
    "ventas.Ganancias"
   ]
  },
  {
   "cell_type": "markdown",
   "id": "93de68d8",
   "metadata": {
    "heading_collapsed": true
   },
   "source": [
    "### Uso de rangos\n",
    "\n",
    "El uso de rangos entre corchetes realiza una selección de filas."
   ]
  },
  {
   "cell_type": "code",
   "execution_count": 6,
   "id": "feba5a9c",
   "metadata": {
    "hidden": true
   },
   "outputs": [
    {
     "data": {
      "text/html": [
       "<div>\n",
       "<style scoped>\n",
       "    .dataframe tbody tr th:only-of-type {\n",
       "        vertical-align: middle;\n",
       "    }\n",
       "\n",
       "    .dataframe tbody tr th {\n",
       "        vertical-align: top;\n",
       "    }\n",
       "\n",
       "    .dataframe thead th {\n",
       "        text-align: right;\n",
       "    }\n",
       "</style>\n",
       "<table border=\"1\" class=\"dataframe\">\n",
       "  <thead>\n",
       "    <tr style=\"text-align: right;\">\n",
       "      <th></th>\n",
       "      <th>A</th>\n",
       "      <th>B</th>\n",
       "      <th>C</th>\n",
       "    </tr>\n",
       "  </thead>\n",
       "  <tbody>\n",
       "    <tr>\n",
       "      <th>a</th>\n",
       "      <td>0</td>\n",
       "      <td>1</td>\n",
       "      <td>2</td>\n",
       "    </tr>\n",
       "    <tr>\n",
       "      <th>b</th>\n",
       "      <td>3</td>\n",
       "      <td>4</td>\n",
       "      <td>5</td>\n",
       "    </tr>\n",
       "    <tr>\n",
       "      <th>c</th>\n",
       "      <td>6</td>\n",
       "      <td>7</td>\n",
       "      <td>8</td>\n",
       "    </tr>\n",
       "    <tr>\n",
       "      <th>d</th>\n",
       "      <td>9</td>\n",
       "      <td>10</td>\n",
       "      <td>11</td>\n",
       "    </tr>\n",
       "    <tr>\n",
       "      <th>e</th>\n",
       "      <td>12</td>\n",
       "      <td>13</td>\n",
       "      <td>14</td>\n",
       "    </tr>\n",
       "    <tr>\n",
       "      <th>f</th>\n",
       "      <td>15</td>\n",
       "      <td>16</td>\n",
       "      <td>17</td>\n",
       "    </tr>\n",
       "  </tbody>\n",
       "</table>\n",
       "</div>"
      ],
      "text/plain": [
       "    A   B   C\n",
       "a   0   1   2\n",
       "b   3   4   5\n",
       "c   6   7   8\n",
       "d   9  10  11\n",
       "e  12  13  14\n",
       "f  15  16  17"
      ]
     },
     "execution_count": 6,
     "metadata": {},
     "output_type": "execute_result"
    }
   ],
   "source": [
    "df = pd.DataFrame(np.arange(18).reshape([6,3]),\n",
    "                 index= [\"a\", \"b\", \"c\", \"d\", \"e\", \"f\"],\n",
    "                 columns=[\"A\", \"B\", \"C\"])\n",
    "df"
   ]
  },
  {
   "cell_type": "markdown",
   "id": "9dee68c4",
   "metadata": {
    "hidden": true
   },
   "source": [
    "**Observe**: que se devuelven las filas entre el primer valor del rango (incluido) y el ultimo (sin incluir)"
   ]
  },
  {
   "cell_type": "code",
   "execution_count": 7,
   "id": "3a4493d3",
   "metadata": {
    "hidden": true,
    "scrolled": true
   },
   "outputs": [
    {
     "data": {
      "text/html": [
       "<div>\n",
       "<style scoped>\n",
       "    .dataframe tbody tr th:only-of-type {\n",
       "        vertical-align: middle;\n",
       "    }\n",
       "\n",
       "    .dataframe tbody tr th {\n",
       "        vertical-align: top;\n",
       "    }\n",
       "\n",
       "    .dataframe thead th {\n",
       "        text-align: right;\n",
       "    }\n",
       "</style>\n",
       "<table border=\"1\" class=\"dataframe\">\n",
       "  <thead>\n",
       "    <tr style=\"text-align: right;\">\n",
       "      <th></th>\n",
       "      <th>A</th>\n",
       "      <th>B</th>\n",
       "      <th>C</th>\n",
       "    </tr>\n",
       "  </thead>\n",
       "  <tbody>\n",
       "    <tr>\n",
       "      <th>c</th>\n",
       "      <td>6</td>\n",
       "      <td>7</td>\n",
       "      <td>8</td>\n",
       "    </tr>\n",
       "    <tr>\n",
       "      <th>d</th>\n",
       "      <td>9</td>\n",
       "      <td>10</td>\n",
       "      <td>11</td>\n",
       "    </tr>\n",
       "    <tr>\n",
       "      <th>e</th>\n",
       "      <td>12</td>\n",
       "      <td>13</td>\n",
       "      <td>14</td>\n",
       "    </tr>\n",
       "  </tbody>\n",
       "</table>\n",
       "</div>"
      ],
      "text/plain": [
       "    A   B   C\n",
       "c   6   7   8\n",
       "d   9  10  11\n",
       "e  12  13  14"
      ]
     },
     "execution_count": 7,
     "metadata": {},
     "output_type": "execute_result"
    }
   ],
   "source": [
    "df[2:5]"
   ]
  },
  {
   "cell_type": "markdown",
   "id": "e7b1fb6e",
   "metadata": {
    "hidden": true
   },
   "source": [
    "**Pero** si se usan las etiquetas del **indice (columns)**, se incluyen tanto la fila primera del rango como la segunda"
   ]
  },
  {
   "cell_type": "code",
   "execution_count": 8,
   "id": "14917702",
   "metadata": {
    "hidden": true
   },
   "outputs": [
    {
     "data": {
      "text/html": [
       "<div>\n",
       "<style scoped>\n",
       "    .dataframe tbody tr th:only-of-type {\n",
       "        vertical-align: middle;\n",
       "    }\n",
       "\n",
       "    .dataframe tbody tr th {\n",
       "        vertical-align: top;\n",
       "    }\n",
       "\n",
       "    .dataframe thead th {\n",
       "        text-align: right;\n",
       "    }\n",
       "</style>\n",
       "<table border=\"1\" class=\"dataframe\">\n",
       "  <thead>\n",
       "    <tr style=\"text-align: right;\">\n",
       "      <th></th>\n",
       "      <th>A</th>\n",
       "      <th>B</th>\n",
       "      <th>C</th>\n",
       "    </tr>\n",
       "  </thead>\n",
       "  <tbody>\n",
       "    <tr>\n",
       "      <th>b</th>\n",
       "      <td>3</td>\n",
       "      <td>4</td>\n",
       "      <td>5</td>\n",
       "    </tr>\n",
       "    <tr>\n",
       "      <th>c</th>\n",
       "      <td>6</td>\n",
       "      <td>7</td>\n",
       "      <td>8</td>\n",
       "    </tr>\n",
       "    <tr>\n",
       "      <th>d</th>\n",
       "      <td>9</td>\n",
       "      <td>10</td>\n",
       "      <td>11</td>\n",
       "    </tr>\n",
       "  </tbody>\n",
       "</table>\n",
       "</div>"
      ],
      "text/plain": [
       "   A   B   C\n",
       "b  3   4   5\n",
       "c  6   7   8\n",
       "d  9  10  11"
      ]
     },
     "execution_count": 8,
     "metadata": {},
     "output_type": "execute_result"
    }
   ],
   "source": [
    "df[\"b\":\"d\"]"
   ]
  },
  {
   "cell_type": "markdown",
   "id": "620064ca",
   "metadata": {
    "hidden": true
   },
   "source": [
    "Por supuesto si se omite el primer o segundo valor del rango, se entiende que se quiere seleccionar desde la primera o hasta ultima fila correspondiente."
   ]
  },
  {
   "cell_type": "code",
   "execution_count": 9,
   "id": "fc6ac1dd",
   "metadata": {
    "hidden": true
   },
   "outputs": [
    {
     "data": {
      "text/html": [
       "<div>\n",
       "<style scoped>\n",
       "    .dataframe tbody tr th:only-of-type {\n",
       "        vertical-align: middle;\n",
       "    }\n",
       "\n",
       "    .dataframe tbody tr th {\n",
       "        vertical-align: top;\n",
       "    }\n",
       "\n",
       "    .dataframe thead th {\n",
       "        text-align: right;\n",
       "    }\n",
       "</style>\n",
       "<table border=\"1\" class=\"dataframe\">\n",
       "  <thead>\n",
       "    <tr style=\"text-align: right;\">\n",
       "      <th></th>\n",
       "      <th>A</th>\n",
       "      <th>B</th>\n",
       "      <th>C</th>\n",
       "    </tr>\n",
       "  </thead>\n",
       "  <tbody>\n",
       "    <tr>\n",
       "      <th>a</th>\n",
       "      <td>0</td>\n",
       "      <td>1</td>\n",
       "      <td>2</td>\n",
       "    </tr>\n",
       "    <tr>\n",
       "      <th>b</th>\n",
       "      <td>3</td>\n",
       "      <td>4</td>\n",
       "      <td>5</td>\n",
       "    </tr>\n",
       "    <tr>\n",
       "      <th>c</th>\n",
       "      <td>6</td>\n",
       "      <td>7</td>\n",
       "      <td>8</td>\n",
       "    </tr>\n",
       "  </tbody>\n",
       "</table>\n",
       "</div>"
      ],
      "text/plain": [
       "   A  B  C\n",
       "a  0  1  2\n",
       "b  3  4  5\n",
       "c  6  7  8"
      ]
     },
     "execution_count": 9,
     "metadata": {},
     "output_type": "execute_result"
    }
   ],
   "source": [
    "df[:3] #Todas las filas desde la primera hata la 3"
   ]
  },
  {
   "cell_type": "code",
   "execution_count": 11,
   "id": "ed000475",
   "metadata": {
    "hidden": true
   },
   "outputs": [
    {
     "data": {
      "text/html": [
       "<div>\n",
       "<style scoped>\n",
       "    .dataframe tbody tr th:only-of-type {\n",
       "        vertical-align: middle;\n",
       "    }\n",
       "\n",
       "    .dataframe tbody tr th {\n",
       "        vertical-align: top;\n",
       "    }\n",
       "\n",
       "    .dataframe thead th {\n",
       "        text-align: right;\n",
       "    }\n",
       "</style>\n",
       "<table border=\"1\" class=\"dataframe\">\n",
       "  <thead>\n",
       "    <tr style=\"text-align: right;\">\n",
       "      <th></th>\n",
       "      <th>A</th>\n",
       "      <th>B</th>\n",
       "      <th>C</th>\n",
       "    </tr>\n",
       "  </thead>\n",
       "  <tbody>\n",
       "    <tr>\n",
       "      <th>c</th>\n",
       "      <td>6</td>\n",
       "      <td>7</td>\n",
       "      <td>8</td>\n",
       "    </tr>\n",
       "    <tr>\n",
       "      <th>d</th>\n",
       "      <td>9</td>\n",
       "      <td>10</td>\n",
       "      <td>11</td>\n",
       "    </tr>\n",
       "    <tr>\n",
       "      <th>e</th>\n",
       "      <td>12</td>\n",
       "      <td>13</td>\n",
       "      <td>14</td>\n",
       "    </tr>\n",
       "    <tr>\n",
       "      <th>f</th>\n",
       "      <td>15</td>\n",
       "      <td>16</td>\n",
       "      <td>17</td>\n",
       "    </tr>\n",
       "  </tbody>\n",
       "</table>\n",
       "</div>"
      ],
      "text/plain": [
       "    A   B   C\n",
       "c   6   7   8\n",
       "d   9  10  11\n",
       "e  12  13  14\n",
       "f  15  16  17"
      ]
     },
     "execution_count": 11,
     "metadata": {},
     "output_type": "execute_result"
    }
   ],
   "source": [
    "df[\"c\":] #Todas las filas, desde la etiqueta c hasta la f, la cual es la ultima etiqueta."
   ]
  },
  {
   "cell_type": "code",
   "execution_count": 20,
   "id": "0d24a88b",
   "metadata": {
    "hidden": true
   },
   "outputs": [
    {
     "data": {
      "text/plain": [
       "a    0\n",
       "Name: A, dtype: int32"
      ]
     },
     "execution_count": 20,
     "metadata": {},
     "output_type": "execute_result"
    }
   ],
   "source": [
    "df[0:1][\"A\"] #Seleccionamos la primera fila, solo de la columna A"
   ]
  },
  {
   "cell_type": "markdown",
   "id": "9d527e03",
   "metadata": {
    "heading_collapsed": true
   },
   "source": [
    "### Uso de listas\n",
    "Si al realizar la selección, situamos entre corchetes una lista de etiquetas, estaremos seleccionando columnas en el orden en el que aparecen en la lista y con formato dataframe."
   ]
  },
  {
   "cell_type": "code",
   "execution_count": 22,
   "id": "e9334601",
   "metadata": {
    "hidden": true
   },
   "outputs": [
    {
     "name": "stdout",
     "output_type": "stream",
     "text": [
      "<class 'pandas.core.frame.DataFrame'>\n"
     ]
    },
    {
     "data": {
      "text/html": [
       "<div>\n",
       "<style scoped>\n",
       "    .dataframe tbody tr th:only-of-type {\n",
       "        vertical-align: middle;\n",
       "    }\n",
       "\n",
       "    .dataframe tbody tr th {\n",
       "        vertical-align: top;\n",
       "    }\n",
       "\n",
       "    .dataframe thead th {\n",
       "        text-align: right;\n",
       "    }\n",
       "</style>\n",
       "<table border=\"1\" class=\"dataframe\">\n",
       "  <thead>\n",
       "    <tr style=\"text-align: right;\">\n",
       "      <th></th>\n",
       "      <th>C</th>\n",
       "      <th>A</th>\n",
       "    </tr>\n",
       "  </thead>\n",
       "  <tbody>\n",
       "    <tr>\n",
       "      <th>a</th>\n",
       "      <td>2</td>\n",
       "      <td>0</td>\n",
       "    </tr>\n",
       "    <tr>\n",
       "      <th>b</th>\n",
       "      <td>5</td>\n",
       "      <td>3</td>\n",
       "    </tr>\n",
       "    <tr>\n",
       "      <th>c</th>\n",
       "      <td>8</td>\n",
       "      <td>6</td>\n",
       "    </tr>\n",
       "    <tr>\n",
       "      <th>d</th>\n",
       "      <td>11</td>\n",
       "      <td>9</td>\n",
       "    </tr>\n",
       "    <tr>\n",
       "      <th>e</th>\n",
       "      <td>14</td>\n",
       "      <td>12</td>\n",
       "    </tr>\n",
       "    <tr>\n",
       "      <th>f</th>\n",
       "      <td>17</td>\n",
       "      <td>15</td>\n",
       "    </tr>\n",
       "  </tbody>\n",
       "</table>\n",
       "</div>"
      ],
      "text/plain": [
       "    C   A\n",
       "a   2   0\n",
       "b   5   3\n",
       "c   8   6\n",
       "d  11   9\n",
       "e  14  12\n",
       "f  17  15"
      ]
     },
     "execution_count": 22,
     "metadata": {},
     "output_type": "execute_result"
    }
   ],
   "source": [
    "print(type(df[[\"C\",\"A\"]]))\n",
    "df[[\"C\",\"A\"]] #Obser que los primeros corchetes son del dataframe, que indica que queremos seleccionar algo, mientras que los 2\n",
    "#corchetes son de la lista de etiquetas"
   ]
  },
  {
   "cell_type": "markdown",
   "id": "12e3eefd",
   "metadata": {
    "heading_collapsed": true
   },
   "source": [
    "### Método get\n",
    "\n",
    "> Se puede extraer una columna de manera **segura** usando el método `pandas.DataFrame.get`, devuelve ***None*** SI dicha columna no existe."
   ]
  },
  {
   "cell_type": "code",
   "execution_count": 24,
   "id": "be5da373",
   "metadata": {
    "hidden": true
   },
   "outputs": [
    {
     "name": "stdout",
     "output_type": "stream",
     "text": [
      "<class 'pandas.core.series.Series'>\n"
     ]
    },
    {
     "data": {
      "text/plain": [
       "a     0\n",
       "b     3\n",
       "c     6\n",
       "d     9\n",
       "e    12\n",
       "f    15\n",
       "Name: A, dtype: int32"
      ]
     },
     "execution_count": 24,
     "metadata": {},
     "output_type": "execute_result"
    }
   ],
   "source": [
    "print(type(df.get(\"A\")))\n",
    "df.get(\"A\") #Devuelve una Serie de Pandas."
   ]
  },
  {
   "cell_type": "code",
   "execution_count": 27,
   "id": "ca7df600",
   "metadata": {
    "hidden": true
   },
   "outputs": [
    {
     "name": "stdout",
     "output_type": "stream",
     "text": [
      "None\n"
     ]
    }
   ],
   "source": [
    "print(df.get(\"D\")) #No EXISTE la columna D"
   ]
  },
  {
   "cell_type": "markdown",
   "id": "5ba2854a",
   "metadata": {
    "heading_collapsed": true
   },
   "source": [
    "### Método loc\n",
    "\n",
    "Permite seleccionar un conjunto de filas y columnas por etiquetas. Este método acepta diferentes argumentos\n",
    "* Etiqueta simple\n",
    "* Lista de etiquetas\n",
    "* Rangos"
   ]
  },
  {
   "cell_type": "code",
   "execution_count": 2,
   "id": "7ab7c900",
   "metadata": {
    "hidden": true
   },
   "outputs": [
    {
     "data": {
      "text/html": [
       "<div>\n",
       "<style scoped>\n",
       "    .dataframe tbody tr th:only-of-type {\n",
       "        vertical-align: middle;\n",
       "    }\n",
       "\n",
       "    .dataframe tbody tr th {\n",
       "        vertical-align: top;\n",
       "    }\n",
       "\n",
       "    .dataframe thead th {\n",
       "        text-align: right;\n",
       "    }\n",
       "</style>\n",
       "<table border=\"1\" class=\"dataframe\">\n",
       "  <thead>\n",
       "    <tr style=\"text-align: right;\">\n",
       "      <th></th>\n",
       "      <th>A</th>\n",
       "      <th>B</th>\n",
       "      <th>C</th>\n",
       "    </tr>\n",
       "  </thead>\n",
       "  <tbody>\n",
       "    <tr>\n",
       "      <th>a</th>\n",
       "      <td>0</td>\n",
       "      <td>1</td>\n",
       "      <td>2</td>\n",
       "    </tr>\n",
       "    <tr>\n",
       "      <th>b</th>\n",
       "      <td>3</td>\n",
       "      <td>4</td>\n",
       "      <td>5</td>\n",
       "    </tr>\n",
       "    <tr>\n",
       "      <th>c</th>\n",
       "      <td>6</td>\n",
       "      <td>7</td>\n",
       "      <td>8</td>\n",
       "    </tr>\n",
       "    <tr>\n",
       "      <th>d</th>\n",
       "      <td>9</td>\n",
       "      <td>10</td>\n",
       "      <td>11</td>\n",
       "    </tr>\n",
       "    <tr>\n",
       "      <th>e</th>\n",
       "      <td>12</td>\n",
       "      <td>13</td>\n",
       "      <td>14</td>\n",
       "    </tr>\n",
       "    <tr>\n",
       "      <th>f</th>\n",
       "      <td>15</td>\n",
       "      <td>16</td>\n",
       "      <td>17</td>\n",
       "    </tr>\n",
       "  </tbody>\n",
       "</table>\n",
       "</div>"
      ],
      "text/plain": [
       "    A   B   C\n",
       "a   0   1   2\n",
       "b   3   4   5\n",
       "c   6   7   8\n",
       "d   9  10  11\n",
       "e  12  13  14\n",
       "f  15  16  17"
      ]
     },
     "execution_count": 2,
     "metadata": {},
     "output_type": "execute_result"
    }
   ],
   "source": [
    "df = pd.DataFrame(np.arange(18).reshape([6,3]),\n",
    "                 index= [\"a\", \"b\", \"c\", \"d\", \"e\", \"f\"],\n",
    "                 columns=[\"A\", \"B\", \"C\"])\n",
    "df"
   ]
  },
  {
   "cell_type": "markdown",
   "id": "c40dd277",
   "metadata": {
    "hidden": true
   },
   "source": [
    "#### Uso con etiqueta simple\n",
    "El resultado sera una **serie Pandas** con las **etiquetas de las columnas del dataframe original** como indice.\n",
    "**Nota**: Devuelve error, cuando se especifique un numero como indice, aun cuando sea un indice valido."
   ]
  },
  {
   "cell_type": "code",
   "execution_count": 3,
   "id": "1199c778",
   "metadata": {
    "hidden": true
   },
   "outputs": [
    {
     "data": {
      "text/plain": [
       "A    6\n",
       "B    7\n",
       "C    8\n",
       "Name: c, dtype: int32"
      ]
     },
     "execution_count": 3,
     "metadata": {},
     "output_type": "execute_result"
    }
   ],
   "source": [
    "df.loc[\"c\"]\n",
    "#df.loc[1] #devuelve error"
   ]
  },
  {
   "cell_type": "markdown",
   "id": "6b505b22",
   "metadata": {
    "hidden": true
   },
   "source": [
    "####  Uso de una lista de etiquetas\n",
    "\n",
    "si pasamos al método loc una lista con etiquetas, estaremos extrayendo las filas cuyas etiquetas se indican y el orden que estas aparezcan."
   ]
  },
  {
   "cell_type": "code",
   "execution_count": 5,
   "id": "64bce6f2",
   "metadata": {
    "hidden": true
   },
   "outputs": [
    {
     "data": {
      "text/html": [
       "<div>\n",
       "<style scoped>\n",
       "    .dataframe tbody tr th:only-of-type {\n",
       "        vertical-align: middle;\n",
       "    }\n",
       "\n",
       "    .dataframe tbody tr th {\n",
       "        vertical-align: top;\n",
       "    }\n",
       "\n",
       "    .dataframe thead th {\n",
       "        text-align: right;\n",
       "    }\n",
       "</style>\n",
       "<table border=\"1\" class=\"dataframe\">\n",
       "  <thead>\n",
       "    <tr style=\"text-align: right;\">\n",
       "      <th></th>\n",
       "      <th>A</th>\n",
       "      <th>B</th>\n",
       "      <th>C</th>\n",
       "    </tr>\n",
       "  </thead>\n",
       "  <tbody>\n",
       "    <tr>\n",
       "      <th>c</th>\n",
       "      <td>6</td>\n",
       "      <td>7</td>\n",
       "      <td>8</td>\n",
       "    </tr>\n",
       "    <tr>\n",
       "      <th>a</th>\n",
       "      <td>0</td>\n",
       "      <td>1</td>\n",
       "      <td>2</td>\n",
       "    </tr>\n",
       "    <tr>\n",
       "      <th>e</th>\n",
       "      <td>12</td>\n",
       "      <td>13</td>\n",
       "      <td>14</td>\n",
       "    </tr>\n",
       "  </tbody>\n",
       "</table>\n",
       "</div>"
      ],
      "text/plain": [
       "    A   B   C\n",
       "c   6   7   8\n",
       "a   0   1   2\n",
       "e  12  13  14"
      ]
     },
     "execution_count": 5,
     "metadata": {},
     "output_type": "execute_result"
    }
   ],
   "source": [
    "df.loc[[\"c\", \"a\", \"e\"]]"
   ]
  },
  {
   "cell_type": "markdown",
   "id": "e62b877e",
   "metadata": {
    "hidden": true
   },
   "source": [
    "Sin embargo si se indica una **sola etiqueta en la lista, el resultado seguiera siendo un DataFrame**."
   ]
  },
  {
   "cell_type": "code",
   "execution_count": 6,
   "id": "8379431f",
   "metadata": {
    "hidden": true
   },
   "outputs": [
    {
     "name": "stdout",
     "output_type": "stream",
     "text": [
      "<class 'pandas.core.frame.DataFrame'>\n"
     ]
    },
    {
     "data": {
      "text/html": [
       "<div>\n",
       "<style scoped>\n",
       "    .dataframe tbody tr th:only-of-type {\n",
       "        vertical-align: middle;\n",
       "    }\n",
       "\n",
       "    .dataframe tbody tr th {\n",
       "        vertical-align: top;\n",
       "    }\n",
       "\n",
       "    .dataframe thead th {\n",
       "        text-align: right;\n",
       "    }\n",
       "</style>\n",
       "<table border=\"1\" class=\"dataframe\">\n",
       "  <thead>\n",
       "    <tr style=\"text-align: right;\">\n",
       "      <th></th>\n",
       "      <th>A</th>\n",
       "      <th>B</th>\n",
       "      <th>C</th>\n",
       "    </tr>\n",
       "  </thead>\n",
       "  <tbody>\n",
       "    <tr>\n",
       "      <th>c</th>\n",
       "      <td>6</td>\n",
       "      <td>7</td>\n",
       "      <td>8</td>\n",
       "    </tr>\n",
       "  </tbody>\n",
       "</table>\n",
       "</div>"
      ],
      "text/plain": [
       "   A  B  C\n",
       "c  6  7  8"
      ]
     },
     "execution_count": 6,
     "metadata": {},
     "output_type": "execute_result"
    }
   ],
   "source": [
    "print(type(df.loc[[\"c\"]]))\n",
    "df.loc[[\"c\"]]"
   ]
  },
  {
   "cell_type": "markdown",
   "id": "ad2d9f3f",
   "metadata": {
    "hidden": true
   },
   "source": [
    "#### Uso con rangos\n",
    "\n",
    "Se pueden usar rango limitados por etiquetas, **recuerde** que al usar etiquetes se incluyen ambos valores del rango"
   ]
  },
  {
   "cell_type": "code",
   "execution_count": 7,
   "id": "7b70fbab",
   "metadata": {
    "hidden": true
   },
   "outputs": [
    {
     "data": {
      "text/html": [
       "<div>\n",
       "<style scoped>\n",
       "    .dataframe tbody tr th:only-of-type {\n",
       "        vertical-align: middle;\n",
       "    }\n",
       "\n",
       "    .dataframe tbody tr th {\n",
       "        vertical-align: top;\n",
       "    }\n",
       "\n",
       "    .dataframe thead th {\n",
       "        text-align: right;\n",
       "    }\n",
       "</style>\n",
       "<table border=\"1\" class=\"dataframe\">\n",
       "  <thead>\n",
       "    <tr style=\"text-align: right;\">\n",
       "      <th></th>\n",
       "      <th>A</th>\n",
       "      <th>B</th>\n",
       "      <th>C</th>\n",
       "    </tr>\n",
       "  </thead>\n",
       "  <tbody>\n",
       "    <tr>\n",
       "      <th>b</th>\n",
       "      <td>3</td>\n",
       "      <td>4</td>\n",
       "      <td>5</td>\n",
       "    </tr>\n",
       "    <tr>\n",
       "      <th>c</th>\n",
       "      <td>6</td>\n",
       "      <td>7</td>\n",
       "      <td>8</td>\n",
       "    </tr>\n",
       "    <tr>\n",
       "      <th>d</th>\n",
       "      <td>9</td>\n",
       "      <td>10</td>\n",
       "      <td>11</td>\n",
       "    </tr>\n",
       "  </tbody>\n",
       "</table>\n",
       "</div>"
      ],
      "text/plain": [
       "   A   B   C\n",
       "b  3   4   5\n",
       "c  6   7   8\n",
       "d  9  10  11"
      ]
     },
     "execution_count": 7,
     "metadata": {},
     "output_type": "execute_result"
    }
   ],
   "source": [
    "df.loc[\"b\":\"d\"]"
   ]
  },
  {
   "cell_type": "markdown",
   "id": "b6e1b119",
   "metadata": {
    "hidden": true
   },
   "source": [
    "#### Extracción de filas y columnas (PONGAMOS A PRUEBA TODO!!)"
   ]
  },
  {
   "cell_type": "code",
   "execution_count": 9,
   "id": "ed180fbe",
   "metadata": {
    "hidden": true
   },
   "outputs": [
    {
     "data": {
      "text/html": [
       "<div>\n",
       "<style scoped>\n",
       "    .dataframe tbody tr th:only-of-type {\n",
       "        vertical-align: middle;\n",
       "    }\n",
       "\n",
       "    .dataframe tbody tr th {\n",
       "        vertical-align: top;\n",
       "    }\n",
       "\n",
       "    .dataframe thead th {\n",
       "        text-align: right;\n",
       "    }\n",
       "</style>\n",
       "<table border=\"1\" class=\"dataframe\">\n",
       "  <thead>\n",
       "    <tr style=\"text-align: right;\">\n",
       "      <th></th>\n",
       "      <th>A</th>\n",
       "      <th>B</th>\n",
       "      <th>C</th>\n",
       "    </tr>\n",
       "  </thead>\n",
       "  <tbody>\n",
       "    <tr>\n",
       "      <th>a</th>\n",
       "      <td>0</td>\n",
       "      <td>1</td>\n",
       "      <td>2</td>\n",
       "    </tr>\n",
       "    <tr>\n",
       "      <th>b</th>\n",
       "      <td>3</td>\n",
       "      <td>4</td>\n",
       "      <td>5</td>\n",
       "    </tr>\n",
       "    <tr>\n",
       "      <th>c</th>\n",
       "      <td>6</td>\n",
       "      <td>7</td>\n",
       "      <td>8</td>\n",
       "    </tr>\n",
       "    <tr>\n",
       "      <th>d</th>\n",
       "      <td>9</td>\n",
       "      <td>10</td>\n",
       "      <td>11</td>\n",
       "    </tr>\n",
       "    <tr>\n",
       "      <th>e</th>\n",
       "      <td>12</td>\n",
       "      <td>13</td>\n",
       "      <td>14</td>\n",
       "    </tr>\n",
       "    <tr>\n",
       "      <th>f</th>\n",
       "      <td>15</td>\n",
       "      <td>16</td>\n",
       "      <td>17</td>\n",
       "    </tr>\n",
       "  </tbody>\n",
       "</table>\n",
       "</div>"
      ],
      "text/plain": [
       "    A   B   C\n",
       "a   0   1   2\n",
       "b   3   4   5\n",
       "c   6   7   8\n",
       "d   9  10  11\n",
       "e  12  13  14\n",
       "f  15  16  17"
      ]
     },
     "execution_count": 9,
     "metadata": {},
     "output_type": "execute_result"
    }
   ],
   "source": [
    "\n",
    "df"
   ]
  },
  {
   "cell_type": "markdown",
   "id": "3d0c42b3",
   "metadata": {
    "hidden": true
   },
   "source": [
    "#### Extracción de un unico valor (Indicando que fila y columna, seperadas por una coma)"
   ]
  },
  {
   "cell_type": "code",
   "execution_count": 8,
   "id": "d173fc09",
   "metadata": {
    "hidden": true
   },
   "outputs": [
    {
     "data": {
      "text/plain": [
       "2"
      ]
     },
     "execution_count": 8,
     "metadata": {},
     "output_type": "execute_result"
    }
   ],
   "source": [
    "df.loc[\"a\",\"C\"] #Primero es la fila y columna"
   ]
  },
  {
   "cell_type": "markdown",
   "id": "da1f28c2",
   "metadata": {
    "hidden": true
   },
   "source": [
    "#### Todas las filas de una columna, usar el operador :"
   ]
  },
  {
   "cell_type": "code",
   "execution_count": 10,
   "id": "0de22c76",
   "metadata": {
    "hidden": true
   },
   "outputs": [
    {
     "data": {
      "text/plain": [
       "a     0\n",
       "b     3\n",
       "c     6\n",
       "d     9\n",
       "e    12\n",
       "f    15\n",
       "Name: A, dtype: int32"
      ]
     },
     "execution_count": 10,
     "metadata": {},
     "output_type": "execute_result"
    }
   ],
   "source": [
    "\n",
    "df.loc[:, \"A\"] "
   ]
  },
  {
   "cell_type": "code",
   "execution_count": 11,
   "id": "69b0343f",
   "metadata": {
    "hidden": true
   },
   "outputs": [
    {
     "data": {
      "text/plain": [
       "A    3\n",
       "B    4\n",
       "C    5\n",
       "Name: b, dtype: int32"
      ]
     },
     "execution_count": 11,
     "metadata": {},
     "output_type": "execute_result"
    }
   ],
   "source": [
    "df.loc[\"b\"]"
   ]
  },
  {
   "cell_type": "code",
   "execution_count": 12,
   "id": "bb6a3d2c",
   "metadata": {
    "hidden": true
   },
   "outputs": [
    {
     "data": {
      "text/plain": [
       "A    3\n",
       "B    4\n",
       "C    5\n",
       "Name: b, dtype: int32"
      ]
     },
     "execution_count": 12,
     "metadata": {},
     "output_type": "execute_result"
    }
   ],
   "source": [
    "df.loc[\"b\",:]"
   ]
  },
  {
   "cell_type": "markdown",
   "id": "0c7c6887",
   "metadata": {
    "heading_collapsed": true,
    "hidden": true
   },
   "source": [
    "#### Se pueden combinar los metodos | Seleccion de la intersección de las filas e y c (En este orden) y la columna B"
   ]
  },
  {
   "cell_type": "code",
   "execution_count": 13,
   "id": "82efdbaa",
   "metadata": {
    "hidden": true
   },
   "outputs": [
    {
     "data": {
      "text/plain": [
       "e    13\n",
       "c     7\n",
       "Name: B, dtype: int32"
      ]
     },
     "execution_count": 13,
     "metadata": {},
     "output_type": "execute_result"
    }
   ],
   "source": [
    "df.loc[[\"e\", \"c\"], \"B\"]"
   ]
  },
  {
   "cell_type": "markdown",
   "id": "854a1831",
   "metadata": {
    "heading_collapsed": true
   },
   "source": [
    "### Método iloc\n",
    "\n",
    "El método `pandas.DataFrame.iloc` permite realizar selecciones por posición"
   ]
  },
  {
   "cell_type": "code",
   "execution_count": 14,
   "id": "30c7cc18",
   "metadata": {
    "hidden": true
   },
   "outputs": [
    {
     "data": {
      "text/html": [
       "<div>\n",
       "<style scoped>\n",
       "    .dataframe tbody tr th:only-of-type {\n",
       "        vertical-align: middle;\n",
       "    }\n",
       "\n",
       "    .dataframe tbody tr th {\n",
       "        vertical-align: top;\n",
       "    }\n",
       "\n",
       "    .dataframe thead th {\n",
       "        text-align: right;\n",
       "    }\n",
       "</style>\n",
       "<table border=\"1\" class=\"dataframe\">\n",
       "  <thead>\n",
       "    <tr style=\"text-align: right;\">\n",
       "      <th></th>\n",
       "      <th>A</th>\n",
       "      <th>B</th>\n",
       "      <th>C</th>\n",
       "    </tr>\n",
       "  </thead>\n",
       "  <tbody>\n",
       "    <tr>\n",
       "      <th>a</th>\n",
       "      <td>1</td>\n",
       "      <td>4</td>\n",
       "      <td>9</td>\n",
       "    </tr>\n",
       "    <tr>\n",
       "      <th>b</th>\n",
       "      <td>0</td>\n",
       "      <td>2</td>\n",
       "      <td>9</td>\n",
       "    </tr>\n",
       "    <tr>\n",
       "      <th>c</th>\n",
       "      <td>1</td>\n",
       "      <td>7</td>\n",
       "      <td>0</td>\n",
       "    </tr>\n",
       "    <tr>\n",
       "      <th>d</th>\n",
       "      <td>2</td>\n",
       "      <td>9</td>\n",
       "      <td>5</td>\n",
       "    </tr>\n",
       "    <tr>\n",
       "      <th>e</th>\n",
       "      <td>4</td>\n",
       "      <td>7</td>\n",
       "      <td>8</td>\n",
       "    </tr>\n",
       "    <tr>\n",
       "      <th>f</th>\n",
       "      <td>0</td>\n",
       "      <td>1</td>\n",
       "      <td>1</td>\n",
       "    </tr>\n",
       "  </tbody>\n",
       "</table>\n",
       "</div>"
      ],
      "text/plain": [
       "   A  B  C\n",
       "a  1  4  9\n",
       "b  0  2  9\n",
       "c  1  7  0\n",
       "d  2  9  5\n",
       "e  4  7  8\n",
       "f  0  1  1"
      ]
     },
     "execution_count": 14,
     "metadata": {},
     "output_type": "execute_result"
    }
   ],
   "source": [
    "df = pd.DataFrame(np.random.randint(0,10,18).reshape([6,3]),\n",
    "                 index= [\"a\", \"b\", \"c\", \"d\", \"e\", \"f\"],\n",
    "                 columns=[\"A\", \"B\", \"C\"])\n",
    "df"
   ]
  },
  {
   "cell_type": "markdown",
   "id": "05c12e69",
   "metadata": {
    "hidden": true
   },
   "source": [
    "#### Uso de un numero entero\n",
    ">El numero indicado **siempre sera tratado como posicion** y NO como etiqueta."
   ]
  },
  {
   "cell_type": "code",
   "execution_count": 18,
   "id": "824830a0",
   "metadata": {
    "hidden": true
   },
   "outputs": [
    {
     "data": {
      "text/plain": [
       "A    1\n",
       "B    7\n",
       "C    0\n",
       "Name: c, dtype: int32"
      ]
     },
     "execution_count": 18,
     "metadata": {},
     "output_type": "execute_result"
    }
   ],
   "source": [
    "df.iloc[2] #Referencia a la tercera fila, se cuenta desde 0"
   ]
  },
  {
   "cell_type": "markdown",
   "id": "b31e136b",
   "metadata": {
    "hidden": true
   },
   "source": [
    "**Si el numero es negativo** Hace referencia al final del dataframe."
   ]
  },
  {
   "cell_type": "code",
   "execution_count": 16,
   "id": "99f211f9",
   "metadata": {
    "hidden": true
   },
   "outputs": [
    {
     "data": {
      "text/plain": [
       "A    0\n",
       "B    1\n",
       "C    1\n",
       "Name: f, dtype: int32"
      ]
     },
     "execution_count": 16,
     "metadata": {},
     "output_type": "execute_result"
    }
   ],
   "source": [
    "df.iloc[-1] #Referencia a la ultima fila"
   ]
  },
  {
   "cell_type": "markdown",
   "id": "f631c12f",
   "metadata": {
    "hidden": true
   },
   "source": [
    "#### Uso con lista o aaray de numeros\n",
    ">Cuando se utiliza un array o lista de numeros, estamos extrayecdo las filas cuyos indices son elementos el mismo, y en el orden en el que aparecen en el."
   ]
  },
  {
   "cell_type": "code",
   "execution_count": 19,
   "id": "313ebbbd",
   "metadata": {
    "hidden": true
   },
   "outputs": [
    {
     "data": {
      "text/html": [
       "<div>\n",
       "<style scoped>\n",
       "    .dataframe tbody tr th:only-of-type {\n",
       "        vertical-align: middle;\n",
       "    }\n",
       "\n",
       "    .dataframe tbody tr th {\n",
       "        vertical-align: top;\n",
       "    }\n",
       "\n",
       "    .dataframe thead th {\n",
       "        text-align: right;\n",
       "    }\n",
       "</style>\n",
       "<table border=\"1\" class=\"dataframe\">\n",
       "  <thead>\n",
       "    <tr style=\"text-align: right;\">\n",
       "      <th></th>\n",
       "      <th>A</th>\n",
       "      <th>B</th>\n",
       "      <th>C</th>\n",
       "    </tr>\n",
       "  </thead>\n",
       "  <tbody>\n",
       "    <tr>\n",
       "      <th>d</th>\n",
       "      <td>2</td>\n",
       "      <td>9</td>\n",
       "      <td>5</td>\n",
       "    </tr>\n",
       "    <tr>\n",
       "      <th>b</th>\n",
       "      <td>0</td>\n",
       "      <td>2</td>\n",
       "      <td>9</td>\n",
       "    </tr>\n",
       "  </tbody>\n",
       "</table>\n",
       "</div>"
      ],
      "text/plain": [
       "   A  B  C\n",
       "d  2  9  5\n",
       "b  0  2  9"
      ]
     },
     "execution_count": 19,
     "metadata": {},
     "output_type": "execute_result"
    }
   ],
   "source": [
    "df.iloc[[3,1]]"
   ]
  },
  {
   "cell_type": "code",
   "execution_count": 21,
   "id": "0649b504",
   "metadata": {
    "hidden": true
   },
   "outputs": [
    {
     "data": {
      "text/html": [
       "<div>\n",
       "<style scoped>\n",
       "    .dataframe tbody tr th:only-of-type {\n",
       "        vertical-align: middle;\n",
       "    }\n",
       "\n",
       "    .dataframe tbody tr th {\n",
       "        vertical-align: top;\n",
       "    }\n",
       "\n",
       "    .dataframe thead th {\n",
       "        text-align: right;\n",
       "    }\n",
       "</style>\n",
       "<table border=\"1\" class=\"dataframe\">\n",
       "  <thead>\n",
       "    <tr style=\"text-align: right;\">\n",
       "      <th></th>\n",
       "      <th>A</th>\n",
       "      <th>B</th>\n",
       "      <th>C</th>\n",
       "    </tr>\n",
       "  </thead>\n",
       "  <tbody>\n",
       "    <tr>\n",
       "      <th>b</th>\n",
       "      <td>0</td>\n",
       "      <td>2</td>\n",
       "      <td>9</td>\n",
       "    </tr>\n",
       "    <tr>\n",
       "      <th>f</th>\n",
       "      <td>0</td>\n",
       "      <td>1</td>\n",
       "      <td>1</td>\n",
       "    </tr>\n",
       "  </tbody>\n",
       "</table>\n",
       "</div>"
      ],
      "text/plain": [
       "   A  B  C\n",
       "b  0  2  9\n",
       "f  0  1  1"
      ]
     },
     "execution_count": 21,
     "metadata": {},
     "output_type": "execute_result"
    }
   ],
   "source": [
    "#Se pueden incluir indices negativos\n",
    "df.iloc[[1,-1]]"
   ]
  },
  {
   "cell_type": "markdown",
   "id": "260af337",
   "metadata": {
    "hidden": true
   },
   "source": [
    "#### Uso con un rango de números\n",
    "> Recuerde utilizar la notación `valInicial:valorFinal`, donde ambos valores son numeros enteros a:b, tambien el ultimo valor no sera incluido."
   ]
  },
  {
   "cell_type": "markdown",
   "id": "6b96c0c2",
   "metadata": {
    "hidden": true
   },
   "source": [
    "**Extracción de las filas, cuyos indices son 2 y 4, donde 4 no se incluye**"
   ]
  },
  {
   "cell_type": "code",
   "execution_count": 22,
   "id": "8efb82a0",
   "metadata": {
    "hidden": true
   },
   "outputs": [
    {
     "data": {
      "text/html": [
       "<div>\n",
       "<style scoped>\n",
       "    .dataframe tbody tr th:only-of-type {\n",
       "        vertical-align: middle;\n",
       "    }\n",
       "\n",
       "    .dataframe tbody tr th {\n",
       "        vertical-align: top;\n",
       "    }\n",
       "\n",
       "    .dataframe thead th {\n",
       "        text-align: right;\n",
       "    }\n",
       "</style>\n",
       "<table border=\"1\" class=\"dataframe\">\n",
       "  <thead>\n",
       "    <tr style=\"text-align: right;\">\n",
       "      <th></th>\n",
       "      <th>A</th>\n",
       "      <th>B</th>\n",
       "      <th>C</th>\n",
       "    </tr>\n",
       "  </thead>\n",
       "  <tbody>\n",
       "    <tr>\n",
       "      <th>c</th>\n",
       "      <td>1</td>\n",
       "      <td>7</td>\n",
       "      <td>0</td>\n",
       "    </tr>\n",
       "    <tr>\n",
       "      <th>d</th>\n",
       "      <td>2</td>\n",
       "      <td>9</td>\n",
       "      <td>5</td>\n",
       "    </tr>\n",
       "  </tbody>\n",
       "</table>\n",
       "</div>"
      ],
      "text/plain": [
       "   A  B  C\n",
       "c  1  7  0\n",
       "d  2  9  5"
      ]
     },
     "execution_count": 22,
     "metadata": {},
     "output_type": "execute_result"
    }
   ],
   "source": [
    "df.iloc[2:4]"
   ]
  },
  {
   "cell_type": "markdown",
   "id": "f5b6bd0c",
   "metadata": {
    "hidden": true
   },
   "source": [
    "**Nota**: Si omite el primer valor del rango, se interpretara como desde el primer indice hasta el segundo valor del rango."
   ]
  },
  {
   "cell_type": "code",
   "execution_count": 23,
   "id": "29b52e6b",
   "metadata": {
    "hidden": true
   },
   "outputs": [
    {
     "data": {
      "text/html": [
       "<div>\n",
       "<style scoped>\n",
       "    .dataframe tbody tr th:only-of-type {\n",
       "        vertical-align: middle;\n",
       "    }\n",
       "\n",
       "    .dataframe tbody tr th {\n",
       "        vertical-align: top;\n",
       "    }\n",
       "\n",
       "    .dataframe thead th {\n",
       "        text-align: right;\n",
       "    }\n",
       "</style>\n",
       "<table border=\"1\" class=\"dataframe\">\n",
       "  <thead>\n",
       "    <tr style=\"text-align: right;\">\n",
       "      <th></th>\n",
       "      <th>A</th>\n",
       "      <th>B</th>\n",
       "      <th>C</th>\n",
       "    </tr>\n",
       "  </thead>\n",
       "  <tbody>\n",
       "    <tr>\n",
       "      <th>a</th>\n",
       "      <td>1</td>\n",
       "      <td>4</td>\n",
       "      <td>9</td>\n",
       "    </tr>\n",
       "    <tr>\n",
       "      <th>b</th>\n",
       "      <td>0</td>\n",
       "      <td>2</td>\n",
       "      <td>9</td>\n",
       "    </tr>\n",
       "    <tr>\n",
       "      <th>c</th>\n",
       "      <td>1</td>\n",
       "      <td>7</td>\n",
       "      <td>0</td>\n",
       "    </tr>\n",
       "  </tbody>\n",
       "</table>\n",
       "</div>"
      ],
      "text/plain": [
       "   A  B  C\n",
       "a  1  4  9\n",
       "b  0  2  9\n",
       "c  1  7  0"
      ]
     },
     "execution_count": 23,
     "metadata": {},
     "output_type": "execute_result"
    }
   ],
   "source": [
    "df.iloc[:3]"
   ]
  },
  {
   "cell_type": "markdown",
   "id": "bf8a2a97",
   "metadata": {
    "hidden": true
   },
   "source": [
    "De forma **Analoga** si se omite el segundo valor del rango."
   ]
  },
  {
   "cell_type": "code",
   "execution_count": 24,
   "id": "3655be16",
   "metadata": {
    "hidden": true
   },
   "outputs": [
    {
     "data": {
      "text/html": [
       "<div>\n",
       "<style scoped>\n",
       "    .dataframe tbody tr th:only-of-type {\n",
       "        vertical-align: middle;\n",
       "    }\n",
       "\n",
       "    .dataframe tbody tr th {\n",
       "        vertical-align: top;\n",
       "    }\n",
       "\n",
       "    .dataframe thead th {\n",
       "        text-align: right;\n",
       "    }\n",
       "</style>\n",
       "<table border=\"1\" class=\"dataframe\">\n",
       "  <thead>\n",
       "    <tr style=\"text-align: right;\">\n",
       "      <th></th>\n",
       "      <th>A</th>\n",
       "      <th>B</th>\n",
       "      <th>C</th>\n",
       "    </tr>\n",
       "  </thead>\n",
       "  <tbody>\n",
       "    <tr>\n",
       "      <th>e</th>\n",
       "      <td>4</td>\n",
       "      <td>7</td>\n",
       "      <td>8</td>\n",
       "    </tr>\n",
       "    <tr>\n",
       "      <th>f</th>\n",
       "      <td>0</td>\n",
       "      <td>1</td>\n",
       "      <td>1</td>\n",
       "    </tr>\n",
       "  </tbody>\n",
       "</table>\n",
       "</div>"
      ],
      "text/plain": [
       "   A  B  C\n",
       "e  4  7  8\n",
       "f  0  1  1"
      ]
     },
     "execution_count": 24,
     "metadata": {},
     "output_type": "execute_result"
    }
   ],
   "source": [
    "df.iloc[4:]"
   ]
  },
  {
   "cell_type": "code",
   "execution_count": 28,
   "id": "fcfd1718",
   "metadata": {
    "hidden": true
   },
   "outputs": [
    {
     "data": {
      "text/html": [
       "<div>\n",
       "<style scoped>\n",
       "    .dataframe tbody tr th:only-of-type {\n",
       "        vertical-align: middle;\n",
       "    }\n",
       "\n",
       "    .dataframe tbody tr th {\n",
       "        vertical-align: top;\n",
       "    }\n",
       "\n",
       "    .dataframe thead th {\n",
       "        text-align: right;\n",
       "    }\n",
       "</style>\n",
       "<table border=\"1\" class=\"dataframe\">\n",
       "  <thead>\n",
       "    <tr style=\"text-align: right;\">\n",
       "      <th></th>\n",
       "      <th>A</th>\n",
       "      <th>B</th>\n",
       "      <th>C</th>\n",
       "    </tr>\n",
       "  </thead>\n",
       "  <tbody>\n",
       "    <tr>\n",
       "      <th>c</th>\n",
       "      <td>1</td>\n",
       "      <td>7</td>\n",
       "      <td>0</td>\n",
       "    </tr>\n",
       "    <tr>\n",
       "      <th>d</th>\n",
       "      <td>2</td>\n",
       "      <td>9</td>\n",
       "      <td>5</td>\n",
       "    </tr>\n",
       "    <tr>\n",
       "      <th>e</th>\n",
       "      <td>4</td>\n",
       "      <td>7</td>\n",
       "      <td>8</td>\n",
       "    </tr>\n",
       "  </tbody>\n",
       "</table>\n",
       "</div>"
      ],
      "text/plain": [
       "   A  B  C\n",
       "c  1  7  0\n",
       "d  2  9  5\n",
       "e  4  7  8"
      ]
     },
     "execution_count": 28,
     "metadata": {},
     "output_type": "execute_result"
    }
   ],
   "source": [
    "df.iloc[2:-1]"
   ]
  },
  {
   "cell_type": "markdown",
   "id": "3c6b69ad",
   "metadata": {
    "hidden": true
   },
   "source": [
    "#### Extracción de filas y columnas\n",
    "**Si se añade una coma** el segundo argumento estara haciendo referencia al indice de la columna."
   ]
  },
  {
   "cell_type": "code",
   "execution_count": 29,
   "id": "cd7c8b48",
   "metadata": {
    "hidden": true
   },
   "outputs": [
    {
     "data": {
      "text/plain": [
       "9"
      ]
     },
     "execution_count": 29,
     "metadata": {},
     "output_type": "execute_result"
    }
   ],
   "source": [
    "df.iloc[3, 1]"
   ]
  },
  {
   "cell_type": "code",
   "execution_count": 31,
   "id": "0ceb5064",
   "metadata": {
    "hidden": true
   },
   "outputs": [
    {
     "data": {
      "text/html": [
       "<div>\n",
       "<style scoped>\n",
       "    .dataframe tbody tr th:only-of-type {\n",
       "        vertical-align: middle;\n",
       "    }\n",
       "\n",
       "    .dataframe tbody tr th {\n",
       "        vertical-align: top;\n",
       "    }\n",
       "\n",
       "    .dataframe thead th {\n",
       "        text-align: right;\n",
       "    }\n",
       "</style>\n",
       "<table border=\"1\" class=\"dataframe\">\n",
       "  <thead>\n",
       "    <tr style=\"text-align: right;\">\n",
       "      <th></th>\n",
       "      <th>A</th>\n",
       "      <th>B</th>\n",
       "      <th>C</th>\n",
       "    </tr>\n",
       "  </thead>\n",
       "  <tbody>\n",
       "    <tr>\n",
       "      <th>a</th>\n",
       "      <td>1</td>\n",
       "      <td>4</td>\n",
       "      <td>9</td>\n",
       "    </tr>\n",
       "    <tr>\n",
       "      <th>b</th>\n",
       "      <td>0</td>\n",
       "      <td>2</td>\n",
       "      <td>9</td>\n",
       "    </tr>\n",
       "    <tr>\n",
       "      <th>c</th>\n",
       "      <td>1</td>\n",
       "      <td>7</td>\n",
       "      <td>0</td>\n",
       "    </tr>\n",
       "    <tr>\n",
       "      <th>d</th>\n",
       "      <td>2</td>\n",
       "      <td>9</td>\n",
       "      <td>5</td>\n",
       "    </tr>\n",
       "    <tr>\n",
       "      <th>e</th>\n",
       "      <td>4</td>\n",
       "      <td>7</td>\n",
       "      <td>8</td>\n",
       "    </tr>\n",
       "    <tr>\n",
       "      <th>f</th>\n",
       "      <td>0</td>\n",
       "      <td>1</td>\n",
       "      <td>1</td>\n",
       "    </tr>\n",
       "  </tbody>\n",
       "</table>\n",
       "</div>"
      ],
      "text/plain": [
       "   A  B  C\n",
       "a  1  4  9\n",
       "b  0  2  9\n",
       "c  1  7  0\n",
       "d  2  9  5\n",
       "e  4  7  8\n",
       "f  0  1  1"
      ]
     },
     "execution_count": 31,
     "metadata": {},
     "output_type": "execute_result"
    }
   ],
   "source": [
    "df"
   ]
  },
  {
   "cell_type": "markdown",
   "id": "53e9e287",
   "metadata": {
    "hidden": true
   },
   "source": [
    "**Extracción de 2 filas de una determinada columna**"
   ]
  },
  {
   "cell_type": "code",
   "execution_count": 33,
   "id": "1e959729",
   "metadata": {
    "hidden": true
   },
   "outputs": [
    {
     "data": {
      "text/plain": [
       "a    4\n",
       "b    2\n",
       "c    7\n",
       "Name: B, dtype: int32"
      ]
     },
     "execution_count": 33,
     "metadata": {},
     "output_type": "execute_result"
    }
   ],
   "source": [
    "df.iloc[0:3,1]"
   ]
  },
  {
   "cell_type": "code",
   "execution_count": 35,
   "id": "f61449cc",
   "metadata": {
    "hidden": true
   },
   "outputs": [
    {
     "data": {
      "text/html": [
       "<div>\n",
       "<style scoped>\n",
       "    .dataframe tbody tr th:only-of-type {\n",
       "        vertical-align: middle;\n",
       "    }\n",
       "\n",
       "    .dataframe tbody tr th {\n",
       "        vertical-align: top;\n",
       "    }\n",
       "\n",
       "    .dataframe thead th {\n",
       "        text-align: right;\n",
       "    }\n",
       "</style>\n",
       "<table border=\"1\" class=\"dataframe\">\n",
       "  <thead>\n",
       "    <tr style=\"text-align: right;\">\n",
       "      <th></th>\n",
       "      <th>B</th>\n",
       "      <th>C</th>\n",
       "    </tr>\n",
       "  </thead>\n",
       "  <tbody>\n",
       "    <tr>\n",
       "      <th>c</th>\n",
       "      <td>7</td>\n",
       "      <td>0</td>\n",
       "    </tr>\n",
       "  </tbody>\n",
       "</table>\n",
       "</div>"
      ],
      "text/plain": [
       "   B  C\n",
       "c  7  0"
      ]
     },
     "execution_count": 35,
     "metadata": {},
     "output_type": "execute_result"
    }
   ],
   "source": [
    "df.iloc[[2],[1,2]] #Extraemos en forma de dataframe una fila de la columnas BC"
   ]
  },
  {
   "cell_type": "markdown",
   "id": "35c0c518",
   "metadata": {
    "heading_collapsed": true
   },
   "source": [
    "### Selección con índices y etiquetas simultáneamente\n",
    "\n",
    "En ocasiones es necesario combinar o mezclar etiquetas e índices. Para ello estan los métodos que estan**asociados a los indices del dataframe (index, columns)**:\n",
    "* `pandas.index.get_loc`: Devuelve el índice de la etiquete que se pase como parametro.\n",
    "* `pandas.index.get_indexer`: Devuelve un array con los índices de la etiquetas que se pasen  en forma de lista como parametro."
   ]
  },
  {
   "cell_type": "code",
   "execution_count": 2,
   "id": "3d055db9",
   "metadata": {
    "hidden": true
   },
   "outputs": [
    {
     "data": {
      "text/html": [
       "<div>\n",
       "<style scoped>\n",
       "    .dataframe tbody tr th:only-of-type {\n",
       "        vertical-align: middle;\n",
       "    }\n",
       "\n",
       "    .dataframe tbody tr th {\n",
       "        vertical-align: top;\n",
       "    }\n",
       "\n",
       "    .dataframe thead th {\n",
       "        text-align: right;\n",
       "    }\n",
       "</style>\n",
       "<table border=\"1\" class=\"dataframe\">\n",
       "  <thead>\n",
       "    <tr style=\"text-align: right;\">\n",
       "      <th></th>\n",
       "      <th>A</th>\n",
       "      <th>B</th>\n",
       "      <th>C</th>\n",
       "    </tr>\n",
       "  </thead>\n",
       "  <tbody>\n",
       "    <tr>\n",
       "      <th>a</th>\n",
       "      <td>0</td>\n",
       "      <td>1</td>\n",
       "      <td>2</td>\n",
       "    </tr>\n",
       "    <tr>\n",
       "      <th>b</th>\n",
       "      <td>3</td>\n",
       "      <td>4</td>\n",
       "      <td>5</td>\n",
       "    </tr>\n",
       "    <tr>\n",
       "      <th>c</th>\n",
       "      <td>6</td>\n",
       "      <td>7</td>\n",
       "      <td>8</td>\n",
       "    </tr>\n",
       "    <tr>\n",
       "      <th>d</th>\n",
       "      <td>9</td>\n",
       "      <td>10</td>\n",
       "      <td>11</td>\n",
       "    </tr>\n",
       "    <tr>\n",
       "      <th>e</th>\n",
       "      <td>12</td>\n",
       "      <td>13</td>\n",
       "      <td>14</td>\n",
       "    </tr>\n",
       "    <tr>\n",
       "      <th>f</th>\n",
       "      <td>15</td>\n",
       "      <td>16</td>\n",
       "      <td>17</td>\n",
       "    </tr>\n",
       "  </tbody>\n",
       "</table>\n",
       "</div>"
      ],
      "text/plain": [
       "    A   B   C\n",
       "a   0   1   2\n",
       "b   3   4   5\n",
       "c   6   7   8\n",
       "d   9  10  11\n",
       "e  12  13  14\n",
       "f  15  16  17"
      ]
     },
     "execution_count": 2,
     "metadata": {},
     "output_type": "execute_result"
    }
   ],
   "source": [
    "df = pd.DataFrame(np.arange(18).reshape([6, 3]),\n",
    "                 index= [\"a\", \"b\", \"c\", \"d\", \"e\", \"f\"],\n",
    "                 columns= [\"A\", \"B\", \"C\"])\n",
    "df"
   ]
  },
  {
   "cell_type": "markdown",
   "id": "bab630db",
   "metadata": {
    "hidden": true
   },
   "source": [
    "**¿Como obtener los indices de las columnas?**"
   ]
  },
  {
   "cell_type": "code",
   "execution_count": 3,
   "id": "50f6f9f3",
   "metadata": {
    "hidden": true
   },
   "outputs": [
    {
     "data": {
      "text/plain": [
       "1"
      ]
     },
     "execution_count": 3,
     "metadata": {},
     "output_type": "execute_result"
    }
   ],
   "source": [
    "#Obtenemos el indices de la columna B\n",
    "df.columns.get_loc(\"B\")"
   ]
  },
  {
   "cell_type": "code",
   "execution_count": 4,
   "id": "f05d116e",
   "metadata": {
    "hidden": true
   },
   "outputs": [
    {
     "data": {
      "text/plain": [
       "array([0, 2], dtype=int64)"
      ]
     },
     "execution_count": 4,
     "metadata": {},
     "output_type": "execute_result"
    }
   ],
   "source": [
    "#Obtenemos los indices de las columnas A Y C\n",
    "df.columns.get_indexer([\"A\", \"C\"])"
   ]
  },
  {
   "cell_type": "markdown",
   "id": "083b59bf",
   "metadata": {
    "hidden": true
   },
   "source": [
    "**¿Que pasa si se ejecutan estos métodos en el indice de filas (index)?**"
   ]
  },
  {
   "cell_type": "code",
   "execution_count": 5,
   "id": "8727dd02",
   "metadata": {
    "hidden": true
   },
   "outputs": [
    {
     "data": {
      "text/plain": [
       "3"
      ]
     },
     "execution_count": 5,
     "metadata": {},
     "output_type": "execute_result"
    }
   ],
   "source": [
    "df.index.get_loc(\"d\")"
   ]
  },
  {
   "cell_type": "code",
   "execution_count": 6,
   "id": "ab253be3",
   "metadata": {
    "hidden": true
   },
   "outputs": [
    {
     "data": {
      "text/plain": [
       "array([2, 4], dtype=int64)"
      ]
     },
     "execution_count": 6,
     "metadata": {},
     "output_type": "execute_result"
    }
   ],
   "source": [
    "df.index.get_indexer([\"c\",\"e\"])"
   ]
  },
  {
   "cell_type": "markdown",
   "id": "4c5b0312",
   "metadata": {
    "hidden": true
   },
   "source": [
    "**Ahora si podemos combinar indices y etiquetas**"
   ]
  },
  {
   "cell_type": "code",
   "execution_count": 46,
   "id": "754cdecd",
   "metadata": {
    "hidden": true
   },
   "outputs": [
    {
     "data": {
      "text/plain": [
       "8"
      ]
     },
     "execution_count": 46,
     "metadata": {},
     "output_type": "execute_result"
    }
   ],
   "source": [
    "#Extraer el dato de la ocupa la fila c y columna de indice 2\n",
    "df.iloc[df.index.get_loc(\"c\"), 2]"
   ]
  },
  {
   "cell_type": "code",
   "execution_count": 51,
   "id": "436bd6ec",
   "metadata": {
    "hidden": true
   },
   "outputs": [
    {
     "data": {
      "text/html": [
       "<div>\n",
       "<style scoped>\n",
       "    .dataframe tbody tr th:only-of-type {\n",
       "        vertical-align: middle;\n",
       "    }\n",
       "\n",
       "    .dataframe tbody tr th {\n",
       "        vertical-align: top;\n",
       "    }\n",
       "\n",
       "    .dataframe thead th {\n",
       "        text-align: right;\n",
       "    }\n",
       "</style>\n",
       "<table border=\"1\" class=\"dataframe\">\n",
       "  <thead>\n",
       "    <tr style=\"text-align: right;\">\n",
       "      <th></th>\n",
       "      <th>B</th>\n",
       "      <th>A</th>\n",
       "    </tr>\n",
       "  </thead>\n",
       "  <tbody>\n",
       "    <tr>\n",
       "      <th>a</th>\n",
       "      <td>1</td>\n",
       "      <td>0</td>\n",
       "    </tr>\n",
       "    <tr>\n",
       "      <th>b</th>\n",
       "      <td>4</td>\n",
       "      <td>3</td>\n",
       "    </tr>\n",
       "    <tr>\n",
       "      <th>c</th>\n",
       "      <td>7</td>\n",
       "      <td>6</td>\n",
       "    </tr>\n",
       "    <tr>\n",
       "      <th>d</th>\n",
       "      <td>10</td>\n",
       "      <td>9</td>\n",
       "    </tr>\n",
       "    <tr>\n",
       "      <th>e</th>\n",
       "      <td>13</td>\n",
       "      <td>12</td>\n",
       "    </tr>\n",
       "    <tr>\n",
       "      <th>f</th>\n",
       "      <td>16</td>\n",
       "      <td>15</td>\n",
       "    </tr>\n",
       "  </tbody>\n",
       "</table>\n",
       "</div>"
      ],
      "text/plain": [
       "    B   A\n",
       "a   1   0\n",
       "b   4   3\n",
       "c   7   6\n",
       "d  10   9\n",
       "e  13  12\n",
       "f  16  15"
      ]
     },
     "execution_count": 51,
     "metadata": {},
     "output_type": "execute_result"
    }
   ],
   "source": [
    "#Todas las filas de la columnas B Y A en ese orden\n",
    "df.iloc[:, df.columns.get_indexer([\"B\", \"A\"])]"
   ]
  },
  {
   "cell_type": "markdown",
   "id": "20591bf3",
   "metadata": {
    "heading_collapsed": true
   },
   "source": [
    "### Uso de listas de booleanos o expresiones booleanas\n",
    "\n",
    "> En ocaciones resulta util seleccionar filas o columnas que cumplan cierta condiciones, para ellos es util, hacer unos de listas de valores booleanos."
   ]
  },
  {
   "cell_type": "code",
   "execution_count": 7,
   "id": "00b96b82",
   "metadata": {
    "hidden": true
   },
   "outputs": [
    {
     "data": {
      "text/html": [
       "<div>\n",
       "<style scoped>\n",
       "    .dataframe tbody tr th:only-of-type {\n",
       "        vertical-align: middle;\n",
       "    }\n",
       "\n",
       "    .dataframe tbody tr th {\n",
       "        vertical-align: top;\n",
       "    }\n",
       "\n",
       "    .dataframe thead th {\n",
       "        text-align: right;\n",
       "    }\n",
       "</style>\n",
       "<table border=\"1\" class=\"dataframe\">\n",
       "  <thead>\n",
       "    <tr style=\"text-align: right;\">\n",
       "      <th></th>\n",
       "      <th>A</th>\n",
       "      <th>B</th>\n",
       "      <th>C</th>\n",
       "    </tr>\n",
       "  </thead>\n",
       "  <tbody>\n",
       "    <tr>\n",
       "      <th>a</th>\n",
       "      <td>0</td>\n",
       "      <td>1</td>\n",
       "      <td>2</td>\n",
       "    </tr>\n",
       "    <tr>\n",
       "      <th>b</th>\n",
       "      <td>3</td>\n",
       "      <td>4</td>\n",
       "      <td>5</td>\n",
       "    </tr>\n",
       "    <tr>\n",
       "      <th>c</th>\n",
       "      <td>6</td>\n",
       "      <td>7</td>\n",
       "      <td>8</td>\n",
       "    </tr>\n",
       "    <tr>\n",
       "      <th>d</th>\n",
       "      <td>9</td>\n",
       "      <td>10</td>\n",
       "      <td>11</td>\n",
       "    </tr>\n",
       "    <tr>\n",
       "      <th>e</th>\n",
       "      <td>12</td>\n",
       "      <td>13</td>\n",
       "      <td>14</td>\n",
       "    </tr>\n",
       "    <tr>\n",
       "      <th>f</th>\n",
       "      <td>15</td>\n",
       "      <td>16</td>\n",
       "      <td>17</td>\n",
       "    </tr>\n",
       "  </tbody>\n",
       "</table>\n",
       "</div>"
      ],
      "text/plain": [
       "    A   B   C\n",
       "a   0   1   2\n",
       "b   3   4   5\n",
       "c   6   7   8\n",
       "d   9  10  11\n",
       "e  12  13  14\n",
       "f  15  16  17"
      ]
     },
     "execution_count": 7,
     "metadata": {},
     "output_type": "execute_result"
    }
   ],
   "source": [
    "df = pd.DataFrame(np.arange(18).reshape([6, 3]),\n",
    "                 index= [\"a\", \"b\", \"c\", \"d\", \"e\", \"f\"],\n",
    "                 columns= [\"A\", \"B\", \"C\"])\n",
    "df"
   ]
  },
  {
   "cell_type": "markdown",
   "id": "768c4f00",
   "metadata": {
    "hidden": true
   },
   "source": [
    "**Por simplificación** normalmente se crea un mask, que no es mas que una lista de la misma longitud que el indice de filas, y cada valor booleano de la lista hara referencia a cada indice del dataframe"
   ]
  },
  {
   "cell_type": "code",
   "execution_count": 54,
   "id": "1d1fe4ea",
   "metadata": {
    "hidden": true
   },
   "outputs": [
    {
     "data": {
      "text/html": [
       "<div>\n",
       "<style scoped>\n",
       "    .dataframe tbody tr th:only-of-type {\n",
       "        vertical-align: middle;\n",
       "    }\n",
       "\n",
       "    .dataframe tbody tr th {\n",
       "        vertical-align: top;\n",
       "    }\n",
       "\n",
       "    .dataframe thead th {\n",
       "        text-align: right;\n",
       "    }\n",
       "</style>\n",
       "<table border=\"1\" class=\"dataframe\">\n",
       "  <thead>\n",
       "    <tr style=\"text-align: right;\">\n",
       "      <th></th>\n",
       "      <th>A</th>\n",
       "      <th>B</th>\n",
       "      <th>C</th>\n",
       "    </tr>\n",
       "  </thead>\n",
       "  <tbody>\n",
       "    <tr>\n",
       "      <th>a</th>\n",
       "      <td>0</td>\n",
       "      <td>1</td>\n",
       "      <td>2</td>\n",
       "    </tr>\n",
       "    <tr>\n",
       "      <th>c</th>\n",
       "      <td>6</td>\n",
       "      <td>7</td>\n",
       "      <td>8</td>\n",
       "    </tr>\n",
       "    <tr>\n",
       "      <th>f</th>\n",
       "      <td>15</td>\n",
       "      <td>16</td>\n",
       "      <td>17</td>\n",
       "    </tr>\n",
       "  </tbody>\n",
       "</table>\n",
       "</div>"
      ],
      "text/plain": [
       "    A   B   C\n",
       "a   0   1   2\n",
       "c   6   7   8\n",
       "f  15  16  17"
      ]
     },
     "execution_count": 54,
     "metadata": {},
     "output_type": "execute_result"
    }
   ],
   "source": [
    "mask = [True, False, True, False, False, True]\n",
    "df[mask]"
   ]
  },
  {
   "cell_type": "markdown",
   "id": "c44a070a",
   "metadata": {
    "hidden": true
   },
   "source": [
    "La selección anterior, devuelve aquellas filas para que el elemento correspondiente del vector `mask` tome el valor `True`"
   ]
  },
  {
   "cell_type": "markdown",
   "id": "583ec857",
   "metadata": {
    "hidden": true
   },
   "source": [
    "**La verdadera potencia** se aprecia cuando la mascara se genera a partir de los propios datos del dataframe, por ejemplo: Si se desea seleccionar las filas para que el valor de la **columna A mayor que 7**"
   ]
  },
  {
   "cell_type": "code",
   "execution_count": 8,
   "id": "6987dd29",
   "metadata": {
    "hidden": true
   },
   "outputs": [
    {
     "data": {
      "text/html": [
       "<div>\n",
       "<style scoped>\n",
       "    .dataframe tbody tr th:only-of-type {\n",
       "        vertical-align: middle;\n",
       "    }\n",
       "\n",
       "    .dataframe tbody tr th {\n",
       "        vertical-align: top;\n",
       "    }\n",
       "\n",
       "    .dataframe thead th {\n",
       "        text-align: right;\n",
       "    }\n",
       "</style>\n",
       "<table border=\"1\" class=\"dataframe\">\n",
       "  <thead>\n",
       "    <tr style=\"text-align: right;\">\n",
       "      <th></th>\n",
       "      <th>A</th>\n",
       "      <th>B</th>\n",
       "      <th>C</th>\n",
       "    </tr>\n",
       "  </thead>\n",
       "  <tbody>\n",
       "    <tr>\n",
       "      <th>d</th>\n",
       "      <td>9</td>\n",
       "      <td>10</td>\n",
       "      <td>11</td>\n",
       "    </tr>\n",
       "    <tr>\n",
       "      <th>e</th>\n",
       "      <td>12</td>\n",
       "      <td>13</td>\n",
       "      <td>14</td>\n",
       "    </tr>\n",
       "    <tr>\n",
       "      <th>f</th>\n",
       "      <td>15</td>\n",
       "      <td>16</td>\n",
       "      <td>17</td>\n",
       "    </tr>\n",
       "  </tbody>\n",
       "</table>\n",
       "</div>"
      ],
      "text/plain": [
       "    A   B   C\n",
       "d   9  10  11\n",
       "e  12  13  14\n",
       "f  15  16  17"
      ]
     },
     "execution_count": 8,
     "metadata": {},
     "output_type": "execute_result"
    }
   ],
   "source": [
    "df[df.A > 7]"
   ]
  },
  {
   "cell_type": "markdown",
   "id": "8c72b54c",
   "metadata": {
    "hidden": true
   },
   "source": [
    "Combinación de seleccion booleana con los métodos loc, iloc o get"
   ]
  },
  {
   "cell_type": "code",
   "execution_count": 9,
   "id": "82c945f3",
   "metadata": {
    "hidden": true
   },
   "outputs": [
    {
     "data": {
      "text/html": [
       "<div>\n",
       "<style scoped>\n",
       "    .dataframe tbody tr th:only-of-type {\n",
       "        vertical-align: middle;\n",
       "    }\n",
       "\n",
       "    .dataframe tbody tr th {\n",
       "        vertical-align: top;\n",
       "    }\n",
       "\n",
       "    .dataframe thead th {\n",
       "        text-align: right;\n",
       "    }\n",
       "</style>\n",
       "<table border=\"1\" class=\"dataframe\">\n",
       "  <thead>\n",
       "    <tr style=\"text-align: right;\">\n",
       "      <th></th>\n",
       "      <th>A</th>\n",
       "      <th>B</th>\n",
       "      <th>C</th>\n",
       "    </tr>\n",
       "  </thead>\n",
       "  <tbody>\n",
       "    <tr>\n",
       "      <th>c</th>\n",
       "      <td>6</td>\n",
       "      <td>7</td>\n",
       "      <td>8</td>\n",
       "    </tr>\n",
       "    <tr>\n",
       "      <th>d</th>\n",
       "      <td>9</td>\n",
       "      <td>10</td>\n",
       "      <td>11</td>\n",
       "    </tr>\n",
       "    <tr>\n",
       "      <th>e</th>\n",
       "      <td>12</td>\n",
       "      <td>13</td>\n",
       "      <td>14</td>\n",
       "    </tr>\n",
       "    <tr>\n",
       "      <th>f</th>\n",
       "      <td>15</td>\n",
       "      <td>16</td>\n",
       "      <td>17</td>\n",
       "    </tr>\n",
       "  </tbody>\n",
       "</table>\n",
       "</div>"
      ],
      "text/plain": [
       "    A   B   C\n",
       "c   6   7   8\n",
       "d   9  10  11\n",
       "e  12  13  14\n",
       "f  15  16  17"
      ]
     },
     "execution_count": 9,
     "metadata": {},
     "output_type": "execute_result"
    }
   ],
   "source": [
    "df.loc[df.B > 6]"
   ]
  },
  {
   "cell_type": "markdown",
   "id": "e5dd9855",
   "metadata": {
    "hidden": true
   },
   "source": [
    "Sin embargo con el método iloc, es obligatorio extraer los valores del dataframe **resultante** de la comparación"
   ]
  },
  {
   "cell_type": "code",
   "execution_count": 12,
   "id": "53c2c308",
   "metadata": {
    "hidden": true
   },
   "outputs": [
    {
     "name": "stdout",
     "output_type": "stream",
     "text": [
      "<class 'pandas.core.series.Series'>\n"
     ]
    },
    {
     "data": {
      "text/html": [
       "<div>\n",
       "<style scoped>\n",
       "    .dataframe tbody tr th:only-of-type {\n",
       "        vertical-align: middle;\n",
       "    }\n",
       "\n",
       "    .dataframe tbody tr th {\n",
       "        vertical-align: top;\n",
       "    }\n",
       "\n",
       "    .dataframe thead th {\n",
       "        text-align: right;\n",
       "    }\n",
       "</style>\n",
       "<table border=\"1\" class=\"dataframe\">\n",
       "  <thead>\n",
       "    <tr style=\"text-align: right;\">\n",
       "      <th></th>\n",
       "      <th>A</th>\n",
       "      <th>B</th>\n",
       "      <th>C</th>\n",
       "    </tr>\n",
       "  </thead>\n",
       "  <tbody>\n",
       "    <tr>\n",
       "      <th>c</th>\n",
       "      <td>6</td>\n",
       "      <td>7</td>\n",
       "      <td>8</td>\n",
       "    </tr>\n",
       "    <tr>\n",
       "      <th>d</th>\n",
       "      <td>9</td>\n",
       "      <td>10</td>\n",
       "      <td>11</td>\n",
       "    </tr>\n",
       "    <tr>\n",
       "      <th>e</th>\n",
       "      <td>12</td>\n",
       "      <td>13</td>\n",
       "      <td>14</td>\n",
       "    </tr>\n",
       "    <tr>\n",
       "      <th>f</th>\n",
       "      <td>15</td>\n",
       "      <td>16</td>\n",
       "      <td>17</td>\n",
       "    </tr>\n",
       "  </tbody>\n",
       "</table>\n",
       "</div>"
      ],
      "text/plain": [
       "    A   B   C\n",
       "c   6   7   8\n",
       "d   9  10  11\n",
       "e  12  13  14\n",
       "f  15  16  17"
      ]
     },
     "execution_count": 12,
     "metadata": {},
     "output_type": "execute_result"
    }
   ],
   "source": [
    "print(type(df.B > 6))\n",
    "df.iloc[(df.B > 6).values]"
   ]
  },
  {
   "cell_type": "markdown",
   "id": "2a4c5349",
   "metadata": {},
   "source": [
    "### Selección aleatoria"
   ]
  }
 ],
 "metadata": {
  "kernelspec": {
   "display_name": "Python 3 (ipykernel)",
   "language": "python",
   "name": "python3"
  },
  "language_info": {
   "codemirror_mode": {
    "name": "ipython",
    "version": 3
   },
   "file_extension": ".py",
   "mimetype": "text/x-python",
   "name": "python",
   "nbconvert_exporter": "python",
   "pygments_lexer": "ipython3",
   "version": "3.9.7"
  },
  "nbTranslate": {
   "displayLangs": [
    "*"
   ],
   "hotkey": "alt-t",
   "langInMainMenu": true,
   "sourceLang": "en",
   "targetLang": "fr",
   "useGoogleTranslate": true
  },
  "toc": {
   "base_numbering": 1,
   "nav_menu": {},
   "number_sections": true,
   "sideBar": true,
   "skip_h1_title": false,
   "title_cell": "Table of Contents",
   "title_sidebar": "Contents",
   "toc_cell": false,
   "toc_position": {
    "height": "calc(100% - 180px)",
    "left": "10px",
    "top": "150px",
    "width": "273.188px"
   },
   "toc_section_display": true,
   "toc_window_display": false
  }
 },
 "nbformat": 4,
 "nbformat_minor": 5
}
